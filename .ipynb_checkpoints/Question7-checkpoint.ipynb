{
 "cells": [
  {
   "cell_type": "code",
   "execution_count": 1,
   "metadata": {},
   "outputs": [],
   "source": [
    "import matplotlib.pyplot as plt\n",
    "import pandas as pd\n",
    "import numpy as np\n",
    "import json\n",
    "import gmaps\n",
    "from pandas import DataFrame\n",
    "from scipy.stats import linregress\n",
    "# The statistical module used to run chi square test\n",
    "import scipy.stats as stats\n",
    "%matplotlib inline\n",
    "import warnings\n",
    "warnings.filterwarnings('ignore')"
   ]
  },
  {
   "cell_type": "code",
   "execution_count": 2,
   "metadata": {},
   "outputs": [
    {
     "data": {
      "text/html": [
       "<div>\n",
       "<style scoped>\n",
       "    .dataframe tbody tr th:only-of-type {\n",
       "        vertical-align: middle;\n",
       "    }\n",
       "\n",
       "    .dataframe tbody tr th {\n",
       "        vertical-align: top;\n",
       "    }\n",
       "\n",
       "    .dataframe thead th {\n",
       "        text-align: right;\n",
       "    }\n",
       "</style>\n",
       "<table border=\"1\" class=\"dataframe\">\n",
       "  <thead>\n",
       "    <tr style=\"text-align: right;\">\n",
       "      <th></th>\n",
       "      <th>Record ID</th>\n",
       "      <th>Incident Year</th>\n",
       "      <th>Incident Month</th>\n",
       "      <th>Incident Day</th>\n",
       "      <th>Operator ID</th>\n",
       "      <th>Operator</th>\n",
       "      <th>Aircraft</th>\n",
       "      <th>Aircraft Type</th>\n",
       "      <th>Aircraft Make</th>\n",
       "      <th>Aircraft Model</th>\n",
       "      <th>...</th>\n",
       "      <th>Fuselage Strike</th>\n",
       "      <th>Fuselage Damage</th>\n",
       "      <th>Landing Gear Strike</th>\n",
       "      <th>Landing Gear Damage</th>\n",
       "      <th>Tail Strike</th>\n",
       "      <th>Tail Damage</th>\n",
       "      <th>Lights Strike</th>\n",
       "      <th>Lights Damage</th>\n",
       "      <th>Other Strike</th>\n",
       "      <th>Other Damage</th>\n",
       "    </tr>\n",
       "  </thead>\n",
       "  <tbody>\n",
       "    <tr>\n",
       "      <th>0</th>\n",
       "      <td>127128</td>\n",
       "      <td>1990</td>\n",
       "      <td>1</td>\n",
       "      <td>1</td>\n",
       "      <td>DAL</td>\n",
       "      <td>DELTA AIR LINES</td>\n",
       "      <td>B-757-200</td>\n",
       "      <td>A</td>\n",
       "      <td>148</td>\n",
       "      <td>26</td>\n",
       "      <td>...</td>\n",
       "      <td>0</td>\n",
       "      <td>0</td>\n",
       "      <td>0</td>\n",
       "      <td>0</td>\n",
       "      <td>1</td>\n",
       "      <td>1</td>\n",
       "      <td>0</td>\n",
       "      <td>0</td>\n",
       "      <td>0</td>\n",
       "      <td>0</td>\n",
       "    </tr>\n",
       "    <tr>\n",
       "      <th>1</th>\n",
       "      <td>129779</td>\n",
       "      <td>1990</td>\n",
       "      <td>1</td>\n",
       "      <td>1</td>\n",
       "      <td>HAL</td>\n",
       "      <td>HAWAIIAN AIR</td>\n",
       "      <td>DC-9</td>\n",
       "      <td>A</td>\n",
       "      <td>583</td>\n",
       "      <td>90</td>\n",
       "      <td>...</td>\n",
       "      <td>0</td>\n",
       "      <td>0</td>\n",
       "      <td>0</td>\n",
       "      <td>0</td>\n",
       "      <td>0</td>\n",
       "      <td>0</td>\n",
       "      <td>0</td>\n",
       "      <td>0</td>\n",
       "      <td>1</td>\n",
       "      <td>0</td>\n",
       "    </tr>\n",
       "    <tr>\n",
       "      <th>2</th>\n",
       "      <td>2258</td>\n",
       "      <td>1990</td>\n",
       "      <td>1</td>\n",
       "      <td>3</td>\n",
       "      <td>MIL</td>\n",
       "      <td>MILITARY</td>\n",
       "      <td>A-10A</td>\n",
       "      <td>A</td>\n",
       "      <td>345</td>\n",
       "      <td>NaN</td>\n",
       "      <td>...</td>\n",
       "      <td>0</td>\n",
       "      <td>0</td>\n",
       "      <td>0</td>\n",
       "      <td>0</td>\n",
       "      <td>0</td>\n",
       "      <td>0</td>\n",
       "      <td>0</td>\n",
       "      <td>0</td>\n",
       "      <td>0</td>\n",
       "      <td>0</td>\n",
       "    </tr>\n",
       "    <tr>\n",
       "      <th>3</th>\n",
       "      <td>2257</td>\n",
       "      <td>1990</td>\n",
       "      <td>1</td>\n",
       "      <td>3</td>\n",
       "      <td>MIL</td>\n",
       "      <td>MILITARY</td>\n",
       "      <td>F-16</td>\n",
       "      <td>A</td>\n",
       "      <td>561</td>\n",
       "      <td>NaN</td>\n",
       "      <td>...</td>\n",
       "      <td>0</td>\n",
       "      <td>0</td>\n",
       "      <td>0</td>\n",
       "      <td>0</td>\n",
       "      <td>0</td>\n",
       "      <td>0</td>\n",
       "      <td>0</td>\n",
       "      <td>0</td>\n",
       "      <td>0</td>\n",
       "      <td>0</td>\n",
       "    </tr>\n",
       "    <tr>\n",
       "      <th>4</th>\n",
       "      <td>129734</td>\n",
       "      <td>1990</td>\n",
       "      <td>1</td>\n",
       "      <td>4</td>\n",
       "      <td>HAL</td>\n",
       "      <td>HAWAIIAN AIR</td>\n",
       "      <td>DC-9</td>\n",
       "      <td>A</td>\n",
       "      <td>583</td>\n",
       "      <td>90</td>\n",
       "      <td>...</td>\n",
       "      <td>0</td>\n",
       "      <td>0</td>\n",
       "      <td>0</td>\n",
       "      <td>0</td>\n",
       "      <td>0</td>\n",
       "      <td>0</td>\n",
       "      <td>0</td>\n",
       "      <td>0</td>\n",
       "      <td>1</td>\n",
       "      <td>0</td>\n",
       "    </tr>\n",
       "    <tr>\n",
       "      <th>...</th>\n",
       "      <td>...</td>\n",
       "      <td>...</td>\n",
       "      <td>...</td>\n",
       "      <td>...</td>\n",
       "      <td>...</td>\n",
       "      <td>...</td>\n",
       "      <td>...</td>\n",
       "      <td>...</td>\n",
       "      <td>...</td>\n",
       "      <td>...</td>\n",
       "      <td>...</td>\n",
       "      <td>...</td>\n",
       "      <td>...</td>\n",
       "      <td>...</td>\n",
       "      <td>...</td>\n",
       "      <td>...</td>\n",
       "      <td>...</td>\n",
       "      <td>...</td>\n",
       "      <td>...</td>\n",
       "      <td>...</td>\n",
       "      <td>...</td>\n",
       "    </tr>\n",
       "    <tr>\n",
       "      <th>133551</th>\n",
       "      <td>366091</td>\n",
       "      <td>2015</td>\n",
       "      <td>9</td>\n",
       "      <td>30</td>\n",
       "      <td>SWA</td>\n",
       "      <td>SOUTHWEST AIRLINES</td>\n",
       "      <td>B-737-700</td>\n",
       "      <td>A</td>\n",
       "      <td>148</td>\n",
       "      <td>42.0</td>\n",
       "      <td>...</td>\n",
       "      <td>0</td>\n",
       "      <td>0</td>\n",
       "      <td>0</td>\n",
       "      <td>0</td>\n",
       "      <td>0</td>\n",
       "      <td>0</td>\n",
       "      <td>0</td>\n",
       "      <td>0</td>\n",
       "      <td>0</td>\n",
       "      <td>0</td>\n",
       "    </tr>\n",
       "    <tr>\n",
       "      <th>133552</th>\n",
       "      <td>365902</td>\n",
       "      <td>2015</td>\n",
       "      <td>9</td>\n",
       "      <td>30</td>\n",
       "      <td>SWA</td>\n",
       "      <td>SOUTHWEST AIRLINES</td>\n",
       "      <td>B-737-700</td>\n",
       "      <td>A</td>\n",
       "      <td>148</td>\n",
       "      <td>42.0</td>\n",
       "      <td>...</td>\n",
       "      <td>0</td>\n",
       "      <td>0</td>\n",
       "      <td>0</td>\n",
       "      <td>0</td>\n",
       "      <td>0</td>\n",
       "      <td>0</td>\n",
       "      <td>0</td>\n",
       "      <td>0</td>\n",
       "      <td>0</td>\n",
       "      <td>0</td>\n",
       "    </tr>\n",
       "    <tr>\n",
       "      <th>133553</th>\n",
       "      <td>365903</td>\n",
       "      <td>2015</td>\n",
       "      <td>9</td>\n",
       "      <td>30</td>\n",
       "      <td>BUS</td>\n",
       "      <td>BUSINESS</td>\n",
       "      <td>CITATIONJET</td>\n",
       "      <td>A</td>\n",
       "      <td>226</td>\n",
       "      <td>49.0</td>\n",
       "      <td>...</td>\n",
       "      <td>1</td>\n",
       "      <td>1</td>\n",
       "      <td>0</td>\n",
       "      <td>0</td>\n",
       "      <td>0</td>\n",
       "      <td>0</td>\n",
       "      <td>0</td>\n",
       "      <td>0</td>\n",
       "      <td>0</td>\n",
       "      <td>0</td>\n",
       "    </tr>\n",
       "    <tr>\n",
       "      <th>133554</th>\n",
       "      <td>366046</td>\n",
       "      <td>2015</td>\n",
       "      <td>9</td>\n",
       "      <td>30</td>\n",
       "      <td>QXE</td>\n",
       "      <td>HORIZON AIR</td>\n",
       "      <td>DHC8 DASH 8</td>\n",
       "      <td>A</td>\n",
       "      <td>303</td>\n",
       "      <td>10.0</td>\n",
       "      <td>...</td>\n",
       "      <td>1</td>\n",
       "      <td>0</td>\n",
       "      <td>0</td>\n",
       "      <td>0</td>\n",
       "      <td>0</td>\n",
       "      <td>0</td>\n",
       "      <td>0</td>\n",
       "      <td>0</td>\n",
       "      <td>0</td>\n",
       "      <td>0</td>\n",
       "    </tr>\n",
       "    <tr>\n",
       "      <th>133555</th>\n",
       "      <td>365823</td>\n",
       "      <td>2015</td>\n",
       "      <td>9</td>\n",
       "      <td>30</td>\n",
       "      <td>AWI</td>\n",
       "      <td>AIR WISCONSIN AIRLINES</td>\n",
       "      <td>CRJ100/200</td>\n",
       "      <td>A</td>\n",
       "      <td>188</td>\n",
       "      <td>10.0</td>\n",
       "      <td>...</td>\n",
       "      <td>0</td>\n",
       "      <td>0</td>\n",
       "      <td>0</td>\n",
       "      <td>0</td>\n",
       "      <td>0</td>\n",
       "      <td>0</td>\n",
       "      <td>0</td>\n",
       "      <td>0</td>\n",
       "      <td>1</td>\n",
       "      <td>0</td>\n",
       "    </tr>\n",
       "  </tbody>\n",
       "</table>\n",
       "<p>133556 rows × 66 columns</p>\n",
       "</div>"
      ],
      "text/plain": [
       "        Record ID  Incident Year  Incident Month  Incident Day Operator ID  \\\n",
       "0          127128           1990               1             1         DAL   \n",
       "1          129779           1990               1             1         HAL   \n",
       "2            2258           1990               1             3         MIL   \n",
       "3            2257           1990               1             3         MIL   \n",
       "4          129734           1990               1             4         HAL   \n",
       "...           ...            ...             ...           ...         ...   \n",
       "133551     366091           2015               9            30         SWA   \n",
       "133552     365902           2015               9            30         SWA   \n",
       "133553     365903           2015               9            30         BUS   \n",
       "133554     366046           2015               9            30         QXE   \n",
       "133555     365823           2015               9            30         AWI   \n",
       "\n",
       "                      Operator     Aircraft Aircraft Type Aircraft Make  \\\n",
       "0              DELTA AIR LINES    B-757-200             A           148   \n",
       "1                 HAWAIIAN AIR         DC-9             A           583   \n",
       "2                     MILITARY        A-10A             A           345   \n",
       "3                     MILITARY         F-16             A           561   \n",
       "4                 HAWAIIAN AIR         DC-9             A           583   \n",
       "...                        ...          ...           ...           ...   \n",
       "133551      SOUTHWEST AIRLINES    B-737-700             A           148   \n",
       "133552      SOUTHWEST AIRLINES    B-737-700             A           148   \n",
       "133553                BUSINESS  CITATIONJET             A           226   \n",
       "133554             HORIZON AIR  DHC8 DASH 8             A           303   \n",
       "133555  AIR WISCONSIN AIRLINES   CRJ100/200             A           188   \n",
       "\n",
       "       Aircraft Model  ...  Fuselage Strike  Fuselage Damage  \\\n",
       "0                  26  ...                0                0   \n",
       "1                  90  ...                0                0   \n",
       "2                 NaN  ...                0                0   \n",
       "3                 NaN  ...                0                0   \n",
       "4                  90  ...                0                0   \n",
       "...               ...  ...              ...              ...   \n",
       "133551           42.0  ...                0                0   \n",
       "133552           42.0  ...                0                0   \n",
       "133553           49.0  ...                1                1   \n",
       "133554           10.0  ...                1                0   \n",
       "133555           10.0  ...                0                0   \n",
       "\n",
       "       Landing Gear Strike  Landing Gear Damage Tail Strike Tail Damage  \\\n",
       "0                        0                    0           1           1   \n",
       "1                        0                    0           0           0   \n",
       "2                        0                    0           0           0   \n",
       "3                        0                    0           0           0   \n",
       "4                        0                    0           0           0   \n",
       "...                    ...                  ...         ...         ...   \n",
       "133551                   0                    0           0           0   \n",
       "133552                   0                    0           0           0   \n",
       "133553                   0                    0           0           0   \n",
       "133554                   0                    0           0           0   \n",
       "133555                   0                    0           0           0   \n",
       "\n",
       "        Lights Strike Lights Damage  Other Strike Other Damage  \n",
       "0                   0             0             0            0  \n",
       "1                   0             0             1            0  \n",
       "2                   0             0             0            0  \n",
       "3                   0             0             0            0  \n",
       "4                   0             0             1            0  \n",
       "...               ...           ...           ...          ...  \n",
       "133551              0             0             0            0  \n",
       "133552              0             0             0            0  \n",
       "133553              0             0             0            0  \n",
       "133554              0             0             0            0  \n",
       "133555              0             0             1            0  \n",
       "\n",
       "[133556 rows x 66 columns]"
      ]
     },
     "execution_count": 2,
     "metadata": {},
     "output_type": "execute_result"
    }
   ],
   "source": [
    "# File to Load (Remember to Change These)\n",
    "file_to_load = \"Resources/Cleaned_data.csv\"\n",
    "\n",
    "# Read File and store into Pandas data frame\n",
    "cbs_df = pd.read_csv(file_to_load,low_memory=False)\n",
    "cbs_df"
   ]
  },
  {
   "cell_type": "code",
   "execution_count": 3,
   "metadata": {},
   "outputs": [],
   "source": [
    "##  Birds strikes due to Visibility and Precipitation?"
   ]
  },
  {
   "cell_type": "code",
   "execution_count": 4,
   "metadata": {},
   "outputs": [
    {
     "data": {
      "text/plain": [
       "array(['0', 'DAY', 'NIGHT', 'DUSK', 'DAWN', 'UNKNOWN'], dtype=object)"
      ]
     },
     "execution_count": 4,
     "metadata": {},
     "output_type": "execute_result"
    }
   ],
   "source": [
    "# get the unique values in Visibility\n",
    "cbs_df[\"Visibility\"].unique()"
   ]
  },
  {
   "cell_type": "code",
   "execution_count": 5,
   "metadata": {},
   "outputs": [
    {
     "data": {
      "text/plain": [
       "DAY        67590\n",
       "NIGHT      32148\n",
       "0          25457\n",
       "DUSK        4891\n",
       "DAWN        3444\n",
       "UNKNOWN       26\n",
       "Name: Visibility, dtype: int64"
      ]
     },
     "execution_count": 5,
     "metadata": {},
     "output_type": "execute_result"
    }
   ],
   "source": [
    "# get the total number of unique values in Visibility\n",
    "cbs_df[\"Visibility\"].value_counts()"
   ]
  },
  {
   "cell_type": "code",
   "execution_count": 10,
   "metadata": {},
   "outputs": [
    {
     "data": {
      "image/png": "[encoded data removed]",
      "text/plain": [
       "<Figure size 432x288 with 1 Axes>"
      ]
     },
     "metadata": {
      "needs_background": "light"
     },
     "output_type": "display_data"
    }
   ],
   "source": [
    "# DATA SET 1 for bird strikes due to Visibility\n",
    "Visibility = ['DAY','NIGHT','NONE', 'DUSK', 'DAWN', 'UNKNOWN']\n",
    "bird_strikes = cbs_df[\"Visibility\"].value_counts()\n",
    "\n",
    "x_axis = np.arange(0, len(Visibility))\n",
    "tick_locations = []\n",
    "\n",
    "for x in x_axis:\n",
    "    tick_locations.append(x)\n",
    "\n",
    "plt.title(\"Visibility vs bird strikes\")\n",
    "plt.xlabel(\"Visibility\")\n",
    "plt.ylabel(\"Number of bird strikes\")\n",
    "\n",
    "plt.xlim(-0.75, len(Visibility)-.25)\n",
    "plt.ylim(0, max(bird_strikes) + 10000)\n",
    "\n",
    "plt.bar(x_axis, bird_strikes, facecolor=\"red\", alpha=0.75, align=\"center\")\n",
    "plt.xticks(tick_locations, Visibility)\n",
    "\n",
    "# Saves an image of our chart so that we can view it in a folder\n",
    "plt.savefig(\"Output_data/Visibility vs bird strikes.png\")\n",
    "\n",
    "plt.show()\n",
    "\n",
    "\n",
    "## Based on this bar chart. we can see most of the bird strikes happening under the \"Day\" and \"NONE\" weather condition.So I think Visibility\n",
    "## will not be the strongest evidence that will result the bird strikes happening.However,there are many bird strikes happening\n",
    "## at night so Visibility could be one of the factors that result bird strikes happening."
   ]
  },
  {
   "cell_type": "code",
   "execution_count": 7,
   "metadata": {},
   "outputs": [
    {
     "data": {
      "text/plain": [
       "array(['0', 'NONE', 'FOG', 'RAIN', 'SNOW', 'FOG, RAIN', 'RAIN, SNOW',\n",
       "       'FOG, SNOW', 'FOG, RAIN, SNOW'], dtype=object)"
      ]
     },
     "execution_count": 7,
     "metadata": {},
     "output_type": "execute_result"
    }
   ],
   "source": [
    "# get the unique values in Precipitation\n",
    "cbs_df[\"Precipitation\"].unique()"
   ]
  },
  {
   "cell_type": "code",
   "execution_count": 8,
   "metadata": {},
   "outputs": [
    {
     "data": {
      "text/plain": [
       "NONE               79256\n",
       "0                  46657\n",
       "RAIN                5151\n",
       "FOG                 1913\n",
       "SNOW                 306\n",
       "FOG, RAIN            237\n",
       "RAIN, SNOW            19\n",
       "FOG, SNOW             12\n",
       "FOG, RAIN, SNOW        5\n",
       "Name: Precipitation, dtype: int64"
      ]
     },
     "execution_count": 8,
     "metadata": {},
     "output_type": "execute_result"
    }
   ],
   "source": [
    "# get the total number of unique values in Precipitation\n",
    "cbs_df[\"Precipitation\"].value_counts()\n",
    "# None = Clear weather"
   ]
  },
  {
   "cell_type": "code",
   "execution_count": 31,
   "metadata": {},
   "outputs": [
    {
     "data": {
      "image/png": "[encoded data removed]",
      "text/plain": [
       "<Figure size 432x288 with 1 Axes>"
      ]
     },
     "metadata": {
      "needs_background": "light"
     },
     "output_type": "display_data"
    }
   ],
   "source": [
    "# DATA SET 1 for bird strikes due to Precipitation\n",
    "# None and 0 = Clear weather\n",
    "Precipitation = ['Clear', \"None\", 'RAIN', 'FOG', 'SNOW', 'FOG, RAIN', 'RAIN, SNOW',\n",
    "       'FOG, SNOW', 'FOG, RAIN, SNOW']\n",
    "bird_strikes1 = cbs_df[\"Precipitation\"].value_counts()\n",
    "\n",
    "x_axis = np.arange(0, len(Precipitation))\n",
    "tick_locations = []\n",
    "\n",
    "for x in x_axis:\n",
    "    tick_locations.append(x)\n",
    "\n",
    "plt.title(\"Precipitation vs bird strikes\")\n",
    "plt.xlabel(\"Precipitation\")\n",
    "plt.ylabel(\"Number of bird strikes\")\n",
    "\n",
    "plt.xlim(-0.5, len(Precipitation)-0.5)\n",
    "plt.ylim(0, max(bird_strikes1) + 5000)\n",
    "\n",
    "plt.bar(x_axis, bird_strikes1, facecolor=\"red\", alpha=0.75, align=\"center\")\n",
    "plt.xticks(tick_locations, Precipitation)\n",
    "\n",
    "# Saves an image of our chart so that we can view it in a folder\n",
    "plt.savefig(\"Output_data/Precipitation vs bird strikes.png\")\n",
    "\n",
    "plt.show()\n",
    "\n",
    "\n",
    "## Based on this bar chart. we can see most of the bird strikes happening under the \"clear\" weather condition.So I think Precipitation\n",
    "## probably will not be the main factors that result bird strikes happening."
   ]
  },
  {
   "cell_type": "code",
   "execution_count": 12,
   "metadata": {},
   "outputs": [
    {
     "data": {
      "text/plain": [
       "array([  0.,   1.,   2.,   7.,   5.,   4.,   3., 100.])"
      ]
     },
     "execution_count": 12,
     "metadata": {},
     "output_type": "execute_result"
    }
   ],
   "source": [
    "# get the unique values in Injuries\n",
    "cbs_df[\"Injuries\"].unique()"
   ]
  },
  {
   "cell_type": "code",
   "execution_count": 13,
   "metadata": {},
   "outputs": [
    {
     "data": {
      "text/plain": [
       "0.0      133336\n",
       "1.0         172\n",
       "2.0          39\n",
       "5.0           2\n",
       "7.0           2\n",
       "4.0           2\n",
       "3.0           2\n",
       "100.0         1\n",
       "Name: Injuries, dtype: int64"
      ]
     },
     "execution_count": 13,
     "metadata": {},
     "output_type": "execute_result"
    }
   ],
   "source": [
    "# get the total number of unique values in Injuries\n",
    "cbs_df[\"Injuries\"].value_counts()"
   ]
  },
  {
   "cell_type": "code",
   "execution_count": 14,
   "metadata": {},
   "outputs": [
    {
     "data": {
      "text/plain": [
       "array([0., 1., 2., 5., 8.])"
      ]
     },
     "execution_count": 14,
     "metadata": {},
     "output_type": "execute_result"
    }
   ],
   "source": [
    "# get the unique values in Fatalities\n",
    "cbs_df[\"Fatalities\"].unique()"
   ]
  },
  {
   "cell_type": "code",
   "execution_count": 15,
   "metadata": {},
   "outputs": [
    {
     "data": {
      "text/plain": [
       "0.0    133544\n",
       "1.0         7\n",
       "2.0         3\n",
       "8.0         1\n",
       "5.0         1\n",
       "Name: Fatalities, dtype: int64"
      ]
     },
     "execution_count": 15,
     "metadata": {},
     "output_type": "execute_result"
    }
   ],
   "source": [
    "# get the total number of unique values in Fatalities\n",
    "cbs_df[\"Fatalities\"].value_counts()"
   ]
  },
  {
   "cell_type": "code",
   "execution_count": 16,
   "metadata": {},
   "outputs": [
    {
     "data": {
      "text/plain": [
       "NONE               79256\n",
       "0                  46657\n",
       "RAIN                5151\n",
       "FOG                 1913\n",
       "SNOW                 306\n",
       "FOG, RAIN            237\n",
       "RAIN, SNOW            19\n",
       "FOG, SNOW             12\n",
       "FOG, RAIN, SNOW        5\n",
       "Name: Precipitation, dtype: int64"
      ]
     },
     "execution_count": 16,
     "metadata": {},
     "output_type": "execute_result"
    }
   ],
   "source": [
    "#(Precipitation = None and 0)\n",
    "cbs_df[\"Precipitation\"].value_counts()\n",
    "# None=Clear weather=79256+46657=125913"
   ]
  },
  {
   "cell_type": "code",
   "execution_count": 17,
   "metadata": {},
   "outputs": [
    {
     "data": {
      "text/plain": [
       "DAY        67590\n",
       "NIGHT      32148\n",
       "0          25457\n",
       "DUSK        4891\n",
       "DAWN        3444\n",
       "UNKNOWN       26\n",
       "Name: Visibility, dtype: int64"
      ]
     },
     "execution_count": 17,
     "metadata": {},
     "output_type": "execute_result"
    }
   ],
   "source": [
    "#(Visibility = dawn+day)\n",
    "# get the total number of unique values in Visibility\n",
    "\n",
    "cbs_df[\"Visibility\"].value_counts()\n",
    "## dawn+day= 67590+3444= 71034"
   ]
  },
  {
   "cell_type": "code",
   "execution_count": 18,
   "metadata": {},
   "outputs": [],
   "source": [
    "# Hypothesis 1: More injuries+fatalities happen in fair weather (Precipitation = None)\n",
    "# Hypothesis 2: More injuries+fatalities happen during the day (Visibility = dawn+day)\n",
    "\n",
    "A=125913 #(Precipitation = None)\n",
    "AA=5151+1913+306+237+19+12+5  #=7643 #Precipitation /= None and 0\n",
    "\n",
    "B=71034 #(Visibility = dawn+day)\n",
    "BB=32148+25457+4891+26  #= 62522 #(Visibility /= dawn+day)\n",
    "\n",
    "# DATA SET1\n",
    "Precipitation1 = [\"Clear\", \"Not Clear\"] ## Not clear = FOG, RAIN, SNOW \n",
    "members = [A,AA]\n",
    "colors = [\"yellowgreen\", \"red\"]\n",
    "explode = (0, 0.1)\n"
   ]
  },
  {
   "cell_type": "code",
   "execution_count": 19,
   "metadata": {},
   "outputs": [
    {
     "data": {
      "image/png": "[encoded data removed]",
      "text/plain": [
       "<Figure size 432x288 with 1 Axes>"
      ]
     },
     "metadata": {},
     "output_type": "display_data"
    }
   ],
   "source": [
    "plt.title(\"Precipitation(Clear vs not Clear)\")\n",
    "plt.pie(members, explode=explode, labels=Precipitation1, colors=colors,\n",
    "        autopct=\"%1.1f%%\", shadow=True, startangle=90)\n",
    "plt.axis(\"equal\")\n",
    "\n",
    "# Saves an image of our chart so that we can view it in a folder\n",
    "plt.savefig(\"Output_data/Precipitation(Clear vs not Clear).png\")\n",
    "\n",
    "plt.show()"
   ]
  },
  {
   "cell_type": "code",
   "execution_count": 20,
   "metadata": {},
   "outputs": [],
   "source": [
    "# DATA SET2\n",
    "gyms = [\"dawn and day\", \"not (dawn and day)\"]\n",
    "members = [B,BB]\n",
    "colors = [\"lightcoral\", \"lightskyblue\"]\n",
    "explode = (0, 0.1)\n"
   ]
  },
  {
   "cell_type": "code",
   "execution_count": 21,
   "metadata": {},
   "outputs": [
    {
     "data": {
      "image/png": "[encoded data removed]",
      "text/plain": [
       "<Figure size 432x288 with 1 Axes>"
      ]
     },
     "metadata": {},
     "output_type": "display_data"
    }
   ],
   "source": [
    "plt.title(\"Visibility(dawn and day vs not (dawn and day)\")\n",
    "plt.pie(members, explode=explode, labels=gyms, colors=colors,\n",
    "        autopct=\"%1.1f%%\", shadow=True, startangle=90)\n",
    "plt.axis(\"equal\")\n",
    "\n",
    "# Saves an image of our chart so that we can view it in a folder\n",
    "plt.savefig(\"Output_data/Visibility(dawn and day vs not (dawn and day).png\")\n",
    "plt.show()\n"
   ]
  },
  {
   "cell_type": "markdown",
   "metadata": {},
   "source": [
    "We want to run the chi square test for wherher the probabilities of the birds strikes happen in all different \"Visibility\" conditions are evenly distributed."
   ]
  },
  {
   "cell_type": "code",
   "execution_count": 22,
   "metadata": {},
   "outputs": [
    {
     "data": {
      "text/plain": [
       "DAY        67590\n",
       "NIGHT      32148\n",
       "0          25457\n",
       "DUSK        4891\n",
       "DAWN        3444\n",
       "UNKNOWN       26\n",
       "Name: Visibility, dtype: int64"
      ]
     },
     "execution_count": 22,
     "metadata": {},
     "output_type": "execute_result"
    }
   ],
   "source": [
    "# get the total number of unique values in Visibility\n",
    "cbs_df[\"Visibility\"].value_counts()"
   ]
  },
  {
   "cell_type": "code",
   "execution_count": 32,
   "metadata": {},
   "outputs": [
    {
     "data": {
      "text/html": [
       "<div>\n",
       "<style scoped>\n",
       "    .dataframe tbody tr th:only-of-type {\n",
       "        vertical-align: middle;\n",
       "    }\n",
       "\n",
       "    .dataframe tbody tr th {\n",
       "        vertical-align: top;\n",
       "    }\n",
       "\n",
       "    .dataframe thead th {\n",
       "        text-align: right;\n",
       "    }\n",
       "</style>\n",
       "<table border=\"1\" class=\"dataframe\">\n",
       "  <thead>\n",
       "    <tr style=\"text-align: right;\">\n",
       "      <th></th>\n",
       "      <th>observed</th>\n",
       "      <th>expected</th>\n",
       "    </tr>\n",
       "  </thead>\n",
       "  <tbody>\n",
       "    <tr>\n",
       "      <th>DAY</th>\n",
       "      <td>67590</td>\n",
       "      <td>22259</td>\n",
       "    </tr>\n",
       "    <tr>\n",
       "      <th>NIGHT</th>\n",
       "      <td>32148</td>\n",
       "      <td>22259</td>\n",
       "    </tr>\n",
       "    <tr>\n",
       "      <th>None</th>\n",
       "      <td>25457</td>\n",
       "      <td>22259</td>\n",
       "    </tr>\n",
       "    <tr>\n",
       "      <th>DUSK</th>\n",
       "      <td>4891</td>\n",
       "      <td>22259</td>\n",
       "    </tr>\n",
       "    <tr>\n",
       "      <th>DAWN</th>\n",
       "      <td>3444</td>\n",
       "      <td>22259</td>\n",
       "    </tr>\n",
       "    <tr>\n",
       "      <th>UNKNOWN</th>\n",
       "      <td>26</td>\n",
       "      <td>22259</td>\n",
       "    </tr>\n",
       "  </tbody>\n",
       "</table>\n",
       "</div>"
      ],
      "text/plain": [
       "         observed  expected\n",
       "DAY         67590     22259\n",
       "NIGHT       32148     22259\n",
       "None        25457     22259\n",
       "DUSK         4891     22259\n",
       "DAWN         3444     22259\n",
       "UNKNOWN        26     22259"
      ]
     },
     "execution_count": 32,
     "metadata": {},
     "output_type": "execute_result"
    }
   ],
   "source": [
    "# Observed data in Visibility, there are total of 6 different conditions. \n",
    "observed = pd.Series([67590, 32148, 25457, 4891, 3444, 26], index=[\"DAY\", \"NIGHT\", \"None\", \"DUSK\", \"DAWN\", \"UNKNOWN\"])\n",
    "\n",
    "# Create a data frame\n",
    "df = pd.DataFrame([observed]).T\n",
    "\n",
    "# total observations = 133556\n",
    "# Add a column whose default values are the expected values\n",
    "df[1] = 22259\n",
    "\n",
    "# Rename the columns\n",
    "df.columns = [\"observed\", \"expected\"]\n",
    "\n",
    "# View the data frame\n",
    "df"
   ]
  },
  {
   "cell_type": "code",
   "execution_count": 25,
   "metadata": {},
   "outputs": [],
   "source": [
    "# With six rows, the degree of freedom is 6-1 = 5\n",
    "# With a p-value of 0.05, the confidence level is 1.00-0.05 = 0.95.\n",
    "critical_value = stats.chi2.ppf(q = 0.95, df = 5)"
   ]
  },
  {
   "cell_type": "code",
   "execution_count": 26,
   "metadata": {},
   "outputs": [
    {
     "data": {
      "text/plain": [
       "11.070497693516351"
      ]
     },
     "execution_count": 26,
     "metadata": {},
     "output_type": "execute_result"
    }
   ],
   "source": [
    "# The critical value\n",
    "critical_value"
   ]
  },
  {
   "cell_type": "code",
   "execution_count": 27,
   "metadata": {},
   "outputs": [
    {
     "data": {
      "text/plain": [
       "Power_divergenceResult(statistic=148833.14722134866, pvalue=0.0)"
      ]
     },
     "execution_count": 27,
     "metadata": {},
     "output_type": "execute_result"
    }
   ],
   "source": [
    "# Run the chi square test with stats.chisquare()\n",
    "stats.chisquare(df['observed'], df['expected'])"
   ]
  },
  {
   "cell_type": "markdown",
   "metadata": {},
   "source": [
    "Conclusion:\n",
    "Since the chi-square value of 148833.147 at a confidence level of 95% exceeds the critical value of 11.07, we conclude that the numbers of the birds strikes happen in all different \"Visibility\" conditions are (not evenly distributed) statistically significant."
   ]
  },
  {
   "cell_type": "code",
   "execution_count": null,
   "metadata": {},
   "outputs": [],
   "source": []
  },
  {
   "cell_type": "markdown",
   "metadata": {},
   "source": [
    "Comparison of \"Precipitation\" and the sum of bird strikes happening in those \"Precipitation\" conditions."
   ]
  },
  {
   "cell_type": "code",
   "execution_count": 28,
   "metadata": {},
   "outputs": [
    {
     "data": {
      "text/plain": [
       "NONE               79256\n",
       "0                  46657\n",
       "RAIN                5151\n",
       "FOG                 1913\n",
       "SNOW                 306\n",
       "FOG, RAIN            237\n",
       "RAIN, SNOW            19\n",
       "FOG, SNOW             12\n",
       "FOG, RAIN, SNOW        5\n",
       "Name: Precipitation, dtype: int64"
      ]
     },
     "execution_count": 28,
     "metadata": {},
     "output_type": "execute_result"
    }
   ],
   "source": [
    "# get the total number of unique values in Precipitation\n",
    "cbs_df[\"Precipitation\"].value_counts()\n",
    "# None = Clear weather"
   ]
  },
  {
   "cell_type": "code",
   "execution_count": 29,
   "metadata": {},
   "outputs": [],
   "source": [
    "# Create dataset\n",
    "# X=[\"NONE\",\"RAIN\",\"FOG\",\"SNOW\",\"FOG, RAIN \",\"RAIN, SNOW\",\"FOG, SNOW\",\"FOG, RAIN, SNOW\"]\n",
    "# \"None\"=none+0 =79256+46657=125913\n",
    "# Y=[125913,5151,1913,306,237,19,12,5]"
   ]
  },
  {
   "cell_type": "code",
   "execution_count": 33,
   "metadata": {},
   "outputs": [
    {
     "data": {
      "text/html": [
       "<div>\n",
       "<style scoped>\n",
       "    .dataframe tbody tr th:only-of-type {\n",
       "        vertical-align: middle;\n",
       "    }\n",
       "\n",
       "    .dataframe tbody tr th {\n",
       "        vertical-align: top;\n",
       "    }\n",
       "\n",
       "    .dataframe thead th {\n",
       "        text-align: right;\n",
       "    }\n",
       "</style>\n",
       "<table border=\"1\" class=\"dataframe\">\n",
       "  <thead>\n",
       "    <tr style=\"text-align: right;\">\n",
       "      <th></th>\n",
       "      <th>Precipitation</th>\n",
       "      <th>counts</th>\n",
       "    </tr>\n",
       "  </thead>\n",
       "  <tbody>\n",
       "    <tr>\n",
       "      <th>0</th>\n",
       "      <td>NONE</td>\n",
       "      <td>125913</td>\n",
       "    </tr>\n",
       "    <tr>\n",
       "      <th>1</th>\n",
       "      <td>RAIN</td>\n",
       "      <td>5151</td>\n",
       "    </tr>\n",
       "    <tr>\n",
       "      <th>2</th>\n",
       "      <td>FOG</td>\n",
       "      <td>1913</td>\n",
       "    </tr>\n",
       "    <tr>\n",
       "      <th>3</th>\n",
       "      <td>SNOW</td>\n",
       "      <td>306</td>\n",
       "    </tr>\n",
       "    <tr>\n",
       "      <th>4</th>\n",
       "      <td>FOG, RAIN</td>\n",
       "      <td>237</td>\n",
       "    </tr>\n",
       "    <tr>\n",
       "      <th>5</th>\n",
       "      <td>RAIN, SNOW</td>\n",
       "      <td>19</td>\n",
       "    </tr>\n",
       "    <tr>\n",
       "      <th>6</th>\n",
       "      <td>FOG, SNOW</td>\n",
       "      <td>12</td>\n",
       "    </tr>\n",
       "    <tr>\n",
       "      <th>7</th>\n",
       "      <td>FOG, RAIN, SNOW</td>\n",
       "      <td>5</td>\n",
       "    </tr>\n",
       "  </tbody>\n",
       "</table>\n",
       "</div>"
      ],
      "text/plain": [
       "     Precipitation  counts\n",
       "0             NONE  125913\n",
       "1             RAIN    5151\n",
       "2              FOG    1913\n",
       "3             SNOW     306\n",
       "4       FOG, RAIN      237\n",
       "5       RAIN, SNOW      19\n",
       "6        FOG, SNOW      12\n",
       "7  FOG, RAIN, SNOW       5"
      ]
     },
     "execution_count": 33,
     "metadata": {},
     "output_type": "execute_result"
    }
   ],
   "source": [
    "Pre = pd.DataFrame({\n",
    "    \"Precipitation\": [\"NONE\",\"RAIN\",\"FOG\",\"SNOW\",\"FOG, RAIN \",\"RAIN, SNOW\",\"FOG, SNOW\",\"FOG, RAIN, SNOW\"],\n",
    "    \"counts\": [125913,5151,1913,306,237,19,12,5],\n",
    "})\n",
    "Pre"
   ]
  },
  {
   "cell_type": "code",
   "execution_count": 34,
   "metadata": {},
   "outputs": [
    {
     "data": {
      "image/png": "[encoded data removed]",
      "text/plain": [
       "<Figure size 720x720 with 1 Axes>"
      ]
     },
     "metadata": {
      "needs_background": "light"
     },
     "output_type": "display_data"
    }
   ],
   "source": [
    "# Create a boxplot to compare means\n",
    "Pre.boxplot(\"counts\", by=\"Precipitation\", figsize=(10, 10))\n",
    "# Saves an image of our chart so that we can view it in a folder\n",
    "plt.savefig(\"Output_data/Boxplot grouped by Precipitation.png\")"
   ]
  },
  {
   "cell_type": "code",
   "execution_count": 35,
   "metadata": {},
   "outputs": [],
   "source": [
    "# Extract individual groups\n",
    "group1 = Pre[Pre[\"Precipitation\"] == \"NONE\"][\"counts\"]\n",
    "group2 = Pre[Pre[\"Precipitation\"] == \"RAIN\"][\"counts\"]\n",
    "group3 = Pre[Pre[\"Precipitation\"] == \"FOG\"][\"counts\"]\n",
    "group4 = Pre[Pre[\"Precipitation\"] == \"SNOW\"][\"counts\"]\n",
    "group5 = Pre[Pre[\"Precipitation\"] == \"FOG, RAIN\"][\"counts\"]\n",
    "group6 = Pre[Pre[\"Precipitation\"] == \"RAIN, SNOW\"][\"counts\"]\n",
    "group7 = Pre[Pre[\"Precipitation\"] == \"FOG, SNOW\"][\"counts\"]\n",
    "group8 = Pre[Pre[\"Precipitation\"] == \"FOG, RAIN, SNOW\"][\"counts\"]"
   ]
  },
  {
   "cell_type": "code",
   "execution_count": 36,
   "metadata": {},
   "outputs": [
    {
     "data": {
      "text/plain": [
       "F_onewayResult(statistic=nan, pvalue=nan)"
      ]
     },
     "execution_count": 36,
     "metadata": {},
     "output_type": "execute_result"
    }
   ],
   "source": [
    "# Perform the ANOVA\n",
    "stats.f_oneway(group1, group2, group3, group4, group5, group6, group7, group8)"
   ]
  },
  {
   "cell_type": "raw",
   "metadata": {},
   "source": [
    "## Concludsions:\n",
    "1.\n",
    "There are more injuries+fatalities happen in fair weather (Precipitation = None) and during the day (Visibility = dawn+day).\n",
    "\n",
    "2.\n",
    "Based on the first bar chart. we can see most of the bird strikes happening under the \"Day\" and \"NONE\" weather condition.So I think Visibility will not be the strongest evidence that will result the bird strikes happening.However,there are many bird strikes happening at night so Visibility could be one of the factors that result bird strikes happening.\n",
    "\n",
    "3.\n",
    "Based on the second bar chart. we can see most of the bird strikes happening under the \"clear\" weather condition.So I think Precipitation probably will not be the main factors that result bird strikes happening.\n",
    "\n",
    "4.\n",
    "Since the chi-square value of 146106.25 at a confidence level of 95% exceeds the critical value of 11.07, we conclude that the numbers of the birds strikes happen in all different \"Visibility\" conditions are (not evenly distributed) statistically significant.\n",
    "\n",
    "5.\n",
    "Based on the Boxplot grouped by Precipitation.png and pvalue=nan, there is no much to see. Since \"None\"-Precipitation has the most frequently bird strikes to damage the planes, so I can say Precipitation is not statistically significant to bird strikes.\n",
    "\n",
    "6.\n",
    "Final recommendation: Don't take the planes when the birds are flying in the sky (when there is \"no Precipitation\"-clear sky and when \"Visibility\" is \"day, None and night\") because it would have a bigger chance to have a bird stike. \n",
    "And DO TAKE A PLANE when it is dawn and dusk in a day and there is Precipitation (like rain, fog, snow...) because birds are not flying at the sky at those moments."
   ]
  },
  {
   "cell_type": "code",
   "execution_count": null,
   "metadata": {},
   "outputs": [],
   "source": []
  }
 ],
 "metadata": {
  "kernelspec": {
   "display_name": "Python 3",
   "language": "python",
   "name": "python3"
  },
  "language_info": {
   "codemirror_mode": {
    "name": "ipython",
    "version": 3
   },
   "file_extension": ".py",
   "mimetype": "text/x-python",
   "name": "python",
   "nbconvert_exporter": "python",
   "pygments_lexer": "ipython3",
   "version": "3.6.10"
  }
 },
 "nbformat": 4,
 "nbformat_minor": 4
}
