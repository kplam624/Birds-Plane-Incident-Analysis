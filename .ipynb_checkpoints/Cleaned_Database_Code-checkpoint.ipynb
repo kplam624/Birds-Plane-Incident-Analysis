{
 "cells": [
  {
   "cell_type": "markdown",
   "metadata": {},
   "source": [
    "# Clean up database"
   ]
  },
  {
   "cell_type": "code",
   "execution_count": 1,
   "metadata": {},
   "outputs": [],
   "source": [
    "# Importing the dependencies\n",
    "\n",
    "import pandas as pd\n",
    "import matplotlib.pyplot as plt\n",
    "import numpy as np"
   ]
  },
  {
   "cell_type": "code",
   "execution_count": 2,
   "metadata": {},
   "outputs": [
    {
     "name": "stderr",
     "output_type": "stream",
     "text": [
      "C:\\Users\\ramya\\anaconda3\\envs\\PythonData\\lib\\site-packages\\IPython\\core\\interactiveshell.py:3072: DtypeWarning: Columns (9,12,15,17) have mixed types.Specify dtype option on import or set low_memory=False.\n",
      "  interactivity=interactivity, compiler=compiler, result=result)\n"
     ]
    },
    {
     "data": {
      "text/plain": [
       "['Record ID',\n",
       " 'Incident Year',\n",
       " 'Incident Month',\n",
       " 'Incident Day',\n",
       " 'Operator ID',\n",
       " 'Operator',\n",
       " 'Aircraft',\n",
       " 'Aircraft Type',\n",
       " 'Aircraft Make',\n",
       " 'Aircraft Model',\n",
       " 'Aircraft Mass',\n",
       " 'Engine Make',\n",
       " 'Engine Model',\n",
       " 'Engines',\n",
       " 'Engine Type',\n",
       " 'Engine1 Position',\n",
       " 'Engine2 Position',\n",
       " 'Engine3 Position',\n",
       " 'Engine4 Position',\n",
       " 'Airport ID',\n",
       " 'Airport',\n",
       " 'State',\n",
       " 'FAA Region',\n",
       " 'Warning Issued',\n",
       " 'Flight Phase',\n",
       " 'Visibility',\n",
       " 'Precipitation',\n",
       " 'Height',\n",
       " 'Speed',\n",
       " 'Distance',\n",
       " 'Species ID',\n",
       " 'Species Name',\n",
       " 'Species Quantity',\n",
       " 'Flight Impact',\n",
       " 'Fatalities',\n",
       " 'Injuries',\n",
       " 'Aircraft Damage',\n",
       " 'Radome Strike',\n",
       " 'Radome Damage',\n",
       " 'Windshield Strike',\n",
       " 'Windshield Damage',\n",
       " 'Nose Strike',\n",
       " 'Nose Damage',\n",
       " 'Engine1 Strike',\n",
       " 'Engine1 Damage',\n",
       " 'Engine2 Strike',\n",
       " 'Engine2 Damage',\n",
       " 'Engine3 Strike',\n",
       " 'Engine3 Damage',\n",
       " 'Engine4 Strike',\n",
       " 'Engine4 Damage',\n",
       " 'Engine Ingested',\n",
       " 'Propeller Strike',\n",
       " 'Propeller Damage',\n",
       " 'Wing or Rotor Strike',\n",
       " 'Wing or Rotor Damage',\n",
       " 'Fuselage Strike',\n",
       " 'Fuselage Damage',\n",
       " 'Landing Gear Strike',\n",
       " 'Landing Gear Damage',\n",
       " 'Tail Strike',\n",
       " 'Tail Damage',\n",
       " 'Lights Strike',\n",
       " 'Lights Damage',\n",
       " 'Other Strike',\n",
       " 'Other Damage']"
      ]
     },
     "execution_count": 2,
     "metadata": {},
     "output_type": "execute_result"
    }
   ],
   "source": [
    "# Read in the raw data file to a dataframe\n",
    "file = 'Resources/database.csv'\n",
    "df = pd.read_csv(file)\n",
    "list(df.columns)"
   ]
  },
  {
   "cell_type": "code",
   "execution_count": 3,
   "metadata": {},
   "outputs": [
    {
     "data": {
      "text/plain": [
       "(174104, 66)"
      ]
     },
     "execution_count": 3,
     "metadata": {},
     "output_type": "execute_result"
    }
   ],
   "source": [
    "df.shape"
   ]
  },
  {
   "cell_type": "code",
   "execution_count": 4,
   "metadata": {},
   "outputs": [
    {
     "data": {
      "text/plain": [
       "array([1990, 1991, 1992, 1993, 1994, 1995, 1996, 1997, 1998, 1999, 2000,\n",
       "       2001, 2002, 2003, 2004, 2005, 2006, 2007, 2008, 2009, 2010, 2011,\n",
       "       2012, 2013, 2014, 2015], dtype=int64)"
      ]
     },
     "execution_count": 4,
     "metadata": {},
     "output_type": "execute_result"
    }
   ],
   "source": [
    "df[\"Incident Year\"].unique()"
   ]
  },
  {
   "cell_type": "code",
   "execution_count": 5,
   "metadata": {},
   "outputs": [
    {
     "data": {
      "text/plain": [
       "array([ 1,  2,  3,  4,  5,  6,  7,  8,  9, 10, 11, 12], dtype=int64)"
      ]
     },
     "execution_count": 5,
     "metadata": {},
     "output_type": "execute_result"
    }
   ],
   "source": [
    "df[\"Incident Month\"].unique()"
   ]
  },
  {
   "cell_type": "code",
   "execution_count": 6,
   "metadata": {},
   "outputs": [],
   "source": [
    "# Removed unknown values from Operator and Operator ID\n",
    "df = df.loc[(df['Operator'] != 'UNKNOWN')]\n",
    "df = df.loc[(df['Operator ID'] != 'UNKNOWN')]"
   ]
  },
  {
   "cell_type": "code",
   "execution_count": 7,
   "metadata": {
    "scrolled": true
   },
   "outputs": [
    {
     "data": {
      "text/html": [
       "<div>\n",
       "<style scoped>\n",
       "    .dataframe tbody tr th:only-of-type {\n",
       "        vertical-align: middle;\n",
       "    }\n",
       "\n",
       "    .dataframe tbody tr th {\n",
       "        vertical-align: top;\n",
       "    }\n",
       "\n",
       "    .dataframe thead th {\n",
       "        text-align: right;\n",
       "    }\n",
       "</style>\n",
       "<table border=\"1\" class=\"dataframe\">\n",
       "  <thead>\n",
       "    <tr style=\"text-align: right;\">\n",
       "      <th></th>\n",
       "      <th>Record ID</th>\n",
       "      <th>Incident Year</th>\n",
       "      <th>Incident Month</th>\n",
       "      <th>Incident Day</th>\n",
       "      <th>Operator ID</th>\n",
       "      <th>Operator</th>\n",
       "      <th>Aircraft</th>\n",
       "      <th>Aircraft Type</th>\n",
       "      <th>Aircraft Make</th>\n",
       "      <th>Aircraft Model</th>\n",
       "      <th>...</th>\n",
       "      <th>Fuselage Strike</th>\n",
       "      <th>Fuselage Damage</th>\n",
       "      <th>Landing Gear Strike</th>\n",
       "      <th>Landing Gear Damage</th>\n",
       "      <th>Tail Strike</th>\n",
       "      <th>Tail Damage</th>\n",
       "      <th>Lights Strike</th>\n",
       "      <th>Lights Damage</th>\n",
       "      <th>Other Strike</th>\n",
       "      <th>Other Damage</th>\n",
       "    </tr>\n",
       "  </thead>\n",
       "  <tbody>\n",
       "    <tr>\n",
       "      <th>0</th>\n",
       "      <td>127128</td>\n",
       "      <td>1990</td>\n",
       "      <td>1</td>\n",
       "      <td>1</td>\n",
       "      <td>DAL</td>\n",
       "      <td>DELTA AIR LINES</td>\n",
       "      <td>B-757-200</td>\n",
       "      <td>A</td>\n",
       "      <td>148</td>\n",
       "      <td>26</td>\n",
       "      <td>...</td>\n",
       "      <td>0</td>\n",
       "      <td>0</td>\n",
       "      <td>0</td>\n",
       "      <td>0</td>\n",
       "      <td>1</td>\n",
       "      <td>1</td>\n",
       "      <td>0</td>\n",
       "      <td>0</td>\n",
       "      <td>0</td>\n",
       "      <td>0</td>\n",
       "    </tr>\n",
       "    <tr>\n",
       "      <th>1</th>\n",
       "      <td>129779</td>\n",
       "      <td>1990</td>\n",
       "      <td>1</td>\n",
       "      <td>1</td>\n",
       "      <td>HAL</td>\n",
       "      <td>HAWAIIAN AIR</td>\n",
       "      <td>DC-9</td>\n",
       "      <td>A</td>\n",
       "      <td>583</td>\n",
       "      <td>90</td>\n",
       "      <td>...</td>\n",
       "      <td>0</td>\n",
       "      <td>0</td>\n",
       "      <td>0</td>\n",
       "      <td>0</td>\n",
       "      <td>0</td>\n",
       "      <td>0</td>\n",
       "      <td>0</td>\n",
       "      <td>0</td>\n",
       "      <td>1</td>\n",
       "      <td>0</td>\n",
       "    </tr>\n",
       "    <tr>\n",
       "      <th>3</th>\n",
       "      <td>2258</td>\n",
       "      <td>1990</td>\n",
       "      <td>1</td>\n",
       "      <td>3</td>\n",
       "      <td>MIL</td>\n",
       "      <td>MILITARY</td>\n",
       "      <td>A-10A</td>\n",
       "      <td>A</td>\n",
       "      <td>345</td>\n",
       "      <td>NaN</td>\n",
       "      <td>...</td>\n",
       "      <td>0</td>\n",
       "      <td>0</td>\n",
       "      <td>0</td>\n",
       "      <td>0</td>\n",
       "      <td>0</td>\n",
       "      <td>0</td>\n",
       "      <td>0</td>\n",
       "      <td>0</td>\n",
       "      <td>0</td>\n",
       "      <td>0</td>\n",
       "    </tr>\n",
       "    <tr>\n",
       "      <th>4</th>\n",
       "      <td>2257</td>\n",
       "      <td>1990</td>\n",
       "      <td>1</td>\n",
       "      <td>3</td>\n",
       "      <td>MIL</td>\n",
       "      <td>MILITARY</td>\n",
       "      <td>F-16</td>\n",
       "      <td>A</td>\n",
       "      <td>561</td>\n",
       "      <td>NaN</td>\n",
       "      <td>...</td>\n",
       "      <td>0</td>\n",
       "      <td>0</td>\n",
       "      <td>0</td>\n",
       "      <td>0</td>\n",
       "      <td>0</td>\n",
       "      <td>0</td>\n",
       "      <td>0</td>\n",
       "      <td>0</td>\n",
       "      <td>0</td>\n",
       "      <td>0</td>\n",
       "    </tr>\n",
       "    <tr>\n",
       "      <th>5</th>\n",
       "      <td>129734</td>\n",
       "      <td>1990</td>\n",
       "      <td>1</td>\n",
       "      <td>4</td>\n",
       "      <td>HAL</td>\n",
       "      <td>HAWAIIAN AIR</td>\n",
       "      <td>DC-9</td>\n",
       "      <td>A</td>\n",
       "      <td>583</td>\n",
       "      <td>90</td>\n",
       "      <td>...</td>\n",
       "      <td>0</td>\n",
       "      <td>0</td>\n",
       "      <td>0</td>\n",
       "      <td>0</td>\n",
       "      <td>0</td>\n",
       "      <td>0</td>\n",
       "      <td>0</td>\n",
       "      <td>0</td>\n",
       "      <td>1</td>\n",
       "      <td>0</td>\n",
       "    </tr>\n",
       "  </tbody>\n",
       "</table>\n",
       "<p>5 rows × 66 columns</p>\n",
       "</div>"
      ],
      "text/plain": [
       "   Record ID  Incident Year  Incident Month  Incident Day Operator ID  \\\n",
       "0     127128           1990               1             1         DAL   \n",
       "1     129779           1990               1             1         HAL   \n",
       "3       2258           1990               1             3         MIL   \n",
       "4       2257           1990               1             3         MIL   \n",
       "5     129734           1990               1             4         HAL   \n",
       "\n",
       "          Operator   Aircraft Aircraft Type Aircraft Make Aircraft Model  ...  \\\n",
       "0  DELTA AIR LINES  B-757-200             A           148             26  ...   \n",
       "1     HAWAIIAN AIR       DC-9             A           583             90  ...   \n",
       "3         MILITARY      A-10A             A           345            NaN  ...   \n",
       "4         MILITARY       F-16             A           561            NaN  ...   \n",
       "5     HAWAIIAN AIR       DC-9             A           583             90  ...   \n",
       "\n",
       "   Fuselage Strike  Fuselage Damage Landing Gear Strike  Landing Gear Damage  \\\n",
       "0                0                0                   0                    0   \n",
       "1                0                0                   0                    0   \n",
       "3                0                0                   0                    0   \n",
       "4                0                0                   0                    0   \n",
       "5                0                0                   0                    0   \n",
       "\n",
       "  Tail Strike Tail Damage  Lights Strike Lights Damage  Other Strike  \\\n",
       "0           1           1              0             0             0   \n",
       "1           0           0              0             0             1   \n",
       "3           0           0              0             0             0   \n",
       "4           0           0              0             0             0   \n",
       "5           0           0              0             0             1   \n",
       "\n",
       "  Other Damage  \n",
       "0            0  \n",
       "1            0  \n",
       "3            0  \n",
       "4            0  \n",
       "5            0  \n",
       "\n",
       "[5 rows x 66 columns]"
      ]
     },
     "execution_count": 7,
     "metadata": {},
     "output_type": "execute_result"
    }
   ],
   "source": [
    "# Clean up the dataframe\n",
    "# Remove all NaN values, replace with 0 for relevant columns\n",
    "df['Fatalities'].fillna(0,inplace = True)\n",
    "df['Injuries'].fillna(0,inplace = True)\n",
    "df['Aircraft Type'].fillna(0,inplace = True)\n",
    "df['Flight Phase'].fillna(0,inplace = True)\n",
    "df['FAA Region'].fillna(0,inplace = True)\n",
    "df['State'].fillna(0,inplace = True)\n",
    "df['Precipitation'].fillna(0,inplace = True)\n",
    "df['Visibility'].fillna(0,inplace = True)\n",
    "df.head()\n"
   ]
  },
  {
   "cell_type": "code",
   "execution_count": 8,
   "metadata": {},
   "outputs": [
    {
     "data": {
      "text/plain": [
       "array(['KY', 'HI', 'SC', 'FL', 0, 'TN', 'AR', 'LA', 'CA', 'MI', 'NJ',\n",
       "       'NY', 'MN', 'AZ', 'MS', 'PA', 'DC', 'GA', 'TX', 'KS', 'MD', 'NM',\n",
       "       'NC', 'MO', 'WI', 'WA', 'AL', 'AK', 'WV', 'SD', 'IL', 'OR', 'VA',\n",
       "       'OH', 'CO', 'OK', 'IN', 'MA', 'MT', 'ME', 'NE', 'AB', 'UT', 'VT',\n",
       "       'NV', 'CT', 'ON', 'ID', 'PR', 'IA', 'RI', 'QC', 'VI', 'ND', 'WY',\n",
       "       'NH', 'DE', 'BC', 'PI', 'MB', 'SK', 'NL', 'NS'], dtype=object)"
      ]
     },
     "execution_count": 8,
     "metadata": {},
     "output_type": "execute_result"
    }
   ],
   "source": [
    "df[\"State\"].unique()"
   ]
  },
  {
   "cell_type": "code",
   "execution_count": 9,
   "metadata": {},
   "outputs": [
    {
     "data": {
      "text/plain": [
       "63"
      ]
     },
     "execution_count": 9,
     "metadata": {},
     "output_type": "execute_result"
    }
   ],
   "source": [
    "# This dataset includes the contiguous U.S., territories and Canada\n",
    "len(df[\"State\"].unique())"
   ]
  },
  {
   "cell_type": "code",
   "execution_count": 10,
   "metadata": {},
   "outputs": [
    {
     "data": {
      "text/plain": [
       "(112640, 66)"
      ]
     },
     "execution_count": 10,
     "metadata": {},
     "output_type": "execute_result"
    }
   ],
   "source": [
    "# If we dropped all the rows that contained NaN or 0 from our dataset, we would only have a little over 200 rows\n",
    "# Instead we decided to drop rows with NaN  or 0 for specific columns that were used in each topic in the anlaysis. \n",
    "# For example, we removed States that were \"0\" when analyzing \"Where do most bird strikes take place?\"\n",
    "state_df = df.loc[(df['State'] != 0)]\n",
    "state_df.shape"
   ]
  },
  {
   "cell_type": "code",
   "execution_count": 11,
   "metadata": {},
   "outputs": [
    {
     "data": {
      "text/plain": [
       "array(['GULL', 'HOUSE SPARROW', 'UNKNOWN MEDIUM BIRD', 'FINCH', 'MUNIAS',\n",
       "       'WHITE-TAILED DEER', 'HORNED LARK', 'ROCK PIGEON', 'SPARROW',\n",
       "       'GEESE', 'UNKNOWN BIRD', 'TURKEY VULTURE', 'HAWAIIAN DUCK',\n",
       "       'HERRING GULL', 'SANDPIPER', 'MALLARD', 'UNKNOWN LARGE BIRD',\n",
       "       'DUCKS, GEESE, SWANS', 'HAWK', 'LAUGHING GULL', 'RING-BILLED GULL',\n",
       "       'MOURNING DOVE', 'WESTERN MEADOWLARK', 'DOUBLE-CRESTED CORMORANT',\n",
       "       'SHORT-EARED OWL', 'THRASHERS, MOCKINGBIRDS, CATBIRDS',\n",
       "       'EUROPEAN STARLING', 'MERLIN', 'WESTERN GULL', 'MULE DEER',\n",
       "       'ZEBRA DOVE', 'SPOTTED DOVE', 'CANADA GOOSE', 'UNKNOWN SMALL BIRD',\n",
       "       'RED BAT', 'CATTLE EGRET', 'HERONS, EGRETS, BITTERNS', 'OSPREY',\n",
       "       'BLACKBIRD', 'BLACK VULTURE', 'SHOREBIRD', 'SNOW BUNTING', 'DOVE',\n",
       "       'AMERICAN ROBIN', 'BROWN-HEADED COWBIRD', \"FRANKLIN'S GULL\",\n",
       "       'ROSE-BREASTED GROSBEAK', 'DUCK', 'TERNS', 'STARLINGS',\n",
       "       'COMMON NIGHTHAWK', 'AMERICAN CROW', 'COYOTE', 'OWLS',\n",
       "       \"WILSON'S SNIPE\", 'CROW', 'KILLDEER', 'COMMON MYNA', 'SWALLOW',\n",
       "       'EGRET', 'SAVANNAH SPARROW', 'SNOW GOOSE', 'YELLOW-BILLED MAGPIE',\n",
       "       'EASTERN MEADOWLARK', 'RING-NECKED PHEASANT', 'NEW WORLD VULTURES',\n",
       "       'BALD EAGLE', 'GREAT FRIGATEBIRD', 'RED-WINGED BLACKBIRD', 'WREN',\n",
       "       'CAROLINA WREN', 'ARCTIC TERN', 'GULLS,TERNS, KITTIWAKES',\n",
       "       'AMERICAN KESTREL', 'DEER', 'TREE SWALLOW',\n",
       "       'CROWS, RAVENS, JAYS,MAGPIES', 'DOMESTIC DOG', 'EASTERN KINGBIRD',\n",
       "       'NORTHERN ROUGH-WINGED SWALLOW', 'BARN SWALLOW', 'WOODCHUCK',\n",
       "       'MICROBAT', 'HAWAIIAN HAWK', 'FALCON', 'CHIMNEY SWIFT',\n",
       "       'PURPLE MARTIN', 'OLD WORLD VULTURES', 'COMMON GRACKLE',\n",
       "       \"SWAINSON'S THRUSH\", 'PACIFIC GOLDEN-PLOVER', 'BROWN THRASHER',\n",
       "       'BARN OWL', 'SANDHILL CRANE', 'RED-TAILED HAWK',\n",
       "       'GREAT BLACK-BACKED GULL', 'ORIOLES', 'THRUSHES', 'MOOSE',\n",
       "       'UNKNOWN TERRESTRIAL MAMMAL', 'GREAT BLUE HERON', 'RED FOX',\n",
       "       'PEREGRINE FALCON', 'NORTHERN HARRIER', 'HERONS',\n",
       "       'GREEN-WINGED TEAL', 'BROWN PELICAN', 'AMERICAN AVOCET',\n",
       "       'UPLAND SANDPIPER', 'CANIDS', 'WILD TURKEY', 'INCA DOVE',\n",
       "       'SNOWY EGRET', 'ANHINGA',\n",
       "       'RAPTORS: HAWKS, EAGLES, VULTURES, KITES, OSPREY, F', 'BLUE JAY',\n",
       "       'SORA', 'PLOVERS', 'NORTHERN FLICKER', 'EMPEROR GOOSE',\n",
       "       'AMERICAN COOT', 'AMERICAN GOLDFINCH', 'BRANT', 'FOXES',\n",
       "       'WOOD THRUSH', 'SNOWY OWL', 'WHITE-EYED VIREO', 'NORTHERN LAPWING',\n",
       "       'BATS', 'GRAY PARTRIDGE', 'GROUSE', 'SCALY-BREASTED MUNIA',\n",
       "       'CHESTNUT MUNIA', 'EASTERN SCREECH-OWL', 'RABBIT', 'HOUSE FINCH',\n",
       "       'PARROTS', 'NORTHERN MOCKINGBIRD', 'YELLOW-BILLED CUCKOO', 'RAILS',\n",
       "       'DOMESTIC CAT', 'CATTLE', 'BLACK-CAPPED CHICKADEE',\n",
       "       'HOODED WARBLER', 'BOAT-TAILED GRACKLE', 'BLUE-WINGED TEAL',\n",
       "       'WAPITI (ELK)', 'ORANGE-CROWNED WARBLER', 'TURTLE',\n",
       "       'AMERICAN GOLDEN-PLOVER', 'NORTHERN BOBWHITE',\n",
       "       'BLACKBIRDS, MEADOWLARKS, ORIOLES', 'LARK BUNTING', 'MEW GULL',\n",
       "       'BURROWING OWL', 'COMMON LOON', 'GREATER WHITE-FRONTED GOOSE',\n",
       "       'PTARMIGANS', 'WHITE IBIS', 'PIGEONS, DOVES', \"BONAPARTE'S GULL\",\n",
       "       'AMERICAN WHITE PELICAN', 'MEADOWLARK', 'GOLDEN EAGLE',\n",
       "       'WHITE-NOSED COATI', 'GREATER SAGE-GROUSE', 'HOODED MERGANSER',\n",
       "       'PIGEONS', 'CARIBOU', 'GREAT HORNED OWL', 'COMMON TERN',\n",
       "       'EURASIAN WIGEON', 'SEMIPALMATED SANDPIPER', 'PRONGHORN',\n",
       "       'GREAT EGRET', 'RED-SHOULDERED HAWK', 'SWIFTS',\n",
       "       'HELMETED GUINEAFOWL', 'ROCK PTARMIGAN', 'EURASIAN BLACKBIRD',\n",
       "       'GREBES', 'EASTERN COTTONTAIL', 'PELICANS', 'AMERICAN ALLIGATOR',\n",
       "       'COMMON MOORHEN', 'BLACK-BILLED MAGPIE', 'IBISES', 'CLIFF SWALLOW',\n",
       "       'AMERICAN WOODCOCK', 'NORTHERN SHOVELER', 'CEDAR WAXWING',\n",
       "       'MUTE SWAN', 'AMERICAN REDSTART', \"SAY'S PHOEBE\", 'RACCOON',\n",
       "       'DARK-EYED JUNCO', 'WHIP-POOR-WILL', 'AMERICAN PIPIT',\n",
       "       'TUNDRA SWAN', 'NORTHERN PINTAIL', 'GRACKLE', 'COMMON RAVEN',\n",
       "       'WHITE-TAILED KITE', 'VARIED THRUSH', 'WOOD STORK',\n",
       "       'EASTERN TOWHEE', \"SWAINSON'S HAWK\", 'LEAST TERN', 'CORMORANTS',\n",
       "       \"BAIRD'S SANDPIPER\", 'MEGABATS', 'BALTIMORE ORIOLE',\n",
       "       'COMMON EIDER', 'LESSER SCAUP', 'AMERICAN WIGEON', 'CANVASBACK',\n",
       "       'ROUGH-LEGGED HAWK', 'CACKLING GOOSE', 'SWANS',\n",
       "       'AUSTRALIAN PELICAN', 'OVENBIRD', 'RED-CRESTED CARDINAL',\n",
       "       'GREEN HERON', 'TUFTED TITMOUSE', 'WESTERN KINGBIRD',\n",
       "       'LONG-TAILED DUCK', 'EAGLES', 'CALIFORNIA GULL', 'VESPER BAT',\n",
       "       'SHARP-TAILED GROUSE', 'WILLOW PTARMIGAN', 'BANK SWALLOW',\n",
       "       'GRAY CATBIRD', 'BLACK-BELLIED PLOVER', 'VIRGINIA OPOSSUM',\n",
       "       'WOODPECKERS, PICULETS', 'MONK PARAKEET', 'QUAILS', 'GADWALL',\n",
       "       'EURASIAN THICK-KNEE', 'LEAST SANDPIPER', 'COLLARED PECCARY',\n",
       "       'RING-NECKED DUCK', 'TROPICBIRDS', 'HORSE',\n",
       "       'WHITE-CROWNED SPARROW', 'GLAUCOUS-WINGED GULL', 'PERCHING BIRDS',\n",
       "       \"FORSTER'S TERN\", 'WOODPECKERS', 'AMERICAN BLACK DUCK',\n",
       "       'BLACKPOLL WARBLER', 'SONG SPARROW', 'SHARP-SHINNED HAWK',\n",
       "       'GREATER SCAUP', 'GREAT-TAILED GRACKLE', 'YELLOW-HEADED BLACKBIRD',\n",
       "       'LONG-BILLED DOWITCHER', 'WHITE-THROATED SPARROW',\n",
       "       'SCISSOR-TAILED FLYCATCHER', 'LAPPET-FACED VULTURE', 'BLACK KITE',\n",
       "       'BARRED OWL', 'BLACK-CROWNED NIGHT-HERON', 'WESTERN GREBE',\n",
       "       'RIVER OTTER', 'WHITE-THROATED SWIFT', 'SEMIPALMATED PLOVER',\n",
       "       'COMMON SNAPPING TURTLE', 'COMMON MERGANSER', 'WESTERN SANDPIPER',\n",
       "       'DUNLIN', 'YELLOW-BELLIED SAPSUCKER', 'HERMIT THRUSH',\n",
       "       'LAPLAND LONGSPUR', 'MOURNING WARBLER', 'TYRANT FLYCATCHERS',\n",
       "       'MOTTLED DUCK', 'WOOD DUCK', 'YELLOW-RUMPED WARBLER',\n",
       "       'SWINE (PIGS)', 'PURPLE GALLINULE', 'CARRION CROW', 'WHITE STORK',\n",
       "       'LOGGERHEAD SHRIKE', \"HEERMANN'S GULL\", \"VAUX'S SWIFT\",\n",
       "       'YELLOW-LEGGED GULL', 'EARED GREBE', 'COMMON GRAY FOX',\n",
       "       'HUDSONIAN GODWIT', 'SAGE THRASHER', 'GYRFALCON',\n",
       "       'AMERICAN BITTERN', 'NORTH AMERICAN PORCUPINE',\n",
       "       'WHITE-WINGED DOVE', 'RUDDY DUCK', 'LESSER YELLOWLEGS',\n",
       "       'BLACK SKIMMER', 'BLACK-AND-WHITE WARBLER', 'SCARLET TANAGER',\n",
       "       'BUFF-BREASTED SANDPIPER', 'TANAGERS', 'COMMON YELLOWTHROAT',\n",
       "       'SANDERLING', 'VESPER SPARROW', 'GRASSHOPPER SPARROW',\n",
       "       \"COOPER'S HAWK\", 'BLACK NODDY', 'PIED-BILLED GREBE',\n",
       "       'GREEN IGUANA', 'NORTHERN SAW-WHET OWL', 'GREAT CORMORANT',\n",
       "       'STRIPED SKUNK', 'PECTORAL SANDPIPER', 'CASPIAN TERN',\n",
       "       'MARSH WREN', 'BLACK-TAILED JACKRABBIT', 'WOOD WARBLER',\n",
       "       'BLUE-HEADED VIREO', 'WILLET', 'REDHEAD', 'RED-TAILED TROPICBIRD',\n",
       "       'EURASIAN BUZZARD', 'EASTERN SMALL-FOOTED MYOTIS',\n",
       "       \"SPRAGUE'S PIPIT\", 'VIREOS', 'EUROPEAN GOLDEN-PLOVER',\n",
       "       'FOX SPARROW', 'BRAZILIAN FREE-TAILED BAT',\n",
       "       'CHESTNUT-COLLARED LONGSPUR', 'MUSCOVY DUCK', 'LONG-EARED OWL',\n",
       "       'WARBLING VIREO', 'ARMADILLO', 'HAIRY WOODPECKER', 'HORNED GREBE',\n",
       "       'WESTERN TANAGER', 'RED-VENTED BULBUL', 'BOBOLINK',\n",
       "       'EASTERN WOOD-PEWEE', 'VIOLET-GREEN SWALLOW', 'ACADIAN FLYCATCHER',\n",
       "       'MAGNIFICENT FRIGATEBIRD', 'WHIMBREL', 'RED-LEGGED KITTIWAKE',\n",
       "       'BROWN NODDY', 'RUBY-THROATED HUMMINGBIRD', 'ROSEATE SPOONBILL',\n",
       "       \"LINCOLN'S SPARROW\", 'SILVER-HAIRED BAT', 'PLOVERS, LAPWINGS',\n",
       "       'BLACK-HEADED GULL', 'PINE WARBLER', 'POND SLIDER',\n",
       "       'LAYSAN ALBATROSS', 'BONIN PETREL', 'RED-BREASTED MERGANSER',\n",
       "       \"SMITH'S LONGSPUR\", 'BUDGERIGAR', 'BROAD-WINGED HAWK',\n",
       "       'WHITE-FACED IBIS', 'MISSISSIPPI KITE', 'LARK SPARROW',\n",
       "       'ASH-THROATED FLYCATCHER', 'COMMON GROUND-DOVE', 'SNOWY PLOVER',\n",
       "       'YELLOW-THROATED VIREO', 'SPOTTED SANDPIPER', 'SKUNK',\n",
       "       'GRAY FRANCOLIN', \"CASSIN'S VIREO\", 'FERRUGINOUS HAWK',\n",
       "       'WESTERN BLUEBIRD', \"TOWNSEND'S WARBLER\", 'NORTHWESTERN CROW',\n",
       "       'CHUKAR', 'SOUTHERN LAPWING', 'FREE-TAILED BATS',\n",
       "       'GREATER YELLOWLEGS', 'NORTHERN WATERTHRUSH',\n",
       "       'BLACK-FOOTED ALBATROSS', 'NASHVILLE WARBLER',\n",
       "       'EASTERN PIPISTRELLE', 'SCOPS, SCREECH OWLS',\n",
       "       \"GUNNISON'S PRAIRIE DOG\", 'RED AVADAVAT', 'EURASIAN KESTREL',\n",
       "       'BADGER', 'YELLOW-BREASTED CHAT', 'WHITE-THROATED MUNIA',\n",
       "       'HOARY BAT', 'YELLOW WARBLER', 'WHITE-TAILED JACKRABBIT',\n",
       "       \"BREWER'S BLACKBIRD\", 'FAIRY TERN', 'INDIGO BUNTING',\n",
       "       'RED-EYED VIREO', 'VEERY', 'TRUMPETER SWAN',\n",
       "       'WHITE-TAILED TROPICBIRD', 'LARKS', 'HOODED CROW',\n",
       "       'RED-NAPED SAPSUCKER', 'EURASIAN SKYLARK', 'DOWNY WOODPECKER',\n",
       "       'RED-FOOTED BOOBY', 'CUCKOOS, ROADRUNNERS, ANIS',\n",
       "       'CAPE MAY WARBLER', 'RED KNOT', 'PHILIPPINE DUCK',\n",
       "       'SWALLOW-TAILED KITE', \"THAYER'S GULL\", 'PRAIRIE WARBLER',\n",
       "       'COMMON CUCKOO', 'PRAIRIE FALCON', 'KITES, EAGLES, HAWKS',\n",
       "       'SAGE SPARROW', 'PERCHING BIRDS (Z)', 'PIPITS',\n",
       "       'BELTED KINGFISHER', 'CRESTED CARACARA', 'COMMON GOLDENEYE',\n",
       "       'BLACK-BELLIED WHISTLING-DUCK', 'WHITE-BELLIED SEA-EAGLE',\n",
       "       'SHORT-BILLED DOWITCHER', 'WEDGE-TAILED SHEARWATER',\n",
       "       'EASTERN PHOEBE', 'WHITE TERN', 'EASTERN BLUEBIRD',\n",
       "       'SWAMP SPARROW', 'PALM WARBLER', 'GOLDEN-CROWNED KINGLET',\n",
       "       'NORTHERN CARDINAL', 'WESTERN SCREECH-OWL', 'MOUNTAIN CHICKADEE',\n",
       "       'BUFFLEHEAD', 'SEMINOLE BAT', 'UNKNOWN BIRD OR BAT',\n",
       "       'ORCHARD ORIOLE', 'CHIPPING SPARROW', 'RUBY-CROWNED KINGLET',\n",
       "       'AMERICAN TREE SPARROW', 'MAGNOLIA WARBLER', \"WILSON'S WARBLER\",\n",
       "       'BLACK-THROATED BLUE WARBLER', 'NORTHERN PARULA',\n",
       "       'WHITE-WINGED SCOTER', 'COMMON WAXBILL', 'DICKCISSEL', 'KIT FOX',\n",
       "       'EVENING GROSBEAK', 'MARBLED GODWIT', 'GRAY-HEADED CHICKADEE',\n",
       "       'PROTHONOTARY WARBLER', 'WHOOPING CRANE', 'BURRO',\n",
       "       'COMMON WOOD-PIGEON', 'YELLOW-CROWNED NIGHT-HERON', 'JAVA SPARROW',\n",
       "       'SMALL INDIAN MONGOOSE', \"HARRIS'S SPARROW\",\n",
       "       'RED-NECKED PHALAROPE', 'GRAY-CHEEKED THRUSH', 'RED-THROATED LOON',\n",
       "       'LAGOMORPHS (RABBITS, HARES)', 'FIELD SPARROW',\n",
       "       'LESSER BLACK-BACKED GULL', 'YELLOW BITTERN',\n",
       "       'BLUE-GRAY GNATCATCHER', \"MACGILLIVRAY'S WARBLER\", 'HOUSE WREN',\n",
       "       'GLAUCOUS GULL', 'LITTLE BROWN BAT', 'BLACK-NECKED STILT',\n",
       "       'GOLDEN-CROWNED SPARROW', 'PINE SISKIN', 'RED-LEGGED PARTRIDGE',\n",
       "       'BOHEMIAN WAXWING', 'GRAY HERON', 'REDWING', \"ANNA'S HUMMINGBIRD\",\n",
       "       'MOUNTAIN BLUEBIRD', 'HUMMINGBIRDS', 'COMMON SWIFT',\n",
       "       'CALIFORNIA TOWHEE', 'WAXBILLS, MANNIKINS, PARROTFINCHES',\n",
       "       'CINNAMON TEAL', 'CACTUS WREN', 'TROPICAL MOCKINGBIRD',\n",
       "       'BLACK FRANCOLIN', \"HAMMOND'S FLYCATCHER\", 'BIG BROWN BAT',\n",
       "       'RUDDY TURNSTONE', 'CAVE SWALLOW', \"WILSON'S PHALAROPE\",\n",
       "       \"CHUCK-WILL'S-WIDOW\", 'BAND-TAILED PIGEON', 'CUCKOOS',\n",
       "       'BLACK-THROATED GRAY WARBLER', 'GULL-BILLED TERN',\n",
       "       'CAROLINA CHICKADEE', 'ISLAND CANARY', 'EURASIAN CURLEW',\n",
       "       'ROCK SANDPIPER', 'PIPING PLOVER', 'LESSER GOLDFINCH',\n",
       "       'BLACK-HEADED GROSBEAK', 'PACIFIC-SLOPE FLYCATCHER',\n",
       "       'BLACK-BILLED CUCKOO', 'HERMIT WARBLER', 'DIAMONDBACK TERRAPIN',\n",
       "       'ROOK', 'GREAT CRESTED FLYCATCHER', 'SOLITARY SANDPIPER', 'LOONS',\n",
       "       'BLACK SWIFT', 'CANADA WARBLER', 'TENNESSEE WARBLER', 'LITTLE OWL',\n",
       "       'PURPLE FINCH', 'CHESTNUT-SIDED WARBLER', 'VIRGINIA RAIL',\n",
       "       'BIG FREE-TAILED BAT', 'POCKETED FREE-TAILED BAT',\n",
       "       \"NELSON'S SHARP-TAILED SPARROW\", 'JAPANESE WHITE-EYE',\n",
       "       'NORTHERN HAWK-OWL', \"MCKAY'S BUNTING\", 'TRICOLORED BLACKBIRD',\n",
       "       'GRAY FLYCATCHER', 'LONG-TAILED JAEGER', 'BLACKBURNIAN WARBLER',\n",
       "       'LITTLE TERN', 'BLACK-TAILED PRAIRIE DOG', 'PACIFIC LOON',\n",
       "       'SOOTY TERN', 'YELLOW-BELLIED MARMOT', 'BLACK DRONGO',\n",
       "       'LEAST BITTERN', \"BULLOCK'S ORIOLE\", 'DOUBLE-STRIPED THICK-KNEE',\n",
       "       'BUSHTIT', \"BREWER'S SPARROW\", \"WILSON'S PLOVER\",\n",
       "       'PAINTED BUNTING', 'BLACK TERN', 'BLACK-THROATED GREEN WARBLER',\n",
       "       'LESSER NIGHTHAWK', 'WHITE-CRESTED ELAENIA', 'COMMON POORWILL',\n",
       "       \"CASSIN'S FINCH\", 'PINE GROSBEAK', 'RUSTY BLACKBIRD',\n",
       "       \"MCCOWN'S LONGSPUR\", 'EURASIAN COLLARED DOVE',\n",
       "       'WESTERN MASTIFF BAT', 'WHITE-TAILED PRAIRIE DOG',\n",
       "       'LITTLE BLUE HERON', 'WINTER WREN', 'COMMON SNIPE',\n",
       "       'CROWS, RAVENS', 'RED CROSSBILL', 'FLORIDA SOFT SHELL TURTLE',\n",
       "       'FLORIDA BONNETED BAT', 'WILLOW FLYCATCHER', 'GOPHER TORTOISE',\n",
       "       'INTERMEDIATE EGRET', 'YELLOW-THROATED WARBLER',\n",
       "       'BAY-BREASTED WARBLER', 'SEDGE WREN', 'RED-NECKED GREBE',\n",
       "       \"BRANDT'S CORMORANT\", 'PHILADELPHIA VIREO', 'TOWHEES',\n",
       "       'CONNECTICUT WARBLER', 'BLACK-FACED BUNTING', 'GLOSSY IBIS',\n",
       "       'CATS', 'EURASIAN COOT', 'GREAT CRESTED GREBE',\n",
       "       'GRAY SAC-WINGED BAT', 'GRAY-CROWNED ROSY-FINCH',\n",
       "       'RUFOUS HUMMINGBIRD', 'BAND-RUMPED STORM-PETREL',\n",
       "       'KENTUCKY WARBLER', 'GREEN-TAILED TOWHEE', 'LAZULI BUNTING',\n",
       "       'LONG-BILLED CURLEW', 'ZENAIDA DOVE', 'MUSKRAT',\n",
       "       'RUDDY GROUND-DOVE', 'HOODED ORIOLE', 'YELLOW-BELLIED FLYCATCHER',\n",
       "       'PUFFINS', 'ALDER FLYCATCHER', 'WESTERN WOOD-PEWEE',\n",
       "       'JAMAICAN FRUIT BAT', 'NIGHTJARS', 'CLAY-COLORED SPARROW',\n",
       "       'SUMMER TANAGER', 'SURF SCOTER', 'COMMON CHAFFINCH', 'YUMA MYOTIS',\n",
       "       'SONG THRUSH', 'NACUNDA NIGHTHAWK', 'RED-BREASTED SAPSUCKER',\n",
       "       'SOUTH AMERICAN SNIPE', 'HOARY REDPOLL', 'BAR-TAILED GODWIT',\n",
       "       'FLYING FOX', 'NORTHERN FULMAR', nan, \"LE CONTE'S SPARROW\",\n",
       "       'BLUE GROSBEAK', 'CORDILLERAN FLYCATCHER', 'AMERICAN BLACK BEAR',\n",
       "       'LEAST FLYCATCHER', 'DUSKY FLYCATCHER', 'SHEARWATERS',\n",
       "       'DESERT COTTONTAIL', 'ROYAL TERN', 'EVENING BAT',\n",
       "       'WORM-EATING WARBLER', 'COMMON PIPISTRELLE', 'WESTERN YELLOW BAT',\n",
       "       'HARES', 'SPOTTED TOWHEE', 'LONG-LEGGED MYOTIS',\n",
       "       'EASTERN DIAMONDBACK RATTLESNAKE', 'PHILIPPINE DRONGO-CUCKOO',\n",
       "       'HAWAIIAN GOOSE', 'OLIVE-THROATED PARAKEET', 'MOCKINGBIRDS',\n",
       "       'COMMON REDPOLL', 'CLAPPER RAIL', 'MEADOW PIPIT',\n",
       "       'WHITE-RUMPED SANDPIPER', 'CRANES', 'RAVENS', 'PICAZURO PIGEON',\n",
       "       'YELLOW-HEADED CARCARA', 'BLUE-WINGED WARBLER', 'MAGPIES',\n",
       "       'ISLAND TURTLE-DOVE', 'SCALED QUAIL', 'MINK'], dtype=object)"
      ]
     },
     "execution_count": 11,
     "metadata": {},
     "output_type": "execute_result"
    }
   ],
   "source": [
    " df[\"Species Name\"].unique()"
   ]
  },
  {
   "cell_type": "code",
   "execution_count": 12,
   "metadata": {},
   "outputs": [
    {
     "data": {
      "text/plain": [
       "(134564, 66)"
      ]
     },
     "execution_count": 12,
     "metadata": {},
     "output_type": "execute_result"
    }
   ],
   "source": [
    "df.shape"
   ]
  },
  {
   "cell_type": "code",
   "execution_count": 13,
   "metadata": {},
   "outputs": [],
   "source": [
    "# Standardizing the 'Species Name' column\n",
    "df['Species Name'] = df['Species Name'].replace(['UNKNOWN MEDIUM BIRD','UNKNOWN SMALL BIRD','UNKNOWN TERRESTIAL BIRD','UNKNOWN LARGE BIRD','UNKNOWN BIRD OR BAT'],'UNKNOWN BIRD')"
   ]
  },
  {
   "cell_type": "code",
   "execution_count": 14,
   "metadata": {},
   "outputs": [
    {
     "data": {
      "text/plain": [
       "(134564, 66)"
      ]
     },
     "execution_count": 14,
     "metadata": {},
     "output_type": "execute_result"
    }
   ],
   "source": [
    "df.shape"
   ]
  },
  {
   "cell_type": "code",
   "execution_count": 15,
   "metadata": {},
   "outputs": [
    {
     "data": {
      "text/plain": [
       "['MULE DEER',\n",
       " 'COYOTE',\n",
       " 'DEER',\n",
       " 'DOMESTIC DOG',\n",
       " 'UNKNOWN TERRESTIAL MAMMAL',\n",
       " 'RED FOX',\n",
       " 'RABBIT',\n",
       " 'DOMESTIC CAT',\n",
       " 'CATTLE',\n",
       " 'WAPITI (ELK)',\n",
       " 'FOXES',\n",
       " 'TURTLE',\n",
       " 'RACCOON',\n",
       " 'AMERICAN ALLIGATOR',\n",
       " 'STRIPED SKUNK',\n",
       " 'MUSKRAT',\n",
       " 'FLORIDA SOFT SHELL TURTLE',\n",
       " 'TUFTED TITMOUSE',\n",
       " 'ARMADILLO',\n",
       " 'HORSE',\n",
       " 'CHICKEN TURTLE',\n",
       " 'COMMON SNAPPING TURTLE',\n",
       " 'SWINE (PIGS)',\n",
       " 'COMMON GRAY FOX',\n",
       " 'NORTH AMERICAN PORCUPINE',\n",
       " 'BLACK-TAILED JACKRABBIT',\n",
       " 'BLACK-TAILED PRAIRIE DOG',\n",
       " 'GREEN IGUANA',\n",
       " 'DIAMONDBACK TERRAPIN',\n",
       " \"GUNNISON'S PRAIRIE DOG\",\n",
       " 'PAINTED TURTLE',\n",
       " 'EASTERN MUD TURTLE',\n",
       " 'SKUNK',\n",
       " 'KIT FOX',\n",
       " 'DESERT COTTONTAIL',\n",
       " 'NORTH AMERICAN BEAVER',\n",
       " 'GOPHER TORTOISE',\n",
       " 'WHITE-TAILED PRAIRIE DOG',\n",
       " 'ALLIGATOR SNAPPING TURTLE',\n",
       " 'ANTELOPE JACKRABBIT',\n",
       " 'FOX SQUIRREL',\n",
       " 'CATS',\n",
       " 'BULL SNAKE',\n",
       " 'SNAKES',\n",
       " 'NORTHERN WATER SNAKE',\n",
       " 'AMERICAN BLACK BEAR',\n",
       " 'EASTERN DIAMONDBACK RATTLESNAKE',\n",
       " 'PRAIRIE DOGS',\n",
       " 'STRIPED MUD TURTLE',\n",
       " 'VIRGINIA OPOSSUM',\n",
       " 'EASTERN BOX TURTLE',\n",
       " 'MINK',\n",
       " 'BURRO',\n",
       " 'LAGOMORPHS (RABBITS, HARES)',\n",
       " 'WATER MOCCASIN']"
      ]
     },
     "execution_count": 15,
     "metadata": {},
     "output_type": "execute_result"
    }
   ],
   "source": [
    "# There are a lot of non-bird animals in 'Species Name' that need to be removed\n",
    "not_birds = ['MULE DEER','COYOTE','DEER','DOMESTIC DOG','UNKNOWN TERRESTIAL MAMMAL','RED FOX','RABBIT','DOMESTIC CAT',\n",
    "            'CATTLE','WAPITI (ELK)','FOXES','TURTLE','RACCOON','AMERICAN ALLIGATOR','STRIPED SKUNK',\n",
    "            'MUSKRAT','FLORIDA SOFT SHELL TURTLE','TUFTED TITMOUSE','ARMADILLO','HORSE','CHICKEN TURTLE',\n",
    "            'COMMON SNAPPING TURTLE','SWINE (PIGS)','COMMON GRAY FOX','NORTH AMERICAN PORCUPINE',\n",
    "            'BLACK-TAILED JACKRABBIT','BLACK-TAILED PRAIRIE DOG','GREEN IGUANA','DIAMONDBACK TERRAPIN',\n",
    "             \"GUNNISON'S PRAIRIE DOG\", 'PAINTED TURTLE', 'EASTERN MUD TURTLE','SKUNK','KIT FOX','DESERT COTTONTAIL',\n",
    "            'NORTH AMERICAN BEAVER','GOPHER TORTOISE','WHITE-TAILED PRAIRIE DOG','ALLIGATOR SNAPPING TURTLE',\n",
    "            'ANTELOPE JACKRABBIT', 'FOX SQUIRREL','CATS','BULL SNAKE','SNAKES','NORTHERN WATER SNAKE','AMERICAN BLACK BEAR',\n",
    "            'EASTERN DIAMONDBACK RATTLESNAKE', 'PRAIRIE DOGS','STRIPED MUD TURTLE','VIRGINIA OPOSSUM','EASTERN BOX TURTLE','MINK',\n",
    "            'BURRO','LAGOMORPHS (RABBITS, HARES)','WATER MOCCASIN']\n",
    "not_birds\n"
   ]
  },
  {
   "cell_type": "code",
   "execution_count": 16,
   "metadata": {},
   "outputs": [],
   "source": [
    "df['Species Name'] = df['Species Name'].replace(['RAPTORS: HAWKS, EAGLES, VULTURES, KITES, OSPREY, F','KITES, EAGLES, HAWKS'],'HAWKS, EAGLES, VULTURES, KITES, OSPREY')\n",
    "df['Species Name'] = df['Species Name'].replace(not_birds,'OTHER ANIMALS')"
   ]
  },
  {
   "cell_type": "code",
   "execution_count": 17,
   "metadata": {},
   "outputs": [
    {
     "data": {
      "text/plain": [
       "array(['GULL', 'HOUSE SPARROW', 'UNKNOWN BIRD', 'FINCH', 'MUNIAS',\n",
       "       'WHITE-TAILED DEER', 'HORNED LARK', 'ROCK PIGEON', 'SPARROW',\n",
       "       'GEESE', 'TURKEY VULTURE', 'HAWAIIAN DUCK', 'HERRING GULL',\n",
       "       'SANDPIPER', 'MALLARD', 'DUCKS, GEESE, SWANS', 'HAWK',\n",
       "       'LAUGHING GULL', 'RING-BILLED GULL', 'MOURNING DOVE',\n",
       "       'WESTERN MEADOWLARK', 'DOUBLE-CRESTED CORMORANT',\n",
       "       'SHORT-EARED OWL', 'THRASHERS, MOCKINGBIRDS, CATBIRDS',\n",
       "       'EUROPEAN STARLING', 'MERLIN', 'WESTERN GULL', 'ZEBRA DOVE',\n",
       "       'SPOTTED DOVE', 'CANADA GOOSE', 'RED BAT', 'CATTLE EGRET',\n",
       "       'HERONS, EGRETS, BITTERNS', 'OSPREY', 'BLACKBIRD', 'BLACK VULTURE',\n",
       "       'SHOREBIRD', 'SNOW BUNTING', 'DOVE', 'AMERICAN ROBIN',\n",
       "       'BROWN-HEADED COWBIRD', \"FRANKLIN'S GULL\",\n",
       "       'ROSE-BREASTED GROSBEAK', 'DUCK', 'TERNS', 'STARLINGS',\n",
       "       'COMMON NIGHTHAWK', 'AMERICAN CROW', 'OWLS', \"WILSON'S SNIPE\",\n",
       "       'CROW', 'KILLDEER', 'COMMON MYNA', 'SWALLOW', 'EGRET',\n",
       "       'SAVANNAH SPARROW', 'SNOW GOOSE', 'YELLOW-BILLED MAGPIE',\n",
       "       'EASTERN MEADOWLARK', 'RING-NECKED PHEASANT', 'NEW WORLD VULTURES',\n",
       "       'BALD EAGLE', 'GREAT FRIGATEBIRD', 'RED-WINGED BLACKBIRD', 'WREN',\n",
       "       'CAROLINA WREN', 'ARCTIC TERN', 'GULLS,TERNS, KITTIWAKES',\n",
       "       'AMERICAN KESTREL', 'TREE SWALLOW', 'CROWS, RAVENS, JAYS,MAGPIES',\n",
       "       'EASTERN KINGBIRD', 'NORTHERN ROUGH-WINGED SWALLOW',\n",
       "       'BARN SWALLOW', 'WOODCHUCK', 'MICROBAT', 'HAWAIIAN HAWK', 'FALCON',\n",
       "       'CHIMNEY SWIFT', 'PURPLE MARTIN', 'OLD WORLD VULTURES',\n",
       "       'COMMON GRACKLE', \"SWAINSON'S THRUSH\", 'PACIFIC GOLDEN-PLOVER',\n",
       "       'BROWN THRASHER', 'BARN OWL', 'SANDHILL CRANE', 'RED-TAILED HAWK',\n",
       "       'GREAT BLACK-BACKED GULL', 'ORIOLES', 'THRUSHES', 'MOOSE',\n",
       "       'UNKNOWN TERRESTRIAL MAMMAL', 'GREAT BLUE HERON',\n",
       "       'PEREGRINE FALCON', 'NORTHERN HARRIER', 'HERONS',\n",
       "       'GREEN-WINGED TEAL', 'BROWN PELICAN', 'AMERICAN AVOCET',\n",
       "       'UPLAND SANDPIPER', 'CANIDS', 'WILD TURKEY', 'INCA DOVE',\n",
       "       'SNOWY EGRET', 'ANHINGA', 'HAWKS, EAGLES, VULTURES, KITES, OSPREY',\n",
       "       'BLUE JAY', 'SORA', 'PLOVERS', 'NORTHERN FLICKER', 'EMPEROR GOOSE',\n",
       "       'AMERICAN COOT', 'AMERICAN GOLDFINCH', 'BRANT', 'WOOD THRUSH',\n",
       "       'SNOWY OWL', 'WHITE-EYED VIREO', 'NORTHERN LAPWING', 'BATS',\n",
       "       'GRAY PARTRIDGE', 'GROUSE', 'SCALY-BREASTED MUNIA',\n",
       "       'CHESTNUT MUNIA', 'EASTERN SCREECH-OWL', 'HOUSE FINCH', 'PARROTS',\n",
       "       'NORTHERN MOCKINGBIRD', 'YELLOW-BILLED CUCKOO', 'RAILS',\n",
       "       'BLACK-CAPPED CHICKADEE', 'HOODED WARBLER', 'BOAT-TAILED GRACKLE',\n",
       "       'BLUE-WINGED TEAL', 'ORANGE-CROWNED WARBLER',\n",
       "       'AMERICAN GOLDEN-PLOVER', 'NORTHERN BOBWHITE',\n",
       "       'BLACKBIRDS, MEADOWLARKS, ORIOLES', 'LARK BUNTING', 'MEW GULL',\n",
       "       'BURROWING OWL', 'COMMON LOON', 'GREATER WHITE-FRONTED GOOSE',\n",
       "       'PTARMIGANS', 'WHITE IBIS', 'PIGEONS, DOVES', \"BONAPARTE'S GULL\",\n",
       "       'AMERICAN WHITE PELICAN', 'MEADOWLARK', 'GOLDEN EAGLE',\n",
       "       'WHITE-NOSED COATI', 'GREATER SAGE-GROUSE', 'HOODED MERGANSER',\n",
       "       'PIGEONS', 'CARIBOU', 'GREAT HORNED OWL', 'COMMON TERN',\n",
       "       'EURASIAN WIGEON', 'SEMIPALMATED SANDPIPER', 'PRONGHORN',\n",
       "       'GREAT EGRET', 'RED-SHOULDERED HAWK', 'SWIFTS',\n",
       "       'HELMETED GUINEAFOWL', 'ROCK PTARMIGAN', 'EURASIAN BLACKBIRD',\n",
       "       'GREBES', 'EASTERN COTTONTAIL', 'PELICANS', 'COMMON MOORHEN',\n",
       "       'BLACK-BILLED MAGPIE', 'IBISES', 'CLIFF SWALLOW',\n",
       "       'AMERICAN WOODCOCK', 'NORTHERN SHOVELER', 'CEDAR WAXWING',\n",
       "       'MUTE SWAN', 'AMERICAN REDSTART', \"SAY'S PHOEBE\",\n",
       "       'DARK-EYED JUNCO', 'WHIP-POOR-WILL', 'AMERICAN PIPIT',\n",
       "       'TUNDRA SWAN', 'NORTHERN PINTAIL', 'GRACKLE', 'COMMON RAVEN',\n",
       "       'WHITE-TAILED KITE', 'VARIED THRUSH', 'WOOD STORK',\n",
       "       'EASTERN TOWHEE', \"SWAINSON'S HAWK\", 'LEAST TERN', 'CORMORANTS',\n",
       "       \"BAIRD'S SANDPIPER\", 'MEGABATS', 'BALTIMORE ORIOLE',\n",
       "       'COMMON EIDER', 'LESSER SCAUP', 'AMERICAN WIGEON', 'CANVASBACK',\n",
       "       'ROUGH-LEGGED HAWK', 'CACKLING GOOSE', 'SWANS',\n",
       "       'AUSTRALIAN PELICAN', 'OVENBIRD', 'RED-CRESTED CARDINAL',\n",
       "       'GREEN HERON', 'WESTERN KINGBIRD', 'LONG-TAILED DUCK', 'EAGLES',\n",
       "       'CALIFORNIA GULL', 'VESPER BAT', 'SHARP-TAILED GROUSE',\n",
       "       'WILLOW PTARMIGAN', 'BANK SWALLOW', 'GRAY CATBIRD',\n",
       "       'BLACK-BELLIED PLOVER', 'WOODPECKERS, PICULETS', 'MONK PARAKEET',\n",
       "       'QUAILS', 'GADWALL', 'EURASIAN THICK-KNEE', 'LEAST SANDPIPER',\n",
       "       'COLLARED PECCARY', 'RING-NECKED DUCK', 'TROPICBIRDS',\n",
       "       'WHITE-CROWNED SPARROW', 'GLAUCOUS-WINGED GULL', 'PERCHING BIRDS',\n",
       "       \"FORSTER'S TERN\", 'WOODPECKERS', 'AMERICAN BLACK DUCK',\n",
       "       'BLACKPOLL WARBLER', 'SONG SPARROW', 'SHARP-SHINNED HAWK',\n",
       "       'GREATER SCAUP', 'GREAT-TAILED GRACKLE', 'YELLOW-HEADED BLACKBIRD',\n",
       "       'LONG-BILLED DOWITCHER', 'WHITE-THROATED SPARROW',\n",
       "       'SCISSOR-TAILED FLYCATCHER', 'LAPPET-FACED VULTURE', 'BLACK KITE',\n",
       "       'BARRED OWL', 'BLACK-CROWNED NIGHT-HERON', 'WESTERN GREBE',\n",
       "       'RIVER OTTER', 'WHITE-THROATED SWIFT', 'SEMIPALMATED PLOVER',\n",
       "       'COMMON MERGANSER', 'WESTERN SANDPIPER', 'DUNLIN',\n",
       "       'YELLOW-BELLIED SAPSUCKER', 'HERMIT THRUSH', 'LAPLAND LONGSPUR',\n",
       "       'MOURNING WARBLER', 'TYRANT FLYCATCHERS', 'MOTTLED DUCK',\n",
       "       'WOOD DUCK', 'YELLOW-RUMPED WARBLER', 'PURPLE GALLINULE',\n",
       "       'CARRION CROW', 'WHITE STORK', 'LOGGERHEAD SHRIKE',\n",
       "       \"HEERMANN'S GULL\", \"VAUX'S SWIFT\", 'YELLOW-LEGGED GULL',\n",
       "       'EARED GREBE', 'HUDSONIAN GODWIT', 'SAGE THRASHER', 'GYRFALCON',\n",
       "       'AMERICAN BITTERN', 'WHITE-WINGED DOVE', 'RUDDY DUCK',\n",
       "       'LESSER YELLOWLEGS', 'BLACK SKIMMER', 'BLACK-AND-WHITE WARBLER',\n",
       "       'SCARLET TANAGER', 'BUFF-BREASTED SANDPIPER', 'TANAGERS',\n",
       "       'COMMON YELLOWTHROAT', 'SANDERLING', 'VESPER SPARROW',\n",
       "       'GRASSHOPPER SPARROW', \"COOPER'S HAWK\", 'BLACK NODDY',\n",
       "       'PIED-BILLED GREBE', 'NORTHERN SAW-WHET OWL', 'GREAT CORMORANT',\n",
       "       'PECTORAL SANDPIPER', 'CASPIAN TERN', 'MARSH WREN', 'WOOD WARBLER',\n",
       "       'BLUE-HEADED VIREO', 'WILLET', 'REDHEAD', 'RED-TAILED TROPICBIRD',\n",
       "       'EURASIAN BUZZARD', 'EASTERN SMALL-FOOTED MYOTIS',\n",
       "       \"SPRAGUE'S PIPIT\", 'VIREOS', 'EUROPEAN GOLDEN-PLOVER',\n",
       "       'FOX SPARROW', 'BRAZILIAN FREE-TAILED BAT',\n",
       "       'CHESTNUT-COLLARED LONGSPUR', 'MUSCOVY DUCK', 'LONG-EARED OWL',\n",
       "       'WARBLING VIREO', 'HAIRY WOODPECKER', 'HORNED GREBE',\n",
       "       'WESTERN TANAGER', 'RED-VENTED BULBUL', 'BOBOLINK',\n",
       "       'EASTERN WOOD-PEWEE', 'VIOLET-GREEN SWALLOW', 'ACADIAN FLYCATCHER',\n",
       "       'MAGNIFICENT FRIGATEBIRD', 'WHIMBREL', 'RED-LEGGED KITTIWAKE',\n",
       "       'BROWN NODDY', 'RUBY-THROATED HUMMINGBIRD', 'ROSEATE SPOONBILL',\n",
       "       \"LINCOLN'S SPARROW\", 'SILVER-HAIRED BAT', 'PLOVERS, LAPWINGS',\n",
       "       'BLACK-HEADED GULL', 'PINE WARBLER', 'POND SLIDER',\n",
       "       'LAYSAN ALBATROSS', 'BONIN PETREL', 'RED-BREASTED MERGANSER',\n",
       "       \"SMITH'S LONGSPUR\", 'BUDGERIGAR', 'BROAD-WINGED HAWK',\n",
       "       'WHITE-FACED IBIS', 'MISSISSIPPI KITE', 'LARK SPARROW',\n",
       "       'ASH-THROATED FLYCATCHER', 'COMMON GROUND-DOVE', 'SNOWY PLOVER',\n",
       "       'YELLOW-THROATED VIREO', 'SPOTTED SANDPIPER', 'GRAY FRANCOLIN',\n",
       "       \"CASSIN'S VIREO\", 'FERRUGINOUS HAWK', 'WESTERN BLUEBIRD',\n",
       "       \"TOWNSEND'S WARBLER\", 'NORTHWESTERN CROW', 'CHUKAR',\n",
       "       'SOUTHERN LAPWING', 'FREE-TAILED BATS', 'GREATER YELLOWLEGS',\n",
       "       'NORTHERN WATERTHRUSH', 'BLACK-FOOTED ALBATROSS',\n",
       "       'NASHVILLE WARBLER', 'EASTERN PIPISTRELLE', 'SCOPS, SCREECH OWLS',\n",
       "       'RED AVADAVAT', 'EURASIAN KESTREL', 'BADGER',\n",
       "       'YELLOW-BREASTED CHAT', 'WHITE-THROATED MUNIA', 'HOARY BAT',\n",
       "       'YELLOW WARBLER', 'WHITE-TAILED JACKRABBIT', \"BREWER'S BLACKBIRD\",\n",
       "       'FAIRY TERN', 'INDIGO BUNTING', 'RED-EYED VIREO', 'VEERY',\n",
       "       'TRUMPETER SWAN', 'WHITE-TAILED TROPICBIRD', 'LARKS',\n",
       "       'HOODED CROW', 'RED-NAPED SAPSUCKER', 'EURASIAN SKYLARK',\n",
       "       'DOWNY WOODPECKER', 'RED-FOOTED BOOBY',\n",
       "       'CUCKOOS, ROADRUNNERS, ANIS', 'CAPE MAY WARBLER', 'RED KNOT',\n",
       "       'PHILIPPINE DUCK', 'SWALLOW-TAILED KITE', \"THAYER'S GULL\",\n",
       "       'PRAIRIE WARBLER', 'COMMON CUCKOO', 'PRAIRIE FALCON',\n",
       "       'SAGE SPARROW', 'PERCHING BIRDS (Z)', 'PIPITS',\n",
       "       'BELTED KINGFISHER', 'CRESTED CARACARA', 'COMMON GOLDENEYE',\n",
       "       'BLACK-BELLIED WHISTLING-DUCK', 'WHITE-BELLIED SEA-EAGLE',\n",
       "       'SHORT-BILLED DOWITCHER', 'WEDGE-TAILED SHEARWATER',\n",
       "       'EASTERN PHOEBE', 'WHITE TERN', 'EASTERN BLUEBIRD',\n",
       "       'SWAMP SPARROW', 'PALM WARBLER', 'GOLDEN-CROWNED KINGLET',\n",
       "       'NORTHERN CARDINAL', 'WESTERN SCREECH-OWL', 'MOUNTAIN CHICKADEE',\n",
       "       'BUFFLEHEAD', 'SEMINOLE BAT', 'ORCHARD ORIOLE', 'CHIPPING SPARROW',\n",
       "       'RUBY-CROWNED KINGLET', 'AMERICAN TREE SPARROW',\n",
       "       'MAGNOLIA WARBLER', \"WILSON'S WARBLER\",\n",
       "       'BLACK-THROATED BLUE WARBLER', 'NORTHERN PARULA',\n",
       "       'WHITE-WINGED SCOTER', 'COMMON WAXBILL', 'DICKCISSEL',\n",
       "       'EVENING GROSBEAK', 'MARBLED GODWIT', 'GRAY-HEADED CHICKADEE',\n",
       "       'PROTHONOTARY WARBLER', 'WHOOPING CRANE', 'COMMON WOOD-PIGEON',\n",
       "       'YELLOW-CROWNED NIGHT-HERON', 'JAVA SPARROW',\n",
       "       'SMALL INDIAN MONGOOSE', \"HARRIS'S SPARROW\",\n",
       "       'RED-NECKED PHALAROPE', 'GRAY-CHEEKED THRUSH', 'RED-THROATED LOON',\n",
       "       'FIELD SPARROW', 'LESSER BLACK-BACKED GULL', 'YELLOW BITTERN',\n",
       "       'BLUE-GRAY GNATCATCHER', \"MACGILLIVRAY'S WARBLER\", 'HOUSE WREN',\n",
       "       'GLAUCOUS GULL', 'LITTLE BROWN BAT', 'BLACK-NECKED STILT',\n",
       "       'GOLDEN-CROWNED SPARROW', 'PINE SISKIN', 'RED-LEGGED PARTRIDGE',\n",
       "       'BOHEMIAN WAXWING', 'GRAY HERON', 'REDWING', \"ANNA'S HUMMINGBIRD\",\n",
       "       'MOUNTAIN BLUEBIRD', 'HUMMINGBIRDS', 'COMMON SWIFT',\n",
       "       'CALIFORNIA TOWHEE', 'WAXBILLS, MANNIKINS, PARROTFINCHES',\n",
       "       'CINNAMON TEAL', 'CACTUS WREN', 'TROPICAL MOCKINGBIRD',\n",
       "       'BLACK FRANCOLIN', \"HAMMOND'S FLYCATCHER\", 'BIG BROWN BAT',\n",
       "       'RUDDY TURNSTONE', 'CAVE SWALLOW', \"WILSON'S PHALAROPE\",\n",
       "       \"CHUCK-WILL'S-WIDOW\", 'BAND-TAILED PIGEON', 'CUCKOOS',\n",
       "       'BLACK-THROATED GRAY WARBLER', 'GULL-BILLED TERN',\n",
       "       'CAROLINA CHICKADEE', 'ISLAND CANARY', 'EURASIAN CURLEW',\n",
       "       'ROCK SANDPIPER', 'PIPING PLOVER', 'LESSER GOLDFINCH',\n",
       "       'BLACK-HEADED GROSBEAK', 'PACIFIC-SLOPE FLYCATCHER',\n",
       "       'BLACK-BILLED CUCKOO', 'HERMIT WARBLER', 'ROOK',\n",
       "       'GREAT CRESTED FLYCATCHER', 'SOLITARY SANDPIPER', 'LOONS',\n",
       "       'BLACK SWIFT', 'CANADA WARBLER', 'TENNESSEE WARBLER', 'LITTLE OWL',\n",
       "       'PURPLE FINCH', 'CHESTNUT-SIDED WARBLER', 'VIRGINIA RAIL',\n",
       "       'BIG FREE-TAILED BAT', 'POCKETED FREE-TAILED BAT',\n",
       "       \"NELSON'S SHARP-TAILED SPARROW\", 'JAPANESE WHITE-EYE',\n",
       "       'NORTHERN HAWK-OWL', \"MCKAY'S BUNTING\", 'TRICOLORED BLACKBIRD',\n",
       "       'GRAY FLYCATCHER', 'LONG-TAILED JAEGER', 'BLACKBURNIAN WARBLER',\n",
       "       'LITTLE TERN', 'PACIFIC LOON', 'SOOTY TERN',\n",
       "       'YELLOW-BELLIED MARMOT', 'BLACK DRONGO', 'LEAST BITTERN',\n",
       "       \"BULLOCK'S ORIOLE\", 'DOUBLE-STRIPED THICK-KNEE', 'BUSHTIT',\n",
       "       \"BREWER'S SPARROW\", \"WILSON'S PLOVER\", 'PAINTED BUNTING',\n",
       "       'BLACK TERN', 'BLACK-THROATED GREEN WARBLER', 'LESSER NIGHTHAWK',\n",
       "       'WHITE-CRESTED ELAENIA', 'COMMON POORWILL', \"CASSIN'S FINCH\",\n",
       "       'PINE GROSBEAK', 'RUSTY BLACKBIRD', \"MCCOWN'S LONGSPUR\",\n",
       "       'EURASIAN COLLARED DOVE', 'WESTERN MASTIFF BAT',\n",
       "       'LITTLE BLUE HERON', 'WINTER WREN', 'COMMON SNIPE',\n",
       "       'CROWS, RAVENS', 'RED CROSSBILL', 'FLORIDA BONNETED BAT',\n",
       "       'WILLOW FLYCATCHER', 'INTERMEDIATE EGRET',\n",
       "       'YELLOW-THROATED WARBLER', 'BAY-BREASTED WARBLER', 'SEDGE WREN',\n",
       "       'RED-NECKED GREBE', \"BRANDT'S CORMORANT\", 'PHILADELPHIA VIREO',\n",
       "       'TOWHEES', 'CONNECTICUT WARBLER', 'BLACK-FACED BUNTING',\n",
       "       'GLOSSY IBIS', 'EURASIAN COOT', 'GREAT CRESTED GREBE',\n",
       "       'GRAY SAC-WINGED BAT', 'GRAY-CROWNED ROSY-FINCH',\n",
       "       'RUFOUS HUMMINGBIRD', 'BAND-RUMPED STORM-PETREL',\n",
       "       'KENTUCKY WARBLER', 'GREEN-TAILED TOWHEE', 'LAZULI BUNTING',\n",
       "       'LONG-BILLED CURLEW', 'ZENAIDA DOVE', 'RUDDY GROUND-DOVE',\n",
       "       'HOODED ORIOLE', 'YELLOW-BELLIED FLYCATCHER', 'PUFFINS',\n",
       "       'ALDER FLYCATCHER', 'WESTERN WOOD-PEWEE', 'JAMAICAN FRUIT BAT',\n",
       "       'NIGHTJARS', 'CLAY-COLORED SPARROW', 'SUMMER TANAGER',\n",
       "       'SURF SCOTER', 'COMMON CHAFFINCH', 'YUMA MYOTIS', 'SONG THRUSH',\n",
       "       'NACUNDA NIGHTHAWK', 'RED-BREASTED SAPSUCKER',\n",
       "       'SOUTH AMERICAN SNIPE', 'HOARY REDPOLL', 'BAR-TAILED GODWIT',\n",
       "       'FLYING FOX', 'NORTHERN FULMAR', nan, \"LE CONTE'S SPARROW\",\n",
       "       'BLUE GROSBEAK', 'CORDILLERAN FLYCATCHER', 'LEAST FLYCATCHER',\n",
       "       'DUSKY FLYCATCHER', 'SHEARWATERS', 'ROYAL TERN', 'EVENING BAT',\n",
       "       'WORM-EATING WARBLER', 'COMMON PIPISTRELLE', 'WESTERN YELLOW BAT',\n",
       "       'HARES', 'SPOTTED TOWHEE', 'LONG-LEGGED MYOTIS',\n",
       "       'PHILIPPINE DRONGO-CUCKOO', 'HAWAIIAN GOOSE',\n",
       "       'OLIVE-THROATED PARAKEET', 'MOCKINGBIRDS', 'COMMON REDPOLL',\n",
       "       'CLAPPER RAIL', 'MEADOW PIPIT', 'WHITE-RUMPED SANDPIPER', 'CRANES',\n",
       "       'RAVENS', 'PICAZURO PIGEON', 'YELLOW-HEADED CARCARA',\n",
       "       'BLUE-WINGED WARBLER', 'MAGPIES', 'ISLAND TURTLE-DOVE',\n",
       "       'SCALED QUAIL'], dtype=object)"
      ]
     },
     "execution_count": 17,
     "metadata": {},
     "output_type": "execute_result"
    }
   ],
   "source": [
    "# Remove \"Other Animals\" from the \"Species Name\" column\n",
    "df = df.loc[(df['Species Name'] != 'OTHER ANIMALS')]\n",
    "df['Species Name'].unique()"
   ]
  },
  {
   "cell_type": "code",
   "execution_count": 18,
   "metadata": {},
   "outputs": [
    {
     "data": {
      "text/html": [
       "<div>\n",
       "<style scoped>\n",
       "    .dataframe tbody tr th:only-of-type {\n",
       "        vertical-align: middle;\n",
       "    }\n",
       "\n",
       "    .dataframe tbody tr th {\n",
       "        vertical-align: top;\n",
       "    }\n",
       "\n",
       "    .dataframe thead th {\n",
       "        text-align: right;\n",
       "    }\n",
       "</style>\n",
       "<table border=\"1\" class=\"dataframe\">\n",
       "  <thead>\n",
       "    <tr style=\"text-align: right;\">\n",
       "      <th></th>\n",
       "      <th>Record ID</th>\n",
       "      <th>Incident Year</th>\n",
       "      <th>Incident Month</th>\n",
       "      <th>Incident Day</th>\n",
       "      <th>Operator ID</th>\n",
       "      <th>Operator</th>\n",
       "      <th>Aircraft</th>\n",
       "      <th>Aircraft Type</th>\n",
       "      <th>Aircraft Make</th>\n",
       "      <th>Aircraft Model</th>\n",
       "      <th>...</th>\n",
       "      <th>Fuselage Strike</th>\n",
       "      <th>Fuselage Damage</th>\n",
       "      <th>Landing Gear Strike</th>\n",
       "      <th>Landing Gear Damage</th>\n",
       "      <th>Tail Strike</th>\n",
       "      <th>Tail Damage</th>\n",
       "      <th>Lights Strike</th>\n",
       "      <th>Lights Damage</th>\n",
       "      <th>Other Strike</th>\n",
       "      <th>Other Damage</th>\n",
       "    </tr>\n",
       "  </thead>\n",
       "  <tbody>\n",
       "  </tbody>\n",
       "</table>\n",
       "<p>0 rows × 66 columns</p>\n",
       "</div>"
      ],
      "text/plain": [
       "Empty DataFrame\n",
       "Columns: [Record ID, Incident Year, Incident Month, Incident Day, Operator ID, Operator, Aircraft, Aircraft Type, Aircraft Make, Aircraft Model, Aircraft Mass, Engine Make, Engine Model, Engines, Engine Type, Engine1 Position, Engine2 Position, Engine3 Position, Engine4 Position, Airport ID, Airport, State, FAA Region, Warning Issued, Flight Phase, Visibility, Precipitation, Height, Speed, Distance, Species ID, Species Name, Species Quantity, Flight Impact, Fatalities, Injuries, Aircraft Damage, Radome Strike, Radome Damage, Windshield Strike, Windshield Damage, Nose Strike, Nose Damage, Engine1 Strike, Engine1 Damage, Engine2 Strike, Engine2 Damage, Engine3 Strike, Engine3 Damage, Engine4 Strike, Engine4 Damage, Engine Ingested, Propeller Strike, Propeller Damage, Wing or Rotor Strike, Wing or Rotor Damage, Fuselage Strike, Fuselage Damage, Landing Gear Strike, Landing Gear Damage, Tail Strike, Tail Damage, Lights Strike, Lights Damage, Other Strike, Other Damage]\n",
       "Index: []\n",
       "\n",
       "[0 rows x 66 columns]"
      ]
     },
     "execution_count": 18,
     "metadata": {},
     "output_type": "execute_result"
    }
   ],
   "source": [
    "df_species_check = df.loc[(df['Species Name'] == 'OTHER ANIMALS')]\n",
    "df_species_check"
   ]
  },
  {
   "cell_type": "code",
   "execution_count": 19,
   "metadata": {},
   "outputs": [
    {
     "data": {
      "text/plain": [
       "(133556, 66)"
      ]
     },
     "execution_count": 19,
     "metadata": {},
     "output_type": "execute_result"
    }
   ],
   "source": [
    "df.shape"
   ]
  },
  {
   "cell_type": "code",
   "execution_count": 20,
   "metadata": {},
   "outputs": [
    {
     "data": {
      "text/html": [
       "<div>\n",
       "<style scoped>\n",
       "    .dataframe tbody tr th:only-of-type {\n",
       "        vertical-align: middle;\n",
       "    }\n",
       "\n",
       "    .dataframe tbody tr th {\n",
       "        vertical-align: top;\n",
       "    }\n",
       "\n",
       "    .dataframe thead th {\n",
       "        text-align: right;\n",
       "    }\n",
       "</style>\n",
       "<table border=\"1\" class=\"dataframe\">\n",
       "  <thead>\n",
       "    <tr style=\"text-align: right;\">\n",
       "      <th></th>\n",
       "      <th>Record ID</th>\n",
       "      <th>Incident Year</th>\n",
       "      <th>Incident Month</th>\n",
       "      <th>Incident Day</th>\n",
       "      <th>Operator ID</th>\n",
       "      <th>Operator</th>\n",
       "      <th>Aircraft</th>\n",
       "      <th>Aircraft Type</th>\n",
       "      <th>Aircraft Make</th>\n",
       "      <th>Aircraft Model</th>\n",
       "      <th>...</th>\n",
       "      <th>Fuselage Strike</th>\n",
       "      <th>Fuselage Damage</th>\n",
       "      <th>Landing Gear Strike</th>\n",
       "      <th>Landing Gear Damage</th>\n",
       "      <th>Tail Strike</th>\n",
       "      <th>Tail Damage</th>\n",
       "      <th>Lights Strike</th>\n",
       "      <th>Lights Damage</th>\n",
       "      <th>Other Strike</th>\n",
       "      <th>Other Damage</th>\n",
       "    </tr>\n",
       "  </thead>\n",
       "  <tbody>\n",
       "  </tbody>\n",
       "</table>\n",
       "<p>0 rows × 66 columns</p>\n",
       "</div>"
      ],
      "text/plain": [
       "Empty DataFrame\n",
       "Columns: [Record ID, Incident Year, Incident Month, Incident Day, Operator ID, Operator, Aircraft, Aircraft Type, Aircraft Make, Aircraft Model, Aircraft Mass, Engine Make, Engine Model, Engines, Engine Type, Engine1 Position, Engine2 Position, Engine3 Position, Engine4 Position, Airport ID, Airport, State, FAA Region, Warning Issued, Flight Phase, Visibility, Precipitation, Height, Speed, Distance, Species ID, Species Name, Species Quantity, Flight Impact, Fatalities, Injuries, Aircraft Damage, Radome Strike, Radome Damage, Windshield Strike, Windshield Damage, Nose Strike, Nose Damage, Engine1 Strike, Engine1 Damage, Engine2 Strike, Engine2 Damage, Engine3 Strike, Engine3 Damage, Engine4 Strike, Engine4 Damage, Engine Ingested, Propeller Strike, Propeller Damage, Wing or Rotor Strike, Wing or Rotor Damage, Fuselage Strike, Fuselage Damage, Landing Gear Strike, Landing Gear Damage, Tail Strike, Tail Damage, Lights Strike, Lights Damage, Other Strike, Other Damage]\n",
       "Index: []\n",
       "\n",
       "[0 rows x 66 columns]"
      ]
     },
     "execution_count": 20,
     "metadata": {},
     "output_type": "execute_result"
    }
   ],
   "source": [
    "# Checked that there are no NaN values in Species Name\n",
    "test_df = df.loc[(df['Species Name'] == 'NAN')]\n",
    "test_df"
   ]
  },
  {
   "cell_type": "code",
   "execution_count": 21,
   "metadata": {},
   "outputs": [
    {
     "data": {
      "text/plain": [
       "(133556, 66)"
      ]
     },
     "execution_count": 21,
     "metadata": {},
     "output_type": "execute_result"
    }
   ],
   "source": [
    "# Print the total number of rows and columns in the final datafile after cleaning\n",
    "df.shape"
   ]
  },
  {
   "cell_type": "code",
   "execution_count": 22,
   "metadata": {},
   "outputs": [],
   "source": [
    "# Move cleaned df into csv\n",
    "df.to_csv(\"Resources/Cleaned_data.csv\",index=False,header=True)"
   ]
  },
  {
   "cell_type": "code",
   "execution_count": 23,
   "metadata": {},
   "outputs": [
    {
     "name": "stderr",
     "output_type": "stream",
     "text": [
      "C:\\Users\\ramya\\anaconda3\\envs\\PythonData\\lib\\site-packages\\IPython\\core\\interactiveshell.py:3072: DtypeWarning: Columns (9,12,15,17) have mixed types.Specify dtype option on import or set low_memory=False.\n",
      "  interactivity=interactivity, compiler=compiler, result=result)\n"
     ]
    },
    {
     "data": {
      "text/plain": [
       "(133556, 66)"
      ]
     },
     "execution_count": 23,
     "metadata": {},
     "output_type": "execute_result"
    }
   ],
   "source": [
    "# Read the cleaned data back in and check the rows and cols\n",
    "file = 'Resources/Cleaned_data.csv'\n",
    "check_df = pd.read_csv(file)\n",
    "check_df.shape"
   ]
  }
 ],
 "metadata": {
  "kernelspec": {
   "display_name": "Python 3",
   "language": "python",
   "name": "python3"
  },
  "language_info": {
   "codemirror_mode": {
    "name": "ipython",
    "version": 3
   },
   "file_extension": ".py",
   "mimetype": "text/x-python",
   "name": "python",
   "nbconvert_exporter": "python",
   "pygments_lexer": "ipython3",
   "version": "3.6.10"
  }
 },
 "nbformat": 4,
 "nbformat_minor": 4
}
