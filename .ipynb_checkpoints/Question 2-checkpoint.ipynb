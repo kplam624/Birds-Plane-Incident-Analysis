{
 "cells": [
  {
   "cell_type": "code",
   "execution_count": 7,
   "metadata": {},
   "outputs": [],
   "source": [
    "# Importing the dependencies\n",
    "\n",
    "import pandas as pd\n",
    "import matplotlib.pyplot as plt\n",
    "import numpy as np"
   ]
  },
  {
   "cell_type": "code",
   "execution_count": 8,
   "metadata": {
    "scrolled": true
   },
   "outputs": [
    {
     "name": "stderr",
     "output_type": "stream",
     "text": [
      "C:\\Users\\Kevin\\anaconda3\\envs\\PythonData\\lib\\site-packages\\IPython\\core\\interactiveshell.py:3072: DtypeWarning: Columns (9,12,15,17) have mixed types.Specify dtype option on import or set low_memory=False.\n",
      "  interactivity=interactivity, compiler=compiler, result=result)\n"
     ]
    },
    {
     "data": {
      "text/html": [
       "<div>\n",
       "<style scoped>\n",
       "    .dataframe tbody tr th:only-of-type {\n",
       "        vertical-align: middle;\n",
       "    }\n",
       "\n",
       "    .dataframe tbody tr th {\n",
       "        vertical-align: top;\n",
       "    }\n",
       "\n",
       "    .dataframe thead th {\n",
       "        text-align: right;\n",
       "    }\n",
       "</style>\n",
       "<table border=\"1\" class=\"dataframe\">\n",
       "  <thead>\n",
       "    <tr style=\"text-align: right;\">\n",
       "      <th></th>\n",
       "      <th>Record ID</th>\n",
       "      <th>Incident Year</th>\n",
       "      <th>Incident Month</th>\n",
       "      <th>Incident Day</th>\n",
       "      <th>Operator ID</th>\n",
       "      <th>Operator</th>\n",
       "      <th>Aircraft</th>\n",
       "      <th>Aircraft Type</th>\n",
       "      <th>Aircraft Make</th>\n",
       "      <th>Aircraft Model</th>\n",
       "      <th>...</th>\n",
       "      <th>Fuselage Strike</th>\n",
       "      <th>Fuselage Damage</th>\n",
       "      <th>Landing Gear Strike</th>\n",
       "      <th>Landing Gear Damage</th>\n",
       "      <th>Tail Strike</th>\n",
       "      <th>Tail Damage</th>\n",
       "      <th>Lights Strike</th>\n",
       "      <th>Lights Damage</th>\n",
       "      <th>Other Strike</th>\n",
       "      <th>Other Damage</th>\n",
       "    </tr>\n",
       "  </thead>\n",
       "  <tbody>\n",
       "    <tr>\n",
       "      <th>0</th>\n",
       "      <td>127128</td>\n",
       "      <td>1990</td>\n",
       "      <td>1</td>\n",
       "      <td>1</td>\n",
       "      <td>DAL</td>\n",
       "      <td>DELTA AIR LINES</td>\n",
       "      <td>B-757-200</td>\n",
       "      <td>A</td>\n",
       "      <td>148</td>\n",
       "      <td>26</td>\n",
       "      <td>...</td>\n",
       "      <td>0</td>\n",
       "      <td>0</td>\n",
       "      <td>0</td>\n",
       "      <td>0</td>\n",
       "      <td>1</td>\n",
       "      <td>1</td>\n",
       "      <td>0</td>\n",
       "      <td>0</td>\n",
       "      <td>0</td>\n",
       "      <td>0</td>\n",
       "    </tr>\n",
       "    <tr>\n",
       "      <th>1</th>\n",
       "      <td>129779</td>\n",
       "      <td>1990</td>\n",
       "      <td>1</td>\n",
       "      <td>1</td>\n",
       "      <td>HAL</td>\n",
       "      <td>HAWAIIAN AIR</td>\n",
       "      <td>DC-9</td>\n",
       "      <td>A</td>\n",
       "      <td>583</td>\n",
       "      <td>90</td>\n",
       "      <td>...</td>\n",
       "      <td>0</td>\n",
       "      <td>0</td>\n",
       "      <td>0</td>\n",
       "      <td>0</td>\n",
       "      <td>0</td>\n",
       "      <td>0</td>\n",
       "      <td>0</td>\n",
       "      <td>0</td>\n",
       "      <td>1</td>\n",
       "      <td>0</td>\n",
       "    </tr>\n",
       "    <tr>\n",
       "      <th>2</th>\n",
       "      <td>2258</td>\n",
       "      <td>1990</td>\n",
       "      <td>1</td>\n",
       "      <td>3</td>\n",
       "      <td>MIL</td>\n",
       "      <td>MILITARY</td>\n",
       "      <td>A-10A</td>\n",
       "      <td>A</td>\n",
       "      <td>345</td>\n",
       "      <td>NaN</td>\n",
       "      <td>...</td>\n",
       "      <td>0</td>\n",
       "      <td>0</td>\n",
       "      <td>0</td>\n",
       "      <td>0</td>\n",
       "      <td>0</td>\n",
       "      <td>0</td>\n",
       "      <td>0</td>\n",
       "      <td>0</td>\n",
       "      <td>0</td>\n",
       "      <td>0</td>\n",
       "    </tr>\n",
       "    <tr>\n",
       "      <th>3</th>\n",
       "      <td>2257</td>\n",
       "      <td>1990</td>\n",
       "      <td>1</td>\n",
       "      <td>3</td>\n",
       "      <td>MIL</td>\n",
       "      <td>MILITARY</td>\n",
       "      <td>F-16</td>\n",
       "      <td>A</td>\n",
       "      <td>561</td>\n",
       "      <td>NaN</td>\n",
       "      <td>...</td>\n",
       "      <td>0</td>\n",
       "      <td>0</td>\n",
       "      <td>0</td>\n",
       "      <td>0</td>\n",
       "      <td>0</td>\n",
       "      <td>0</td>\n",
       "      <td>0</td>\n",
       "      <td>0</td>\n",
       "      <td>0</td>\n",
       "      <td>0</td>\n",
       "    </tr>\n",
       "    <tr>\n",
       "      <th>4</th>\n",
       "      <td>129734</td>\n",
       "      <td>1990</td>\n",
       "      <td>1</td>\n",
       "      <td>4</td>\n",
       "      <td>HAL</td>\n",
       "      <td>HAWAIIAN AIR</td>\n",
       "      <td>DC-9</td>\n",
       "      <td>A</td>\n",
       "      <td>583</td>\n",
       "      <td>90</td>\n",
       "      <td>...</td>\n",
       "      <td>0</td>\n",
       "      <td>0</td>\n",
       "      <td>0</td>\n",
       "      <td>0</td>\n",
       "      <td>0</td>\n",
       "      <td>0</td>\n",
       "      <td>0</td>\n",
       "      <td>0</td>\n",
       "      <td>1</td>\n",
       "      <td>0</td>\n",
       "    </tr>\n",
       "    <tr>\n",
       "      <th>...</th>\n",
       "      <td>...</td>\n",
       "      <td>...</td>\n",
       "      <td>...</td>\n",
       "      <td>...</td>\n",
       "      <td>...</td>\n",
       "      <td>...</td>\n",
       "      <td>...</td>\n",
       "      <td>...</td>\n",
       "      <td>...</td>\n",
       "      <td>...</td>\n",
       "      <td>...</td>\n",
       "      <td>...</td>\n",
       "      <td>...</td>\n",
       "      <td>...</td>\n",
       "      <td>...</td>\n",
       "      <td>...</td>\n",
       "      <td>...</td>\n",
       "      <td>...</td>\n",
       "      <td>...</td>\n",
       "      <td>...</td>\n",
       "      <td>...</td>\n",
       "    </tr>\n",
       "    <tr>\n",
       "      <th>133551</th>\n",
       "      <td>366091</td>\n",
       "      <td>2015</td>\n",
       "      <td>9</td>\n",
       "      <td>30</td>\n",
       "      <td>SWA</td>\n",
       "      <td>SOUTHWEST AIRLINES</td>\n",
       "      <td>B-737-700</td>\n",
       "      <td>A</td>\n",
       "      <td>148</td>\n",
       "      <td>42.0</td>\n",
       "      <td>...</td>\n",
       "      <td>0</td>\n",
       "      <td>0</td>\n",
       "      <td>0</td>\n",
       "      <td>0</td>\n",
       "      <td>0</td>\n",
       "      <td>0</td>\n",
       "      <td>0</td>\n",
       "      <td>0</td>\n",
       "      <td>0</td>\n",
       "      <td>0</td>\n",
       "    </tr>\n",
       "    <tr>\n",
       "      <th>133552</th>\n",
       "      <td>365902</td>\n",
       "      <td>2015</td>\n",
       "      <td>9</td>\n",
       "      <td>30</td>\n",
       "      <td>SWA</td>\n",
       "      <td>SOUTHWEST AIRLINES</td>\n",
       "      <td>B-737-700</td>\n",
       "      <td>A</td>\n",
       "      <td>148</td>\n",
       "      <td>42.0</td>\n",
       "      <td>...</td>\n",
       "      <td>0</td>\n",
       "      <td>0</td>\n",
       "      <td>0</td>\n",
       "      <td>0</td>\n",
       "      <td>0</td>\n",
       "      <td>0</td>\n",
       "      <td>0</td>\n",
       "      <td>0</td>\n",
       "      <td>0</td>\n",
       "      <td>0</td>\n",
       "    </tr>\n",
       "    <tr>\n",
       "      <th>133553</th>\n",
       "      <td>365903</td>\n",
       "      <td>2015</td>\n",
       "      <td>9</td>\n",
       "      <td>30</td>\n",
       "      <td>BUS</td>\n",
       "      <td>BUSINESS</td>\n",
       "      <td>CITATIONJET</td>\n",
       "      <td>A</td>\n",
       "      <td>226</td>\n",
       "      <td>49.0</td>\n",
       "      <td>...</td>\n",
       "      <td>1</td>\n",
       "      <td>1</td>\n",
       "      <td>0</td>\n",
       "      <td>0</td>\n",
       "      <td>0</td>\n",
       "      <td>0</td>\n",
       "      <td>0</td>\n",
       "      <td>0</td>\n",
       "      <td>0</td>\n",
       "      <td>0</td>\n",
       "    </tr>\n",
       "    <tr>\n",
       "      <th>133554</th>\n",
       "      <td>366046</td>\n",
       "      <td>2015</td>\n",
       "      <td>9</td>\n",
       "      <td>30</td>\n",
       "      <td>QXE</td>\n",
       "      <td>HORIZON AIR</td>\n",
       "      <td>DHC8 DASH 8</td>\n",
       "      <td>A</td>\n",
       "      <td>303</td>\n",
       "      <td>10.0</td>\n",
       "      <td>...</td>\n",
       "      <td>1</td>\n",
       "      <td>0</td>\n",
       "      <td>0</td>\n",
       "      <td>0</td>\n",
       "      <td>0</td>\n",
       "      <td>0</td>\n",
       "      <td>0</td>\n",
       "      <td>0</td>\n",
       "      <td>0</td>\n",
       "      <td>0</td>\n",
       "    </tr>\n",
       "    <tr>\n",
       "      <th>133555</th>\n",
       "      <td>365823</td>\n",
       "      <td>2015</td>\n",
       "      <td>9</td>\n",
       "      <td>30</td>\n",
       "      <td>AWI</td>\n",
       "      <td>AIR WISCONSIN AIRLINES</td>\n",
       "      <td>CRJ100/200</td>\n",
       "      <td>A</td>\n",
       "      <td>188</td>\n",
       "      <td>10.0</td>\n",
       "      <td>...</td>\n",
       "      <td>0</td>\n",
       "      <td>0</td>\n",
       "      <td>0</td>\n",
       "      <td>0</td>\n",
       "      <td>0</td>\n",
       "      <td>0</td>\n",
       "      <td>0</td>\n",
       "      <td>0</td>\n",
       "      <td>1</td>\n",
       "      <td>0</td>\n",
       "    </tr>\n",
       "  </tbody>\n",
       "</table>\n",
       "<p>133556 rows × 66 columns</p>\n",
       "</div>"
      ],
      "text/plain": [
       "        Record ID  Incident Year  Incident Month  Incident Day Operator ID  \\\n",
       "0          127128           1990               1             1         DAL   \n",
       "1          129779           1990               1             1         HAL   \n",
       "2            2258           1990               1             3         MIL   \n",
       "3            2257           1990               1             3         MIL   \n",
       "4          129734           1990               1             4         HAL   \n",
       "...           ...            ...             ...           ...         ...   \n",
       "133551     366091           2015               9            30         SWA   \n",
       "133552     365902           2015               9            30         SWA   \n",
       "133553     365903           2015               9            30         BUS   \n",
       "133554     366046           2015               9            30         QXE   \n",
       "133555     365823           2015               9            30         AWI   \n",
       "\n",
       "                      Operator     Aircraft Aircraft Type Aircraft Make  \\\n",
       "0              DELTA AIR LINES    B-757-200             A           148   \n",
       "1                 HAWAIIAN AIR         DC-9             A           583   \n",
       "2                     MILITARY        A-10A             A           345   \n",
       "3                     MILITARY         F-16             A           561   \n",
       "4                 HAWAIIAN AIR         DC-9             A           583   \n",
       "...                        ...          ...           ...           ...   \n",
       "133551      SOUTHWEST AIRLINES    B-737-700             A           148   \n",
       "133552      SOUTHWEST AIRLINES    B-737-700             A           148   \n",
       "133553                BUSINESS  CITATIONJET             A           226   \n",
       "133554             HORIZON AIR  DHC8 DASH 8             A           303   \n",
       "133555  AIR WISCONSIN AIRLINES   CRJ100/200             A           188   \n",
       "\n",
       "       Aircraft Model  ...  Fuselage Strike  Fuselage Damage  \\\n",
       "0                  26  ...                0                0   \n",
       "1                  90  ...                0                0   \n",
       "2                 NaN  ...                0                0   \n",
       "3                 NaN  ...                0                0   \n",
       "4                  90  ...                0                0   \n",
       "...               ...  ...              ...              ...   \n",
       "133551           42.0  ...                0                0   \n",
       "133552           42.0  ...                0                0   \n",
       "133553           49.0  ...                1                1   \n",
       "133554           10.0  ...                1                0   \n",
       "133555           10.0  ...                0                0   \n",
       "\n",
       "       Landing Gear Strike  Landing Gear Damage Tail Strike Tail Damage  \\\n",
       "0                        0                    0           1           1   \n",
       "1                        0                    0           0           0   \n",
       "2                        0                    0           0           0   \n",
       "3                        0                    0           0           0   \n",
       "4                        0                    0           0           0   \n",
       "...                    ...                  ...         ...         ...   \n",
       "133551                   0                    0           0           0   \n",
       "133552                   0                    0           0           0   \n",
       "133553                   0                    0           0           0   \n",
       "133554                   0                    0           0           0   \n",
       "133555                   0                    0           0           0   \n",
       "\n",
       "        Lights Strike Lights Damage  Other Strike Other Damage  \n",
       "0                   0             0             0            0  \n",
       "1                   0             0             1            0  \n",
       "2                   0             0             0            0  \n",
       "3                   0             0             0            0  \n",
       "4                   0             0             1            0  \n",
       "...               ...           ...           ...          ...  \n",
       "133551              0             0             0            0  \n",
       "133552              0             0             0            0  \n",
       "133553              0             0             0            0  \n",
       "133554              0             0             0            0  \n",
       "133555              0             0             1            0  \n",
       "\n",
       "[133556 rows x 66 columns]"
      ]
     },
     "execution_count": 8,
     "metadata": {},
     "output_type": "execute_result"
    }
   ],
   "source": [
    "# Finding the file needed for analysis\n",
    "file = 'Resources/Cleaned_data.csv'\n",
    "df = pd.read_csv(file)\n",
    "df"
   ]
  },
  {
   "cell_type": "code",
   "execution_count": 3,
   "metadata": {
    "scrolled": true
   },
   "outputs": [
    {
     "data": {
      "text/html": [
       "<div>\n",
       "<style scoped>\n",
       "    .dataframe tbody tr th:only-of-type {\n",
       "        vertical-align: middle;\n",
       "    }\n",
       "\n",
       "    .dataframe tbody tr th {\n",
       "        vertical-align: top;\n",
       "    }\n",
       "\n",
       "    .dataframe thead th {\n",
       "        text-align: right;\n",
       "    }\n",
       "</style>\n",
       "<table border=\"1\" class=\"dataframe\">\n",
       "  <thead>\n",
       "    <tr style=\"text-align: right;\">\n",
       "      <th></th>\n",
       "      <th>Record ID</th>\n",
       "      <th>Species ID</th>\n",
       "      <th>Species Name</th>\n",
       "      <th>Species Quantity</th>\n",
       "      <th>Fatalities</th>\n",
       "      <th>Injuries</th>\n",
       "    </tr>\n",
       "  </thead>\n",
       "  <tbody>\n",
       "    <tr>\n",
       "      <th>0</th>\n",
       "      <td>127128</td>\n",
       "      <td>NE1</td>\n",
       "      <td>GULL</td>\n",
       "      <td>1</td>\n",
       "      <td>0.0</td>\n",
       "      <td>0.0</td>\n",
       "    </tr>\n",
       "    <tr>\n",
       "      <th>1</th>\n",
       "      <td>129779</td>\n",
       "      <td>ZZ201</td>\n",
       "      <td>HOUSE SPARROW</td>\n",
       "      <td>1</td>\n",
       "      <td>0.0</td>\n",
       "      <td>0.0</td>\n",
       "    </tr>\n",
       "    <tr>\n",
       "      <th>2</th>\n",
       "      <td>2258</td>\n",
       "      <td>UNKBM</td>\n",
       "      <td>UNKNOWN BIRD</td>\n",
       "      <td>1</td>\n",
       "      <td>0.0</td>\n",
       "      <td>0.0</td>\n",
       "    </tr>\n",
       "    <tr>\n",
       "      <th>3</th>\n",
       "      <td>2257</td>\n",
       "      <td>ZX</td>\n",
       "      <td>FINCH</td>\n",
       "      <td>1</td>\n",
       "      <td>0.0</td>\n",
       "      <td>0.0</td>\n",
       "    </tr>\n",
       "    <tr>\n",
       "      <th>4</th>\n",
       "      <td>129734</td>\n",
       "      <td>ZY1</td>\n",
       "      <td>MUNIAS</td>\n",
       "      <td>1</td>\n",
       "      <td>0.0</td>\n",
       "      <td>0.0</td>\n",
       "    </tr>\n",
       "  </tbody>\n",
       "</table>\n",
       "</div>"
      ],
      "text/plain": [
       "   Record ID Species ID   Species Name Species Quantity  Fatalities  Injuries\n",
       "0     127128        NE1           GULL                1         0.0       0.0\n",
       "1     129779      ZZ201  HOUSE SPARROW                1         0.0       0.0\n",
       "2       2258      UNKBM   UNKNOWN BIRD                1         0.0       0.0\n",
       "3       2257         ZX          FINCH                1         0.0       0.0\n",
       "4     129734        ZY1         MUNIAS                1         0.0       0.0"
      ]
     },
     "execution_count": 3,
     "metadata": {},
     "output_type": "execute_result"
    }
   ],
   "source": [
    "# Selecting what is needed.\n",
    "df = df[['Record ID','Species ID','Species Name','Species Quantity',\n",
    "        'Fatalities','Injuries',]]\n",
    "df.head()"
   ]
  },
  {
   "cell_type": "code",
   "execution_count": 4,
   "metadata": {},
   "outputs": [
    {
     "name": "stdout",
     "output_type": "stream",
     "text": [
      "79313\n",
      "54243\n"
     ]
    }
   ],
   "source": [
    "# Creating two dataframes that are different. Between unknown birds and known birds\n",
    "unknown_bird_df = df.loc[(df['Species Name'] == 'UNKNOWN BIRD')]\n",
    "known_df = df.loc[(df['Species Name']!= 'UNKNOWN BIRD')]\n",
    "\n",
    "# Shows the amount of rows.\n",
    "print(len(unknown_bird_df))\n",
    "print(len(known_df))"
   ]
  },
  {
   "cell_type": "code",
   "execution_count": 5,
   "metadata": {},
   "outputs": [
    {
     "data": {
      "text/html": [
       "<div>\n",
       "<style scoped>\n",
       "    .dataframe tbody tr th:only-of-type {\n",
       "        vertical-align: middle;\n",
       "    }\n",
       "\n",
       "    .dataframe tbody tr th {\n",
       "        vertical-align: top;\n",
       "    }\n",
       "\n",
       "    .dataframe thead th {\n",
       "        text-align: right;\n",
       "    }\n",
       "</style>\n",
       "<table border=\"1\" class=\"dataframe\">\n",
       "  <thead>\n",
       "    <tr style=\"text-align: right;\">\n",
       "      <th></th>\n",
       "      <th>Count1</th>\n",
       "    </tr>\n",
       "  </thead>\n",
       "  <tbody>\n",
       "    <tr>\n",
       "      <th>Unknown</th>\n",
       "      <td>79313</td>\n",
       "    </tr>\n",
       "    <tr>\n",
       "      <th>Known</th>\n",
       "      <td>54243</td>\n",
       "    </tr>\n",
       "  </tbody>\n",
       "</table>\n",
       "</div>"
      ],
      "text/plain": [
       "         Count1\n",
       "Unknown   79313\n",
       "Known     54243"
      ]
     },
     "execution_count": 5,
     "metadata": {},
     "output_type": "execute_result"
    }
   ],
   "source": [
    "# New dataframe for pie chart\n",
    "summ_inc = pd.DataFrame([len(unknown_bird_df),len(known_df)],['Unknown','Known'])\n",
    "summ_inc.rename(columns = {0: 'Count1'})"
   ]
  },
  {
   "cell_type": "code",
   "execution_count": 6,
   "metadata": {},
   "outputs": [
    {
     "data": {
      "image/png": "[encoded data removed]",
      "text/plain": [
       "<Figure size 432x288 with 1 Axes>"
      ]
     },
     "metadata": {},
     "output_type": "display_data"
    }
   ],
   "source": [
    "# Creating the labels\n",
    "labels = ['Unknown Birds','Birds']\n",
    "sizes = summ_inc[0]\n",
    "colors = ['coral','lightskyblue']\n",
    "explode = (0.05,0.05)\n",
    "\n",
    "# Creates the pie chart and saves it.\n",
    "plt.pie(sizes,explode = explode, labels = labels, colors = colors, autopct = '%.2f%%')\n",
    "plt.savefig('output/birds_pie')\n",
    "plt.show()"
   ]
  },
  {
   "cell_type": "code",
   "execution_count": 7,
   "metadata": {},
   "outputs": [
    {
     "data": {
      "text/plain": [
       "Species Name\n",
       "GULL                 5839\n",
       "MOURNING DOVE        3243\n",
       "SPARROW              2442\n",
       "EUROPEAN STARLING    2436\n",
       "BARN SWALLOW         2351\n",
       "HORNED LARK          1797\n",
       "ROCK PIGEON          1752\n",
       "KILLDEER             1662\n",
       "CANADA GOOSE         1420\n",
       "AMERICAN KESTREL     1400\n",
       "Name: Record ID, dtype: int64"
      ]
     },
     "execution_count": 7,
     "metadata": {},
     "output_type": "execute_result"
    }
   ],
   "source": [
    "# Finds the birds and their frequency\n",
    "bird_group = known_df.groupby('Species Name')['Record ID'].count().sort_values(ascending = False)\n",
    "bird_clean = bird_group.nlargest(10)\n",
    "bird_clean"
   ]
  },
  {
   "cell_type": "code",
   "execution_count": 8,
   "metadata": {},
   "outputs": [
    {
     "data": {
      "image/png": "[encoded data removed]",
      "text/plain": [
       "<Figure size 432x288 with 1 Axes>"
      ]
     },
     "metadata": {
      "needs_background": "light"
     },
     "output_type": "display_data"
    }
   ],
   "source": [
    "# Bar plot creation\n",
    "bird_clean.plot.bar()\n",
    "\n",
    "plt.figsize = (10,8)\n",
    "plt.xlabel('Species Name')\n",
    "plt.ylabel('Number of Incidents')\n",
    "plt.title('Top 10 Birds')\n",
    "plt.tight_layout()\n",
    "\n",
    "# Saves the plot and shows it.\n",
    "plt.savefig('output/birds_bar')\n",
    "plt.show()"
   ]
  },
  {
   "cell_type": "code",
   "execution_count": 9,
   "metadata": {},
   "outputs": [
    {
     "data": {
      "text/plain": [
       "Species Quantity\n",
       "1           109206\n",
       "2-10         18865\n",
       "11-100        1072\n",
       "Over 100        44\n",
       "Name: Species ID, dtype: int64"
      ]
     },
     "execution_count": 9,
     "metadata": {},
     "output_type": "execute_result"
    }
   ],
   "source": [
    "# Shows the flock size.\n",
    "quantity = df.groupby('Species Quantity')['Species ID'].count().sort_values(ascending = False)\n",
    "quantity"
   ]
  },
  {
   "cell_type": "code",
   "execution_count": 10,
   "metadata": {
    "scrolled": true
   },
   "outputs": [
    {
     "data": {
      "image/png": "[encoded data removed]",
      "text/plain": [
       "<Figure size 432x288 with 1 Axes>"
      ]
     },
     "metadata": {
      "needs_background": "light"
     },
     "output_type": "display_data"
    }
   ],
   "source": [
    "# Creates a bar chart about the incidents\n",
    "flock_type = ['1','2-10','11-100','Over 100']\n",
    "x_axis = np.arange(0,len(quantity))\n",
    "plt.bar(x_axis, quantity , width = .5, color = 'pink', alpha = 1 ,align = 'center')\n",
    "tick_locations = [value for value in x_axis]\n",
    "plt.xticks(tick_locations, flock_type ,rotation = 'vertical')\n",
    "\n",
    "plt.figsize = (10,8)\n",
    "plt.xlabel('Amount of birds')\n",
    "plt.ylabel('Number of Incidents')\n",
    "plt.title('Incidences by Flock size')\n",
    "plt.tight_layout()\n",
    "\n",
    "# Saves the chart and shows it.\n",
    "plt.savefig('output/all_inc_bar')\n",
    "plt.show()"
   ]
  },
  {
   "cell_type": "code",
   "execution_count": 11,
   "metadata": {},
   "outputs": [
    {
     "data": {
      "text/plain": [
       "Species Quantity\n",
       "1           39866\n",
       "2-10        11019\n",
       "11-100        829\n",
       "Over 100       35\n",
       "Name: Species ID, dtype: int64"
      ]
     },
     "execution_count": 11,
     "metadata": {},
     "output_type": "execute_result"
    }
   ],
   "source": [
    "# Shows flock size of only known birds.\n",
    "quantity2 = known_df.groupby('Species Quantity')['Species ID'].count().sort_values(ascending = False)\n",
    "quantity2"
   ]
  },
  {
   "cell_type": "code",
   "execution_count": 12,
   "metadata": {},
   "outputs": [
    {
     "data": {
      "image/png": "[encoded data removed]",
      "text/plain": [
       "<Figure size 432x288 with 1 Axes>"
      ]
     },
     "metadata": {
      "needs_background": "light"
     },
     "output_type": "display_data"
    }
   ],
   "source": [
    "# Creates a bar chart about the incidents\n",
    "flock_type = ['1','2-10','11-100','Over 100']\n",
    "x_axis = np.arange(0,len(quantity2))\n",
    "plt.bar(x_axis, quantity2 , width = .5, color = 'salmon', alpha = 1 ,align = 'center')\n",
    "tick_locations = [value for value in x_axis]\n",
    "plt.xticks(tick_locations, flock_type ,rotation = 'vertical')\n",
    "\n",
    "plt.figsize = (10,8)\n",
    "plt.xlabel('Amount of birds')\n",
    "plt.ylabel('Number of Incidents')\n",
    "plt.title('Incidences by Flock size')\n",
    "plt.tight_layout()\n",
    "\n",
    "# Saves the chart and shows it.\n",
    "plt.savefig('output/known_inc_bar')\n",
    "plt.show()"
   ]
  },
  {
   "cell_type": "code",
   "execution_count": 13,
   "metadata": {
    "scrolled": true
   },
   "outputs": [
    {
     "data": {
      "text/plain": [
       "Species Name       Species Quantity\n",
       "AMERICAN KESTREL   1                   1312\n",
       "                   11-100                 1\n",
       "                   2-10                  79\n",
       "BARN SWALLOW       1                   1727\n",
       "                   11-100                19\n",
       "                   2-10                 502\n",
       "EUROPEAN STARLING  1                   1361\n",
       "                   11-100               206\n",
       "                   2-10                 835\n",
       "                   Over 100              19\n",
       "GULL               1                   4312\n",
       "                   11-100                70\n",
       "                   2-10                1435\n",
       "                   Over 100               5\n",
       "HORNED LARK        1                   1134\n",
       "                   11-100                19\n",
       "                   2-10                 383\n",
       "KILLDEER           1                   1282\n",
       "                   11-100                13\n",
       "                   2-10                 245\n",
       "MOURNING DOVE      1                   2251\n",
       "                   11-100                41\n",
       "                   2-10                 814\n",
       "                   Over 100               1\n",
       "RED-TAILED HAWK    1                   1204\n",
       "                   2-10                  33\n",
       "ROCK PIGEON        1                    976\n",
       "                   11-100                85\n",
       "                   2-10                 674\n",
       "                   Over 100               1\n",
       "SPARROW            1                   1778\n",
       "                   11-100                33\n",
       "                   2-10                 622\n",
       "                   Over 100               1\n",
       "Name: Record ID, dtype: int64"
      ]
     },
     "execution_count": 13,
     "metadata": {},
     "output_type": "execute_result"
    }
   ],
   "source": [
    "# Sorts the frequency by birds.\n",
    "bird_names = ['MOURNING DOVE','GULL','KILLDEER','AMERICAN KESTREL','BARN SWALLOW','HORNED LARK',\n",
    "              'EUROPEAN STARLING','SPARROW','ROCK PIGEON','RED-TAILED HAWK']\n",
    "clean_bird_df = known_df.loc[df['Species Name'].isin(bird_names)]\n",
    "clean_bird_quant = clean_bird_df.groupby(['Species Name','Species Quantity'])['Record ID'].count()\n",
    "clean_bird_quant"
   ]
  },
  {
   "cell_type": "code",
   "execution_count": 14,
   "metadata": {},
   "outputs": [
    {
     "data": {
      "image/png": "[encoded data removed]",
      "text/plain": [
       "<Figure size 432x288 with 1 Axes>"
      ]
     },
     "metadata": {
      "needs_background": "light"
     },
     "output_type": "display_data"
    }
   ],
   "source": [
    "# Creates the bar plot.\n",
    "bar_attempt = clean_bird_df.groupby(['Species Name','Species Quantity'])['Record ID'].count().unstack('Species Quantity').plot.bar()\n",
    "plt.tight_layout()\n",
    "\n",
    "# Saves the bar plot.\n",
    "plt.savefig('output/Inc_by_quant')\n",
    "plt.show()"
   ]
  },
  {
   "cell_type": "code",
   "execution_count": null,
   "metadata": {},
   "outputs": [],
   "source": []
  }
 ],
 "metadata": {
  "kernelspec": {
   "display_name": "Python 3",
   "language": "python",
   "name": "python3"
  },
  "language_info": {
   "codemirror_mode": {
    "name": "ipython",
    "version": 3
   },
   "file_extension": ".py",
   "mimetype": "text/x-python",
   "name": "python",
   "nbconvert_exporter": "python",
   "pygments_lexer": "ipython3",
   "version": "3.7.7"
  }
 },
 "nbformat": 4,
 "nbformat_minor": 4
}
