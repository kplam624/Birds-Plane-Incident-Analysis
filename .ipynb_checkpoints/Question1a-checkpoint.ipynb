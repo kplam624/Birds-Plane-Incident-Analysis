{
 "cells": [
  {
   "cell_type": "code",
   "execution_count": 1,
   "metadata": {},
   "outputs": [],
   "source": [
    "import pandas as pd\n",
    "import numpy as np\n",
    "import matplotlib.pyplot as plt"
   ]
  },
  {
   "cell_type": "code",
   "execution_count": 2,
   "metadata": {
    "scrolled": true
   },
   "outputs": [
    {
     "name": "stdout",
     "output_type": "stream",
     "text": [
      "Records in database: 133556\n"
     ]
    },
    {
     "data": {
      "text/html": [
       "<div>\n",
       "<style scoped>\n",
       "    .dataframe tbody tr th:only-of-type {\n",
       "        vertical-align: middle;\n",
       "    }\n",
       "\n",
       "    .dataframe tbody tr th {\n",
       "        vertical-align: top;\n",
       "    }\n",
       "\n",
       "    .dataframe thead th {\n",
       "        text-align: right;\n",
       "    }\n",
       "</style>\n",
       "<table border=\"1\" class=\"dataframe\">\n",
       "  <thead>\n",
       "    <tr style=\"text-align: right;\">\n",
       "      <th></th>\n",
       "      <th>Record ID</th>\n",
       "      <th>Incident Year</th>\n",
       "      <th>Incident Month</th>\n",
       "      <th>Incident Day</th>\n",
       "      <th>Operator ID</th>\n",
       "      <th>Operator</th>\n",
       "      <th>Aircraft</th>\n",
       "      <th>Aircraft Type</th>\n",
       "      <th>Aircraft Make</th>\n",
       "      <th>Aircraft Model</th>\n",
       "      <th>...</th>\n",
       "      <th>Fuselage Strike</th>\n",
       "      <th>Fuselage Damage</th>\n",
       "      <th>Landing Gear Strike</th>\n",
       "      <th>Landing Gear Damage</th>\n",
       "      <th>Tail Strike</th>\n",
       "      <th>Tail Damage</th>\n",
       "      <th>Lights Strike</th>\n",
       "      <th>Lights Damage</th>\n",
       "      <th>Other Strike</th>\n",
       "      <th>Other Damage</th>\n",
       "    </tr>\n",
       "  </thead>\n",
       "  <tbody>\n",
       "    <tr>\n",
       "      <th>0</th>\n",
       "      <td>127128</td>\n",
       "      <td>1990</td>\n",
       "      <td>1</td>\n",
       "      <td>1</td>\n",
       "      <td>DAL</td>\n",
       "      <td>DELTA AIR LINES</td>\n",
       "      <td>B-757-200</td>\n",
       "      <td>A</td>\n",
       "      <td>148</td>\n",
       "      <td>26</td>\n",
       "      <td>...</td>\n",
       "      <td>0</td>\n",
       "      <td>0</td>\n",
       "      <td>0</td>\n",
       "      <td>0</td>\n",
       "      <td>1</td>\n",
       "      <td>1</td>\n",
       "      <td>0</td>\n",
       "      <td>0</td>\n",
       "      <td>0</td>\n",
       "      <td>0</td>\n",
       "    </tr>\n",
       "    <tr>\n",
       "      <th>1</th>\n",
       "      <td>129779</td>\n",
       "      <td>1990</td>\n",
       "      <td>1</td>\n",
       "      <td>1</td>\n",
       "      <td>HAL</td>\n",
       "      <td>HAWAIIAN AIR</td>\n",
       "      <td>DC-9</td>\n",
       "      <td>A</td>\n",
       "      <td>583</td>\n",
       "      <td>90</td>\n",
       "      <td>...</td>\n",
       "      <td>0</td>\n",
       "      <td>0</td>\n",
       "      <td>0</td>\n",
       "      <td>0</td>\n",
       "      <td>0</td>\n",
       "      <td>0</td>\n",
       "      <td>0</td>\n",
       "      <td>0</td>\n",
       "      <td>1</td>\n",
       "      <td>0</td>\n",
       "    </tr>\n",
       "  </tbody>\n",
       "</table>\n",
       "<p>2 rows × 66 columns</p>\n",
       "</div>"
      ],
      "text/plain": [
       "   Record ID  Incident Year  Incident Month  Incident Day Operator ID  \\\n",
       "0     127128           1990               1             1         DAL   \n",
       "1     129779           1990               1             1         HAL   \n",
       "\n",
       "          Operator   Aircraft Aircraft Type Aircraft Make Aircraft Model  ...  \\\n",
       "0  DELTA AIR LINES  B-757-200             A           148             26  ...   \n",
       "1     HAWAIIAN AIR       DC-9             A           583             90  ...   \n",
       "\n",
       "   Fuselage Strike  Fuselage Damage Landing Gear Strike  Landing Gear Damage  \\\n",
       "0                0                0                   0                    0   \n",
       "1                0                0                   0                    0   \n",
       "\n",
       "  Tail Strike Tail Damage  Lights Strike Lights Damage  Other Strike  \\\n",
       "0           1           1              0             0             0   \n",
       "1           0           0              0             0             1   \n",
       "\n",
       "  Other Damage  \n",
       "0            0  \n",
       "1            0  \n",
       "\n",
       "[2 rows x 66 columns]"
      ]
     },
     "execution_count": 2,
     "metadata": {},
     "output_type": "execute_result"
    }
   ],
   "source": [
    "database=\"Resources/Cleaned_data.csv\"\n",
    "cbs_df=pd.read_csv(database, low_memory=False)\n",
    "print(\"Records in database: \"+ str(len(cbs_df)))\n",
    "cbs_df.head(2)"
   ]
  },
  {
   "cell_type": "markdown",
   "metadata": {},
   "source": [
    "# Bar Graph Bird Strikes by Month"
   ]
  },
  {
   "cell_type": "code",
   "execution_count": 7,
   "metadata": {
    "scrolled": true
   },
   "outputs": [
    {
     "data": {
      "image/png": "[encoded data removed]",
      "text/plain": [
       "<Figure size 720x432 with 1 Axes>"
      ]
     },
     "metadata": {
      "needs_background": "light"
     },
     "output_type": "display_data"
    }
   ],
   "source": [
    "#Create bins for Months of Year\n",
    "cut_bins=[0,1,2,3,4,5,6,7,8,9,10,11,12]\n",
    "cut_labels=['January','Feburary','March','April','May','June','July','August','September','October','November','December']\n",
    "bh_month=pd.cut(cbs_df[\"Incident Month\"],bins=cut_bins, labels=cut_labels).value_counts(sort=False)\n",
    "\n",
    "bh_month_df=pd.DataFrame({'Bird Hits':bh_month})\n",
    "bh_month_df\n",
    "bar_chart=bh_month_df.plot(kind='bar',color='blue',fontsize=10, figsize=(10,6))\n",
    "plt.xticks(rotation=45)\n",
    "bar_chart.set_title('Bird Strikes by Month (1990-2015)',fontsize=20)\n",
    "bar_chart.set_xlabel('Month', fontsize=10)\n",
    "bar_chart.set_ylabel('Bird Strikes', fontsize=10)\n",
    "plt.savefig(\"Output_data/BSbyMonth.png\", bbox_inches='tight')\n",
    "plt.show()"
   ]
  },
  {
   "cell_type": "markdown",
   "metadata": {},
   "source": [
    "# Bar Graph - Bird Strikes by Season"
   ]
  },
  {
   "cell_type": "code",
   "execution_count": 12,
   "metadata": {},
   "outputs": [
    {
     "data": {
      "image/png": "[encoded data removed]",
      "text/plain": [
       "<Figure size 432x432 with 1 Axes>"
      ]
     },
     "metadata": {
      "needs_background": "light"
     },
     "output_type": "display_data"
    }
   ],
   "source": [
    "#Create bins for Seasons of the Year\n",
    "cut_bins=[0,3,6,9,12]\n",
    "cut_labels=[\"Winter\",\"Spring\",\"Summer\",\"Fall\"]\n",
    "bh_season=pd.cut(cbs_df[\"Incident Month\"],bins=cut_bins, labels=cut_labels).value_counts(sort=False)\n",
    "\n",
    "=pd.DataFrame({'Bird Hits':bh_season})\n",
    "bar_chart=bh_season_df.plot(kind='bar', color='blue',fontsize=10, figsize=(6,6))\n",
    "plt.xticks(rotation=45)\n",
    "bar_chart.set_title('Bird Strikes by Season (1990-2015)', fontsize=15)\n",
    "bar_chart.set_xlabel('Season', fontsize=10)\n",
    "bar_chart.set_ylabel('Bird Strikes', fontsize=10)\n",
    "plt.savefig(\"Output_data/BSbySeason.png\",bbox_inches='tight')\n",
    "plt.show()"
   ]
  }
 ],
 "metadata": {
  "kernelspec": {
   "display_name": "Python 3",
   "language": "python",
   "name": "python3"
  },
  "language_info": {
   "codemirror_mode": {
    "name": "ipython",
    "version": 3
   },
   "file_extension": ".py",
   "mimetype": "text/x-python",
   "name": "python",
   "nbconvert_exporter": "python",
   "pygments_lexer": "ipython3",
   "version": "3.6.10"
  }
 },
 "nbformat": 4,
 "nbformat_minor": 4
}
