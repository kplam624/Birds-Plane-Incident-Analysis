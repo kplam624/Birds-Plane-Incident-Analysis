{
 "cells": [
  {
   "cell_type": "code",
   "execution_count": null,
   "metadata": {},
   "outputs": [],
   "source": [
    "import pandas as pd\n",
    "import numpy as np\n",
    "import matplotlib.pyplot as plt"
   ]
  },
  {
   "cell_type": "code",
   "execution_count": null,
   "metadata": {},
   "outputs": [],
   "source": [
    "bh_operators_df=cbs_df.loc[\n",
    "                    (cbs_df['Operator']!='BUSINESS') &\n",
    "                    (cbs_df['Operator']!='PRIVATELY OWNED')\n",
    "                    ]\n",
    "military=bh_operators_df.loc[(bh_operators_df['Operator']=='MILITARY')]\n",
    "military_hits=len(military)\n",
    "commercial=len(bh_operators_df)-len(military)\n",
    "operator=['Military','Commercial']\n",
    "birdhits=[military_hits,commercial]\n",
    "bh_operator_df=pd.DataFrame({\n",
    "                    'Operator':operator,\n",
    "                    'Bird Strikes':birdhits\n",
    "}, index=operator)\n",
    "bar_chart=bh_operator_df.plot(kind='bar')\n",
    "bar_chart.set_title('Military .vs. Commercial Bird Strikes (1990-2015)')\n",
    "bar_chart.set_xlabel('Operator')\n",
    "bar_chart.set_ylabel('Bird Strikes')\n",
    "plt.show()"
   ]
  }
 ],
 "metadata": {
  "kernelspec": {
   "display_name": "Python 3",
   "language": "python",
   "name": "python3"
  },
  "language_info": {
   "codemirror_mode": {
    "name": "ipython",
    "version": 3
   },
   "file_extension": ".py",
   "mimetype": "text/x-python",
   "name": "python",
   "nbconvert_exporter": "python",
   "pygments_lexer": "ipython3",
   "version": "3.8.5"
  }
 },
 "nbformat": 4,
 "nbformat_minor": 4
}
