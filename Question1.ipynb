{
 "cells": [
  {
   "cell_type": "code",
   "execution_count": null,
   "metadata": {},
   "outputs": [],
   "source": [
    "import pandas as pd\n",
    "import numpy as np\n",
    "import matplotlib.pyplot as plt"
   ]
  },
  {
   "cell_type": "code",
   "execution_count": null,
   "metadata": {},
   "outputs": [],
   "source": [
    "cut_bins=[0,1,2,3,4,5,6,7,8,9,10,11,12]\n",
    "cut_labels=['January','Feburary','March','April','May','June','July','August','September','October','November','December']\n",
    "bh_month=pd.cut(cbs_df[\"Incident Month\"],bins=cut_bins, labels=cut_labels).value_counts(sort=False)\n",
    "bh_month_df=pd.DataFrame({'Bird Hits':bh_month})\n",
    "bh_month_df\n",
    "bar_chart=bh_month_df.plot(kind='bar')\n",
    "bar_chart.set_title('Bird Strikes by Month (1990-2015)')\n",
    "bar_chart.set_xlabel('Month')\n",
    "bar_chart.set_ylabel('Bird Strikes')\n",
    "plt.show()"
   ]
  }
 ],
 "metadata": {
  "kernelspec": {
   "display_name": "Python 3",
   "language": "python",
   "name": "python3"
  },
  "language_info": {
   "codemirror_mode": {
    "name": "ipython",
    "version": 3
   },
   "file_extension": ".py",
   "mimetype": "text/x-python",
   "name": "python",
   "nbconvert_exporter": "python",
   "pygments_lexer": "ipython3",
   "version": "3.8.5"
  }
 },
 "nbformat": 4,
 "nbformat_minor": 4
}
