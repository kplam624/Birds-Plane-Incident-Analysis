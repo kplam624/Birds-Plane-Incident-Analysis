{
 "cells": [
  {
   "cell_type": "code",
   "execution_count": 76,
   "metadata": {},
   "outputs": [],
   "source": [
    "import matplotlib.pyplot as plt\n",
    "import pandas as pd\n",
    "import numpy as np\n",
    "import json\n",
    "import gmaps\n",
    "from pandas import DataFrame\n",
    "from scipy.stats import linregress\n"
   ]
  },
  {
   "cell_type": "code",
   "execution_count": 77,
   "metadata": {},
   "outputs": [
    {
     "data": {
      "text/html": [
       "<div>\n",
       "<style scoped>\n",
       "    .dataframe tbody tr th:only-of-type {\n",
       "        vertical-align: middle;\n",
       "    }\n",
       "\n",
       "    .dataframe tbody tr th {\n",
       "        vertical-align: top;\n",
       "    }\n",
       "\n",
       "    .dataframe thead th {\n",
       "        text-align: right;\n",
       "    }\n",
       "</style>\n",
       "<table border=\"1\" class=\"dataframe\">\n",
       "  <thead>\n",
       "    <tr style=\"text-align: right;\">\n",
       "      <th></th>\n",
       "      <th>Record ID</th>\n",
       "      <th>Incident Year</th>\n",
       "      <th>Incident Month</th>\n",
       "      <th>Incident Day</th>\n",
       "      <th>Operator ID</th>\n",
       "      <th>Operator</th>\n",
       "      <th>Aircraft</th>\n",
       "      <th>Aircraft Type</th>\n",
       "      <th>Aircraft Make</th>\n",
       "      <th>Aircraft Model</th>\n",
       "      <th>...</th>\n",
       "      <th>Fuselage Strike</th>\n",
       "      <th>Fuselage Damage</th>\n",
       "      <th>Landing Gear Strike</th>\n",
       "      <th>Landing Gear Damage</th>\n",
       "      <th>Tail Strike</th>\n",
       "      <th>Tail Damage</th>\n",
       "      <th>Lights Strike</th>\n",
       "      <th>Lights Damage</th>\n",
       "      <th>Other Strike</th>\n",
       "      <th>Other Damage</th>\n",
       "    </tr>\n",
       "  </thead>\n",
       "  <tbody>\n",
       "    <tr>\n",
       "      <th>0</th>\n",
       "      <td>127128</td>\n",
       "      <td>1990</td>\n",
       "      <td>1</td>\n",
       "      <td>1</td>\n",
       "      <td>DAL</td>\n",
       "      <td>DELTA AIR LINES</td>\n",
       "      <td>B-757-200</td>\n",
       "      <td>A</td>\n",
       "      <td>148</td>\n",
       "      <td>26</td>\n",
       "      <td>...</td>\n",
       "      <td>0</td>\n",
       "      <td>0</td>\n",
       "      <td>0</td>\n",
       "      <td>0</td>\n",
       "      <td>1</td>\n",
       "      <td>1</td>\n",
       "      <td>0</td>\n",
       "      <td>0</td>\n",
       "      <td>0</td>\n",
       "      <td>0</td>\n",
       "    </tr>\n",
       "    <tr>\n",
       "      <th>1</th>\n",
       "      <td>129779</td>\n",
       "      <td>1990</td>\n",
       "      <td>1</td>\n",
       "      <td>1</td>\n",
       "      <td>HAL</td>\n",
       "      <td>HAWAIIAN AIR</td>\n",
       "      <td>DC-9</td>\n",
       "      <td>A</td>\n",
       "      <td>583</td>\n",
       "      <td>90</td>\n",
       "      <td>...</td>\n",
       "      <td>0</td>\n",
       "      <td>0</td>\n",
       "      <td>0</td>\n",
       "      <td>0</td>\n",
       "      <td>0</td>\n",
       "      <td>0</td>\n",
       "      <td>0</td>\n",
       "      <td>0</td>\n",
       "      <td>1</td>\n",
       "      <td>0</td>\n",
       "    </tr>\n",
       "    <tr>\n",
       "      <th>2</th>\n",
       "      <td>129780</td>\n",
       "      <td>1990</td>\n",
       "      <td>1</td>\n",
       "      <td>2</td>\n",
       "      <td>UNK</td>\n",
       "      <td>UNKNOWN</td>\n",
       "      <td>UNKNOWN</td>\n",
       "      <td>NaN</td>\n",
       "      <td>NaN</td>\n",
       "      <td>NaN</td>\n",
       "      <td>...</td>\n",
       "      <td>0</td>\n",
       "      <td>0</td>\n",
       "      <td>0</td>\n",
       "      <td>0</td>\n",
       "      <td>0</td>\n",
       "      <td>0</td>\n",
       "      <td>0</td>\n",
       "      <td>0</td>\n",
       "      <td>0</td>\n",
       "      <td>0</td>\n",
       "    </tr>\n",
       "    <tr>\n",
       "      <th>3</th>\n",
       "      <td>2258</td>\n",
       "      <td>1990</td>\n",
       "      <td>1</td>\n",
       "      <td>3</td>\n",
       "      <td>MIL</td>\n",
       "      <td>MILITARY</td>\n",
       "      <td>A-10A</td>\n",
       "      <td>A</td>\n",
       "      <td>345</td>\n",
       "      <td>NaN</td>\n",
       "      <td>...</td>\n",
       "      <td>0</td>\n",
       "      <td>0</td>\n",
       "      <td>0</td>\n",
       "      <td>0</td>\n",
       "      <td>0</td>\n",
       "      <td>0</td>\n",
       "      <td>0</td>\n",
       "      <td>0</td>\n",
       "      <td>0</td>\n",
       "      <td>0</td>\n",
       "    </tr>\n",
       "    <tr>\n",
       "      <th>4</th>\n",
       "      <td>2257</td>\n",
       "      <td>1990</td>\n",
       "      <td>1</td>\n",
       "      <td>3</td>\n",
       "      <td>MIL</td>\n",
       "      <td>MILITARY</td>\n",
       "      <td>F-16</td>\n",
       "      <td>A</td>\n",
       "      <td>561</td>\n",
       "      <td>NaN</td>\n",
       "      <td>...</td>\n",
       "      <td>0</td>\n",
       "      <td>0</td>\n",
       "      <td>0</td>\n",
       "      <td>0</td>\n",
       "      <td>0</td>\n",
       "      <td>0</td>\n",
       "      <td>0</td>\n",
       "      <td>0</td>\n",
       "      <td>0</td>\n",
       "      <td>0</td>\n",
       "    </tr>\n",
       "    <tr>\n",
       "      <th>...</th>\n",
       "      <td>...</td>\n",
       "      <td>...</td>\n",
       "      <td>...</td>\n",
       "      <td>...</td>\n",
       "      <td>...</td>\n",
       "      <td>...</td>\n",
       "      <td>...</td>\n",
       "      <td>...</td>\n",
       "      <td>...</td>\n",
       "      <td>...</td>\n",
       "      <td>...</td>\n",
       "      <td>...</td>\n",
       "      <td>...</td>\n",
       "      <td>...</td>\n",
       "      <td>...</td>\n",
       "      <td>...</td>\n",
       "      <td>...</td>\n",
       "      <td>...</td>\n",
       "      <td>...</td>\n",
       "      <td>...</td>\n",
       "      <td>...</td>\n",
       "    </tr>\n",
       "    <tr>\n",
       "      <th>174099</th>\n",
       "      <td>366091</td>\n",
       "      <td>2015</td>\n",
       "      <td>9</td>\n",
       "      <td>30</td>\n",
       "      <td>SWA</td>\n",
       "      <td>SOUTHWEST AIRLINES</td>\n",
       "      <td>B-737-700</td>\n",
       "      <td>A</td>\n",
       "      <td>148</td>\n",
       "      <td>42</td>\n",
       "      <td>...</td>\n",
       "      <td>0</td>\n",
       "      <td>0</td>\n",
       "      <td>0</td>\n",
       "      <td>0</td>\n",
       "      <td>0</td>\n",
       "      <td>0</td>\n",
       "      <td>0</td>\n",
       "      <td>0</td>\n",
       "      <td>0</td>\n",
       "      <td>0</td>\n",
       "    </tr>\n",
       "    <tr>\n",
       "      <th>174100</th>\n",
       "      <td>365902</td>\n",
       "      <td>2015</td>\n",
       "      <td>9</td>\n",
       "      <td>30</td>\n",
       "      <td>SWA</td>\n",
       "      <td>SOUTHWEST AIRLINES</td>\n",
       "      <td>B-737-700</td>\n",
       "      <td>A</td>\n",
       "      <td>148</td>\n",
       "      <td>42</td>\n",
       "      <td>...</td>\n",
       "      <td>0</td>\n",
       "      <td>0</td>\n",
       "      <td>0</td>\n",
       "      <td>0</td>\n",
       "      <td>0</td>\n",
       "      <td>0</td>\n",
       "      <td>0</td>\n",
       "      <td>0</td>\n",
       "      <td>0</td>\n",
       "      <td>0</td>\n",
       "    </tr>\n",
       "    <tr>\n",
       "      <th>174101</th>\n",
       "      <td>365903</td>\n",
       "      <td>2015</td>\n",
       "      <td>9</td>\n",
       "      <td>30</td>\n",
       "      <td>BUS</td>\n",
       "      <td>BUSINESS</td>\n",
       "      <td>CITATIONJET</td>\n",
       "      <td>A</td>\n",
       "      <td>226</td>\n",
       "      <td>49</td>\n",
       "      <td>...</td>\n",
       "      <td>1</td>\n",
       "      <td>1</td>\n",
       "      <td>0</td>\n",
       "      <td>0</td>\n",
       "      <td>0</td>\n",
       "      <td>0</td>\n",
       "      <td>0</td>\n",
       "      <td>0</td>\n",
       "      <td>0</td>\n",
       "      <td>0</td>\n",
       "    </tr>\n",
       "    <tr>\n",
       "      <th>174102</th>\n",
       "      <td>366046</td>\n",
       "      <td>2015</td>\n",
       "      <td>9</td>\n",
       "      <td>30</td>\n",
       "      <td>QXE</td>\n",
       "      <td>HORIZON AIR</td>\n",
       "      <td>DHC8 DASH 8</td>\n",
       "      <td>A</td>\n",
       "      <td>303</td>\n",
       "      <td>10</td>\n",
       "      <td>...</td>\n",
       "      <td>1</td>\n",
       "      <td>0</td>\n",
       "      <td>0</td>\n",
       "      <td>0</td>\n",
       "      <td>0</td>\n",
       "      <td>0</td>\n",
       "      <td>0</td>\n",
       "      <td>0</td>\n",
       "      <td>0</td>\n",
       "      <td>0</td>\n",
       "    </tr>\n",
       "    <tr>\n",
       "      <th>174103</th>\n",
       "      <td>365823</td>\n",
       "      <td>2015</td>\n",
       "      <td>9</td>\n",
       "      <td>30</td>\n",
       "      <td>AWI</td>\n",
       "      <td>AIR WISCONSIN AIRLINES</td>\n",
       "      <td>CRJ100/200</td>\n",
       "      <td>A</td>\n",
       "      <td>188</td>\n",
       "      <td>10</td>\n",
       "      <td>...</td>\n",
       "      <td>0</td>\n",
       "      <td>0</td>\n",
       "      <td>0</td>\n",
       "      <td>0</td>\n",
       "      <td>0</td>\n",
       "      <td>0</td>\n",
       "      <td>0</td>\n",
       "      <td>0</td>\n",
       "      <td>1</td>\n",
       "      <td>0</td>\n",
       "    </tr>\n",
       "  </tbody>\n",
       "</table>\n",
       "<p>174104 rows × 66 columns</p>\n",
       "</div>"
      ],
      "text/plain": [
       "        Record ID  Incident Year  Incident Month  Incident Day Operator ID  \\\n",
       "0          127128           1990               1             1         DAL   \n",
       "1          129779           1990               1             1         HAL   \n",
       "2          129780           1990               1             2         UNK   \n",
       "3            2258           1990               1             3         MIL   \n",
       "4            2257           1990               1             3         MIL   \n",
       "...           ...            ...             ...           ...         ...   \n",
       "174099     366091           2015               9            30         SWA   \n",
       "174100     365902           2015               9            30         SWA   \n",
       "174101     365903           2015               9            30         BUS   \n",
       "174102     366046           2015               9            30         QXE   \n",
       "174103     365823           2015               9            30         AWI   \n",
       "\n",
       "                      Operator     Aircraft Aircraft Type Aircraft Make  \\\n",
       "0              DELTA AIR LINES    B-757-200             A           148   \n",
       "1                 HAWAIIAN AIR         DC-9             A           583   \n",
       "2                      UNKNOWN      UNKNOWN           NaN           NaN   \n",
       "3                     MILITARY        A-10A             A           345   \n",
       "4                     MILITARY         F-16             A           561   \n",
       "...                        ...          ...           ...           ...   \n",
       "174099      SOUTHWEST AIRLINES    B-737-700             A           148   \n",
       "174100      SOUTHWEST AIRLINES    B-737-700             A           148   \n",
       "174101                BUSINESS  CITATIONJET             A           226   \n",
       "174102             HORIZON AIR  DHC8 DASH 8             A           303   \n",
       "174103  AIR WISCONSIN AIRLINES   CRJ100/200             A           188   \n",
       "\n",
       "       Aircraft Model  ...  Fuselage Strike  Fuselage Damage  \\\n",
       "0                  26  ...                0                0   \n",
       "1                  90  ...                0                0   \n",
       "2                 NaN  ...                0                0   \n",
       "3                 NaN  ...                0                0   \n",
       "4                 NaN  ...                0                0   \n",
       "...               ...  ...              ...              ...   \n",
       "174099             42  ...                0                0   \n",
       "174100             42  ...                0                0   \n",
       "174101             49  ...                1                1   \n",
       "174102             10  ...                1                0   \n",
       "174103             10  ...                0                0   \n",
       "\n",
       "       Landing Gear Strike  Landing Gear Damage Tail Strike Tail Damage  \\\n",
       "0                        0                    0           1           1   \n",
       "1                        0                    0           0           0   \n",
       "2                        0                    0           0           0   \n",
       "3                        0                    0           0           0   \n",
       "4                        0                    0           0           0   \n",
       "...                    ...                  ...         ...         ...   \n",
       "174099                   0                    0           0           0   \n",
       "174100                   0                    0           0           0   \n",
       "174101                   0                    0           0           0   \n",
       "174102                   0                    0           0           0   \n",
       "174103                   0                    0           0           0   \n",
       "\n",
       "        Lights Strike Lights Damage  Other Strike Other Damage  \n",
       "0                   0             0             0            0  \n",
       "1                   0             0             1            0  \n",
       "2                   0             0             0            0  \n",
       "3                   0             0             0            0  \n",
       "4                   0             0             0            0  \n",
       "...               ...           ...           ...          ...  \n",
       "174099              0             0             0            0  \n",
       "174100              0             0             0            0  \n",
       "174101              0             0             0            0  \n",
       "174102              0             0             0            0  \n",
       "174103              0             0             1            0  \n",
       "\n",
       "[174104 rows x 66 columns]"
      ]
     },
     "execution_count": 77,
     "metadata": {},
     "output_type": "execute_result"
    }
   ],
   "source": [
    "# File to Load (Remember to Change These)\n",
    "file_to_load = \"Resources/database.csv\"\n",
    "\n",
    "# Read File and store into Pandas data frame\n",
    "Birds_data = pd.read_csv(file_to_load)\n",
    "Birds_data"
   ]
  },
  {
   "cell_type": "code",
   "execution_count": 78,
   "metadata": {},
   "outputs": [
    {
     "name": "stdout",
     "output_type": "stream",
     "text": [
      "<class 'pandas.core.frame.DataFrame'>\n",
      "RangeIndex: 174104 entries, 0 to 174103\n",
      "Data columns (total 66 columns):\n",
      " #   Column                Non-Null Count   Dtype  \n",
      "---  ------                --------------   -----  \n",
      " 0   Record ID             174104 non-null  int64  \n",
      " 1   Incident Year         174104 non-null  int64  \n",
      " 2   Incident Month        174104 non-null  int64  \n",
      " 3   Incident Day          174104 non-null  int64  \n",
      " 4   Operator ID           174104 non-null  object \n",
      " 5   Operator              174104 non-null  object \n",
      " 6   Aircraft              174104 non-null  object \n",
      " 7   Aircraft Type         133074 non-null  object \n",
      " 8   Aircraft Make         131051 non-null  object \n",
      " 9   Aircraft Model        122439 non-null  object \n",
      " 10  Aircraft Mass         127320 non-null  float64\n",
      " 11  Engine Make           123434 non-null  float64\n",
      " 12  Engine Model          121988 non-null  object \n",
      " 13  Engines               127342 non-null  float64\n",
      " 14  Engine Type           127282 non-null  object \n",
      " 15  Engine1 Position      126193 non-null  object \n",
      " 16  Engine2 Position      118715 non-null  float64\n",
      " 17  Engine3 Position      11659 non-null   object \n",
      " 18  Engine4 Position      3092 non-null    float64\n",
      " 19  Airport ID            174104 non-null  object \n",
      " 20  Airport               173814 non-null  object \n",
      " 21  State                 152128 non-null  object \n",
      " 22  FAA Region            155202 non-null  object \n",
      " 23  Warning Issued        76418 non-null   object \n",
      " 24  Flight Phase          118802 non-null  object \n",
      " 25  Visibility            109933 non-null  object \n",
      " 26  Precipitation         88322 non-null   object \n",
      " 27  Height                103677 non-null  float64\n",
      " 28  Speed                 71258 non-null   float64\n",
      " 29  Distance              99713 non-null   float64\n",
      " 30  Species ID            174104 non-null  object \n",
      " 31  Species Name          174024 non-null  object \n",
      " 32  Species Quantity      169627 non-null  object \n",
      " 33  Flight Impact         99465 non-null   object \n",
      " 34  Fatalities            565 non-null     float64\n",
      " 35  Injuries              229 non-null     float64\n",
      " 36  Aircraft Damage       174104 non-null  int64  \n",
      " 37  Radome Strike         174104 non-null  int64  \n",
      " 38  Radome Damage         174104 non-null  int64  \n",
      " 39  Windshield Strike     174104 non-null  int64  \n",
      " 40  Windshield Damage     174104 non-null  int64  \n",
      " 41  Nose Strike           174104 non-null  int64  \n",
      " 42  Nose Damage           174104 non-null  int64  \n",
      " 43  Engine1 Strike        174104 non-null  int64  \n",
      " 44  Engine1 Damage        174104 non-null  int64  \n",
      " 45  Engine2 Strike        174104 non-null  int64  \n",
      " 46  Engine2 Damage        174104 non-null  int64  \n",
      " 47  Engine3 Strike        174104 non-null  int64  \n",
      " 48  Engine3 Damage        174104 non-null  int64  \n",
      " 49  Engine4 Strike        174104 non-null  int64  \n",
      " 50  Engine4 Damage        174104 non-null  int64  \n",
      " 51  Engine Ingested       174104 non-null  int64  \n",
      " 52  Propeller Strike      174104 non-null  int64  \n",
      " 53  Propeller Damage      174104 non-null  int64  \n",
      " 54  Wing or Rotor Strike  174104 non-null  int64  \n",
      " 55  Wing or Rotor Damage  174104 non-null  int64  \n",
      " 56  Fuselage Strike       174104 non-null  int64  \n",
      " 57  Fuselage Damage       174104 non-null  int64  \n",
      " 58  Landing Gear Strike   174104 non-null  int64  \n",
      " 59  Landing Gear Damage   174104 non-null  int64  \n",
      " 60  Tail Strike           174104 non-null  int64  \n",
      " 61  Tail Damage           174104 non-null  int64  \n",
      " 62  Lights Strike         174104 non-null  int64  \n",
      " 63  Lights Damage         174104 non-null  int64  \n",
      " 64  Other Strike          174104 non-null  int64  \n",
      " 65  Other Damage          174104 non-null  int64  \n",
      "dtypes: float64(10), int64(34), object(22)\n",
      "memory usage: 87.7+ MB\n"
     ]
    }
   ],
   "source": [
    "Birds_data.info()"
   ]
  },
  {
   "cell_type": "code",
   "execution_count": 79,
   "metadata": {},
   "outputs": [
    {
     "data": {
      "text/html": [
       "<div>\n",
       "<style scoped>\n",
       "    .dataframe tbody tr th:only-of-type {\n",
       "        vertical-align: middle;\n",
       "    }\n",
       "\n",
       "    .dataframe tbody tr th {\n",
       "        vertical-align: top;\n",
       "    }\n",
       "\n",
       "    .dataframe thead th {\n",
       "        text-align: right;\n",
       "    }\n",
       "</style>\n",
       "<table border=\"1\" class=\"dataframe\">\n",
       "  <thead>\n",
       "    <tr style=\"text-align: right;\">\n",
       "      <th></th>\n",
       "      <th>Visibility</th>\n",
       "      <th>Precipitation</th>\n",
       "      <th>Injuries</th>\n",
       "      <th>Fatalities</th>\n",
       "    </tr>\n",
       "  </thead>\n",
       "  <tbody>\n",
       "    <tr>\n",
       "      <th>0</th>\n",
       "      <td>NaN</td>\n",
       "      <td>NaN</td>\n",
       "      <td>NaN</td>\n",
       "      <td>NaN</td>\n",
       "    </tr>\n",
       "    <tr>\n",
       "      <th>1</th>\n",
       "      <td>NaN</td>\n",
       "      <td>NaN</td>\n",
       "      <td>NaN</td>\n",
       "      <td>NaN</td>\n",
       "    </tr>\n",
       "    <tr>\n",
       "      <th>2</th>\n",
       "      <td>NaN</td>\n",
       "      <td>NaN</td>\n",
       "      <td>NaN</td>\n",
       "      <td>NaN</td>\n",
       "    </tr>\n",
       "    <tr>\n",
       "      <th>3</th>\n",
       "      <td>DAY</td>\n",
       "      <td>NaN</td>\n",
       "      <td>NaN</td>\n",
       "      <td>NaN</td>\n",
       "    </tr>\n",
       "    <tr>\n",
       "      <th>4</th>\n",
       "      <td>DAY</td>\n",
       "      <td>NaN</td>\n",
       "      <td>NaN</td>\n",
       "      <td>NaN</td>\n",
       "    </tr>\n",
       "    <tr>\n",
       "      <th>...</th>\n",
       "      <td>...</td>\n",
       "      <td>...</td>\n",
       "      <td>...</td>\n",
       "      <td>...</td>\n",
       "    </tr>\n",
       "    <tr>\n",
       "      <th>174099</th>\n",
       "      <td>NaN</td>\n",
       "      <td>NaN</td>\n",
       "      <td>NaN</td>\n",
       "      <td>NaN</td>\n",
       "    </tr>\n",
       "    <tr>\n",
       "      <th>174100</th>\n",
       "      <td>NaN</td>\n",
       "      <td>NaN</td>\n",
       "      <td>NaN</td>\n",
       "      <td>NaN</td>\n",
       "    </tr>\n",
       "    <tr>\n",
       "      <th>174101</th>\n",
       "      <td>NaN</td>\n",
       "      <td>NaN</td>\n",
       "      <td>NaN</td>\n",
       "      <td>NaN</td>\n",
       "    </tr>\n",
       "    <tr>\n",
       "      <th>174102</th>\n",
       "      <td>NaN</td>\n",
       "      <td>NaN</td>\n",
       "      <td>NaN</td>\n",
       "      <td>NaN</td>\n",
       "    </tr>\n",
       "    <tr>\n",
       "      <th>174103</th>\n",
       "      <td>NaN</td>\n",
       "      <td>NaN</td>\n",
       "      <td>NaN</td>\n",
       "      <td>NaN</td>\n",
       "    </tr>\n",
       "  </tbody>\n",
       "</table>\n",
       "<p>696416 rows × 4 columns</p>\n",
       "</div>"
      ],
      "text/plain": [
       "       Visibility Precipitation  Injuries  Fatalities\n",
       "0             NaN           NaN       NaN         NaN\n",
       "1             NaN           NaN       NaN         NaN\n",
       "2             NaN           NaN       NaN         NaN\n",
       "3             DAY           NaN       NaN         NaN\n",
       "4             DAY           NaN       NaN         NaN\n",
       "...           ...           ...       ...         ...\n",
       "174099        NaN           NaN       NaN         NaN\n",
       "174100        NaN           NaN       NaN         NaN\n",
       "174101        NaN           NaN       NaN         NaN\n",
       "174102        NaN           NaN       NaN         NaN\n",
       "174103        NaN           NaN       NaN         NaN\n",
       "\n",
       "[696416 rows x 4 columns]"
      ]
     },
     "execution_count": 79,
     "metadata": {},
     "output_type": "execute_result"
    }
   ],
   "source": [
    "Birds_data1=DataFrame (Birds_data[\"Visibility\"],columns=['Visibility'])\n",
    "Birds_data2=DataFrame (Birds_data[\"Precipitation\"],columns=['Precipitation'])\n",
    "Birds_data3=DataFrame (Birds_data[\"Injuries\"],columns=['Injuries'])\n",
    "Birds_data4=DataFrame (Birds_data[\"Fatalities\"],columns=['Fatalities'])\n",
    "frames = [Birds_data1, Birds_data2, Birds_data3, Birds_data4]\n",
    "Birds_data5 = pd.concat(frames)\n",
    "Birds_data5.to_csv(\"Visibility vs Precipitation.csv\", encoding=\"utf-8\", index=False)\n",
    "Birds_data5\n"
   ]
  },
  {
   "cell_type": "code",
   "execution_count": 80,
   "metadata": {},
   "outputs": [
    {
     "data": {
      "text/plain": [
       "array([nan, 'DAY', 'NIGHT', 'DUSK', 'DAWN', 'UNKNOWN'], dtype=object)"
      ]
     },
     "execution_count": 80,
     "metadata": {},
     "output_type": "execute_result"
    }
   ],
   "source": [
    "# get the unique values in Visibility\n",
    "Birds_data[\"Visibility\"].unique()"
   ]
  },
  {
   "cell_type": "code",
   "execution_count": 81,
   "metadata": {},
   "outputs": [
    {
     "data": {
      "text/plain": [
       "DAY        68565\n",
       "NIGHT      32862\n",
       "DUSK        4965\n",
       "DAWN        3515\n",
       "UNKNOWN       26\n",
       "Name: Visibility, dtype: int64"
      ]
     },
     "execution_count": 81,
     "metadata": {},
     "output_type": "execute_result"
    }
   ],
   "source": [
    "# get the total number of unique values in Visibility\n",
    "Birds_data[\"Visibility\"].value_counts()"
   ]
  },
  {
   "cell_type": "code",
   "execution_count": 82,
   "metadata": {},
   "outputs": [
    {
     "data": {
      "image/png": "[encoded data removed]",
      "text/plain": [
       "<Figure size 432x288 with 1 Axes>"
      ]
     },
     "metadata": {
      "needs_background": "light"
     },
     "output_type": "display_data"
    }
   ],
   "source": [
    "# DATA SET 1 for bird strikes due to Visibility\n",
    "Visibility = ['DAY', 'NIGHT', 'DUSK', 'DAWN', 'UNKNOWN']\n",
    "bird_strikes = Birds_data[\"Visibility\"].value_counts()\n",
    "\n",
    "x_axis = np.arange(0, len(Visibility))\n",
    "tick_locations = []\n",
    "\n",
    "for x in x_axis:\n",
    "    tick_locations.append(x)\n",
    "\n",
    "plt.title(\"Visibility vs bird strikes\")\n",
    "plt.xlabel(\"Visibility\")\n",
    "plt.ylabel(\"Number of bird strikes\")\n",
    "\n",
    "plt.xlim(-0.75, len(Visibility)-.25)\n",
    "plt.ylim(0, max(bird_strikes) + 10000)\n",
    "\n",
    "plt.bar(x_axis, bird_strikes, facecolor=\"red\", alpha=0.75, align=\"center\")\n",
    "plt.xticks(tick_locations, Visibility)\n",
    "plt.show()\n",
    "\n",
    "## Based on this bar chart. we can see most of the bird strikes happening under the \"Day\" weather condition.So I think Visibility\n",
    "## will not be the strongest evidence that will result the bird strikes happening.However,there are many bird strikes happening\n",
    "## at night so Visibility could be one of the factors that result bird strikes happening."
   ]
  },
  {
   "cell_type": "code",
   "execution_count": 83,
   "metadata": {},
   "outputs": [
    {
     "data": {
      "text/plain": [
       "array([nan, 'NONE', 'FOG', 'RAIN', 'SNOW', 'FOG, RAIN', 'RAIN, SNOW',\n",
       "       'FOG, SNOW', 'FOG, RAIN, SNOW'], dtype=object)"
      ]
     },
     "execution_count": 83,
     "metadata": {},
     "output_type": "execute_result"
    }
   ],
   "source": [
    "# get the unique values in Precipitation\n",
    "Birds_data[\"Precipitation\"].unique()"
   ]
  },
  {
   "cell_type": "code",
   "execution_count": 84,
   "metadata": {},
   "outputs": [
    {
     "data": {
      "text/plain": [
       "NONE               80512\n",
       "RAIN                5270\n",
       "FOG                 1952\n",
       "SNOW                 313\n",
       "FOG, RAIN            239\n",
       "RAIN, SNOW            19\n",
       "FOG, SNOW             12\n",
       "FOG, RAIN, SNOW        5\n",
       "Name: Precipitation, dtype: int64"
      ]
     },
     "execution_count": 84,
     "metadata": {},
     "output_type": "execute_result"
    }
   ],
   "source": [
    "# get the total number of unique values in Precipitation\n",
    "Birds_data[\"Precipitation\"].value_counts()\n",
    "# None=Clear weather"
   ]
  },
  {
   "cell_type": "code",
   "execution_count": 85,
   "metadata": {},
   "outputs": [
    {
     "data": {
      "image/png": "[encoded data removed]",
      "text/plain": [
       "<Figure size 432x288 with 1 Axes>"
      ]
     },
     "metadata": {
      "needs_background": "light"
     },
     "output_type": "display_data"
    }
   ],
   "source": [
    "# DATA SET 1 for bird strikes due to Precipitation\n",
    "Precipitation = ['Clear', 'FOG', 'RAIN', 'SNOW', 'FOG, RAIN', 'RAIN, SNOW',\n",
    "       'FOG, SNOW', 'FOG, RAIN, SNOW']\n",
    "bird_strikes1 = Birds_data[\"Precipitation\"].value_counts()\n",
    "\n",
    "x_axis = np.arange(0, len(Precipitation))\n",
    "tick_locations = []\n",
    "\n",
    "for x in x_axis:\n",
    "    tick_locations.append(x)\n",
    "\n",
    "plt.title(\"Precipitation vs bird strikes\")\n",
    "plt.xlabel(\"Precipitation\")\n",
    "plt.ylabel(\"Number of bird strikes\")\n",
    "\n",
    "plt.xlim(-0.5, len(Precipitation)-0.5)\n",
    "plt.ylim(0, max(bird_strikes1) + 5000)\n",
    "\n",
    "plt.bar(x_axis, bird_strikes1, facecolor=\"red\", alpha=0.75, align=\"center\")\n",
    "plt.xticks(tick_locations, Precipitation)\n",
    "plt.show()\n",
    "\n",
    "## Based on this bar chart. we can see most of the bird strikes happening under the \"clear\" weather condition.So I think Precipitation\n",
    "## probably will not be the main factors that result bird strikes happening."
   ]
  },
  {
   "cell_type": "code",
   "execution_count": 86,
   "metadata": {},
   "outputs": [
    {
     "data": {
      "text/plain": [
       "array([ nan,   1.,   2.,   7.,   5.,   4.,   3., 100.])"
      ]
     },
     "execution_count": 86,
     "metadata": {},
     "output_type": "execute_result"
    }
   ],
   "source": [
    "# get the unique values in Injuries\n",
    "Birds_data[\"Injuries\"].unique()"
   ]
  },
  {
   "cell_type": "code",
   "execution_count": 87,
   "metadata": {},
   "outputs": [
    {
     "data": {
      "text/plain": [
       "1.0      178\n",
       "2.0       42\n",
       "5.0        2\n",
       "7.0        2\n",
       "4.0        2\n",
       "3.0        2\n",
       "100.0      1\n",
       "Name: Injuries, dtype: int64"
      ]
     },
     "execution_count": 87,
     "metadata": {},
     "output_type": "execute_result"
    }
   ],
   "source": [
    "# get the total number of unique values in Injuries\n",
    "Birds_data[\"Injuries\"].value_counts()"
   ]
  },
  {
   "cell_type": "code",
   "execution_count": 88,
   "metadata": {},
   "outputs": [
    {
     "data": {
      "text/plain": [
       "array([nan,  1.,  2.,  0.,  5.,  8.])"
      ]
     },
     "execution_count": 88,
     "metadata": {},
     "output_type": "execute_result"
    }
   ],
   "source": [
    "# get the unique values in Fatalities\n",
    "Birds_data[\"Fatalities\"].unique()"
   ]
  },
  {
   "cell_type": "code",
   "execution_count": 89,
   "metadata": {},
   "outputs": [
    {
     "data": {
      "text/plain": [
       "0.0    553\n",
       "1.0      7\n",
       "2.0      3\n",
       "8.0      1\n",
       "5.0      1\n",
       "Name: Fatalities, dtype: int64"
      ]
     },
     "execution_count": 89,
     "metadata": {},
     "output_type": "execute_result"
    }
   ],
   "source": [
    "# get the total number of unique values in Fatalities\n",
    "Birds_data[\"Fatalities\"].value_counts()"
   ]
  },
  {
   "cell_type": "code",
   "execution_count": 90,
   "metadata": {},
   "outputs": [],
   "source": [
    "#(Precipitation = None)\n",
    "Birds_data[\"Precipitation\"].value_counts()\n",
    "# None=Clear weather=80512\n",
    "A=80512"
   ]
  },
  {
   "cell_type": "code",
   "execution_count": 91,
   "metadata": {},
   "outputs": [],
   "source": [
    "#(Visibility = dawn+day)\n",
    "# get the total number of unique values in Visibility\n",
    "Birds_data[\"Visibility\"].value_counts()\n",
    "## dawn+day=68565+3515=72080\n",
    "B=72080"
   ]
  },
  {
   "cell_type": "code",
   "execution_count": 92,
   "metadata": {},
   "outputs": [],
   "source": [
    "# Hypothesis 1: More injuries+fatalities happen in fair weather (Precipitation = None)\n",
    "# Hypothesis 2: More injuries+fatalities happen during the day (Visibility = dawn+day)\n",
    "A=80512 #(Precipitation = None)\n",
    "AA=5270+1952+313+239+19+12+5  #=7810 #Precipitation /= None\n",
    "B=72080 #(Visibility = dawn+day)\n",
    "BB=32862+4965+26  #=37853  #(Visibility /= dawn+day)\n",
    "\n",
    "# DATA SET1\n",
    "Precipitation1 = [\"Clear\", \"Not Clear\"] ## Not clear =FOG, RAIN, SNOW \n",
    "members = [A,AA]\n",
    "colors = [\"yellowgreen\", \"red\"]\n",
    "explode = (0, 0.1)\n"
   ]
  },
  {
   "cell_type": "code",
   "execution_count": 93,
   "metadata": {},
   "outputs": [
    {
     "data": {
      "image/png": "[encoded data removed]",
      "text/plain": [
       "<Figure size 432x288 with 1 Axes>"
      ]
     },
     "metadata": {},
     "output_type": "display_data"
    }
   ],
   "source": [
    "plt.title(\"Precipitation(Clear vs not Clear)\")\n",
    "plt.pie(members, explode=explode, labels=Precipitation1, colors=colors,\n",
    "        autopct=\"%1.1f%%\", shadow=True, startangle=90)\n",
    "plt.axis(\"equal\")\n",
    "plt.show()"
   ]
  },
  {
   "cell_type": "code",
   "execution_count": 94,
   "metadata": {},
   "outputs": [],
   "source": [
    "# DATA SET2\n",
    "gyms = [\"dawn+day\", \"not dawn+day\"]\n",
    "members = [B,BB]\n",
    "colors = [\"lightcoral\", \"lightskyblue\"]\n",
    "explode = (0, 0.1)\n"
   ]
  },
  {
   "cell_type": "code",
   "execution_count": 95,
   "metadata": {},
   "outputs": [
    {
     "data": {
      "image/png": "[encoded data removed]",
      "text/plain": [
       "<Figure size 432x288 with 1 Axes>"
      ]
     },
     "metadata": {},
     "output_type": "display_data"
    }
   ],
   "source": [
    "plt.title(\"Visibility(dawn+day vs not dawn+day\")\n",
    "plt.pie(members, explode=explode, labels=gyms, colors=colors,\n",
    "        autopct=\"%1.1f%%\", shadow=True, startangle=90)\n",
    "plt.axis(\"equal\")\n",
    "plt.show()"
   ]
  },
  {
   "cell_type": "code",
   "execution_count": 96,
   "metadata": {},
   "outputs": [],
   "source": [
    "## Concludsions:\n",
    "## 1.There are more injuries+fatalities happen in fair weather (Precipitation = None) and during the day (Visibility = dawn+day).\n",
    "\n",
    "## 2.Based on the first bar chart. we can see most of the bird strikes happening under the \"Day\" weather condition.So I think Visibility\n",
    "## will not be the strongest evidence that will result the bird strikes happening.However,there are many bird strikes happening\n",
    "## at night so Visibility could be one of the factors that result bird strikes happening.\n",
    "\n",
    "## 3.Based on the second bar chart. we can see most of the bird strikes happening under the \"clear\" weather condition.So I think Precipitation\n",
    "## probably will not be the main factors that result bird strikes happening."
   ]
  }
 ],
 "metadata": {
  "kernelspec": {
   "display_name": "Python 3",
   "language": "python",
   "name": "python3"
  },
  "language_info": {
   "codemirror_mode": {
    "name": "ipython",
    "version": 3
   },
   "file_extension": ".py",
   "mimetype": "text/x-python",
   "name": "python",
   "nbconvert_exporter": "python",
   "pygments_lexer": "ipython3",
   "version": "3.6.10"
  }
 },
 "nbformat": 4,
 "nbformat_minor": 4
}
